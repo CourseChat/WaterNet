{
 "cells": [
  {
   "cell_type": "markdown",
   "metadata": {},
   "source": [
    "# Thirty lectures by UC Berkeley and East Bay Municipal Utility District survey how a billion-dollar advanced water and power utility operates today, while planning and building for the next 100 years. \n",
    "- How to incorporate innovations in materials, sensors, data networks, machine learning, and other new technologies for resilience\n",
    "- How to rebuild and redesign aging dams, reservoirs, pipes and pumps\n",
    "- How to build public support for investment in critical, but invisible, infrastructure\n",
    "- Guide to fundamental laws, regulatory rulings, findamental research projects, and research agendas for California water utilities"
   ]
  },
  {
   "cell_type": "markdown",
   "metadata": {},
   "source": [
    "```{note}\n",
    "This book is interactive, which means components of a page pull in real-time data from online sources, perform data analysis, and show the results. Data is open. How code transforms data into answers is clearly visible. The code is visible in active cells, and can be run to replicate the results.\n",
    "```"
   ]
  },
  {
   "cell_type": "markdown",
   "metadata": {},
   "source": [
    "## What A Difference A Week Makes: From Drought to Floods"
   ]
  },
  {
   "cell_type": "markdown",
   "metadata": {},
   "source": [
    "![Total System Storage WY 2023](Images/TotalSystemStorageWY2023Annotated.png)"
   ]
  },
  {
   "cell_type": "markdown",
   "metadata": {},
   "source": [
    "```{note}\n",
    "Six atmospheric rivers brought EBMUD out of drought restrictions. Three more comining in January, with Sierra snow depth doubling, raises system storage to near-capacity. Summer snow melt predictions almost double. Graph shows model predictions for alternate possibilities, from January to October 2023. Similar pattern last year had drought after March, so these predictions are conservative. Most of this rainfall cannot be stored. Some reservoirs must be drained to avoid overtopping. In future editions, today's system storage will draw directly from real-time levels at Pardee and other reservoirs.  Will add estimates of total water flow to Pacific and groundwater replenishment.\n",
    "```"
   ]
  },
  {
   "cell_type": "code",
   "execution_count": 2,
   "metadata": {
    "tags": [
     "hide-input",
     "hide-output"
    ]
   },
   "outputs": [
    {
     "data": {
      "text/plain": [
       "<contextlib.ExitStack at 0x1227ec0d0>"
      ]
     },
     "execution_count": 2,
     "metadata": {},
     "output_type": "execute_result"
    }
   ],
   "source": [
    "from matplotlib import rcParams, cycler\n",
    "import matplotlib.pyplot as plt\n",
    "import numpy as np\n",
    "plt.ion()"
   ]
  },
  {
   "cell_type": "code",
   "execution_count": 13,
   "metadata": {},
   "outputs": [
    {
     "name": "stdout",
     "output_type": "stream",
     "text": [
      "630 Acre-Feet =  205,287,580 gallons\n",
      "Cubic feet =  27,444,864 Cubic Feet\n"
     ]
    }
   ],
   "source": [
    "# Convert EBMUD Board Meet presentation: Total System Storage from AF to gallons or cubic feet\n",
    "\n",
    "# Convert 630 Total Acre-Foot to gallons\n",
    "TAF = 630\n",
    "gallons = 630 * 325853.302098\n",
    "#convert gallons to cubic feet\n",
    "cubic_feet = gallons / 7.48\n",
    "gal = f'{round(gallons):,}'\n",
    "print(\"630 Acre-Feet = \", gal , \"gallons\")\n",
    "print(\"Cubic feet = \", f'{round(cubic_feet):,}', \"Cubic Feet\")\n",
    "# share cell"
   ]
  },
  {
   "cell_type": "code",
   "execution_count": 4,
   "metadata": {
    "tags": [
     "\"hide-input\""
    ]
   },
   "outputs": [
    {
     "name": "stdout",
     "output_type": "stream",
     "text": [
      "Collecting folium\n",
      "  Using cached folium-0.14.0-py2.py3-none-any.whl (102 kB)\n",
      "Collecting branca>=0.6.0\n",
      "  Using cached branca-0.6.0-py3-none-any.whl (24 kB)\n",
      "Requirement already satisfied: jinja2>=2.9 in /Users/johngage/.local/share/virtualenvs/JBook-SLS_r0RZ/lib/python3.11/site-packages (from folium) (3.1.2)\n",
      "Requirement already satisfied: numpy in /Users/johngage/.local/share/virtualenvs/JBook-SLS_r0RZ/lib/python3.11/site-packages (from folium) (1.24.1)\n",
      "Requirement already satisfied: requests in /Users/johngage/.local/share/virtualenvs/JBook-SLS_r0RZ/lib/python3.11/site-packages (from folium) (2.28.2)\n",
      "Requirement already satisfied: MarkupSafe>=2.0 in /Users/johngage/.local/share/virtualenvs/JBook-SLS_r0RZ/lib/python3.11/site-packages (from jinja2>=2.9->folium) (2.1.1)\n",
      "Requirement already satisfied: charset-normalizer<4,>=2 in /Users/johngage/.local/share/virtualenvs/JBook-SLS_r0RZ/lib/python3.11/site-packages (from requests->folium) (3.0.1)\n",
      "Requirement already satisfied: idna<4,>=2.5 in /Users/johngage/.local/share/virtualenvs/JBook-SLS_r0RZ/lib/python3.11/site-packages (from requests->folium) (3.4)\n",
      "Requirement already satisfied: urllib3<1.27,>=1.21.1 in /Users/johngage/.local/share/virtualenvs/JBook-SLS_r0RZ/lib/python3.11/site-packages (from requests->folium) (1.26.14)\n",
      "Requirement already satisfied: certifi>=2017.4.17 in /Users/johngage/.local/share/virtualenvs/JBook-SLS_r0RZ/lib/python3.11/site-packages (from requests->folium) (2022.12.7)\n",
      "Installing collected packages: branca, folium\n",
      "Successfully installed branca-0.6.0 folium-0.14.0\n",
      "Note: you may need to restart the kernel to use updated packages.\n"
     ]
    },
    {
     "data": {
      "text/html": [
       "<div style=\"width:100%;\"><div style=\"position:relative;width:100%;height:0;padding-bottom:60%;\"><span style=\"color:#565656\">Make this Notebook Trusted to load map: File -> Trust Notebook</span><iframe srcdoc=\"&lt;!DOCTYPE html&gt;\n",
       "&lt;html&gt;\n",
       "&lt;head&gt;\n",
       "    \n",
       "    &lt;meta http-equiv=&quot;content-type&quot; content=&quot;text/html; charset=UTF-8&quot; /&gt;\n",
       "    \n",
       "        &lt;script&gt;\n",
       "            L_NO_TOUCH = false;\n",
       "            L_DISABLE_3D = false;\n",
       "        &lt;/script&gt;\n",
       "    \n",
       "    &lt;style&gt;html, body {width: 100%;height: 100%;margin: 0;padding: 0;}&lt;/style&gt;\n",
       "    &lt;style&gt;#map {position:absolute;top:0;bottom:0;right:0;left:0;}&lt;/style&gt;\n",
       "    &lt;script src=&quot;https://cdn.jsdelivr.net/npm/leaflet@1.9.3/dist/leaflet.js&quot;&gt;&lt;/script&gt;\n",
       "    &lt;script src=&quot;https://code.jquery.com/jquery-1.12.4.min.js&quot;&gt;&lt;/script&gt;\n",
       "    &lt;script src=&quot;https://cdn.jsdelivr.net/npm/bootstrap@5.2.2/dist/js/bootstrap.bundle.min.js&quot;&gt;&lt;/script&gt;\n",
       "    &lt;script src=&quot;https://cdnjs.cloudflare.com/ajax/libs/Leaflet.awesome-markers/2.0.2/leaflet.awesome-markers.js&quot;&gt;&lt;/script&gt;\n",
       "    &lt;link rel=&quot;stylesheet&quot; href=&quot;https://cdn.jsdelivr.net/npm/leaflet@1.9.3/dist/leaflet.css&quot;/&gt;\n",
       "    &lt;link rel=&quot;stylesheet&quot; href=&quot;https://cdn.jsdelivr.net/npm/bootstrap@5.2.2/dist/css/bootstrap.min.css&quot;/&gt;\n",
       "    &lt;link rel=&quot;stylesheet&quot; href=&quot;https://netdna.bootstrapcdn.com/bootstrap/3.0.0/css/bootstrap.min.css&quot;/&gt;\n",
       "    &lt;link rel=&quot;stylesheet&quot; href=&quot;https://cdn.jsdelivr.net/npm/@fortawesome/fontawesome-free@6.2.0/css/all.min.css&quot;/&gt;\n",
       "    &lt;link rel=&quot;stylesheet&quot; href=&quot;https://cdnjs.cloudflare.com/ajax/libs/Leaflet.awesome-markers/2.0.2/leaflet.awesome-markers.css&quot;/&gt;\n",
       "    &lt;link rel=&quot;stylesheet&quot; href=&quot;https://cdn.jsdelivr.net/gh/python-visualization/folium/folium/templates/leaflet.awesome.rotate.min.css&quot;/&gt;\n",
       "    \n",
       "            &lt;meta name=&quot;viewport&quot; content=&quot;width=device-width,\n",
       "                initial-scale=1.0, maximum-scale=1.0, user-scalable=no&quot; /&gt;\n",
       "            &lt;style&gt;\n",
       "                #map_e8e1feb028bb10a28bada8cc1b3c9107 {\n",
       "                    position: relative;\n",
       "                    width: 100.0%;\n",
       "                    height: 100.0%;\n",
       "                    left: 0.0%;\n",
       "                    top: 0.0%;\n",
       "                }\n",
       "                .leaflet-container { font-size: 1rem; }\n",
       "            &lt;/style&gt;\n",
       "        \n",
       "&lt;/head&gt;\n",
       "&lt;body&gt;\n",
       "    \n",
       "    \n",
       "            &lt;div class=&quot;folium-map&quot; id=&quot;map_e8e1feb028bb10a28bada8cc1b3c9107&quot; &gt;&lt;/div&gt;\n",
       "        \n",
       "&lt;/body&gt;\n",
       "&lt;script&gt;\n",
       "    \n",
       "    \n",
       "            var map_e8e1feb028bb10a28bada8cc1b3c9107 = L.map(\n",
       "                &quot;map_e8e1feb028bb10a28bada8cc1b3c9107&quot;,\n",
       "                {\n",
       "                    center: [37.701, -121.073],\n",
       "                    crs: L.CRS.EPSG3857,\n",
       "                    zoom: 8,\n",
       "                    zoomControl: true,\n",
       "                    preferCanvas: false,\n",
       "                }\n",
       "            );\n",
       "\n",
       "            \n",
       "\n",
       "        \n",
       "    \n",
       "            var tile_layer_9ca10ed4aeddc7586b6f62161c26c589 = L.tileLayer(\n",
       "                &quot;https://stamen-tiles-{s}.a.ssl.fastly.net/terrain/{z}/{x}/{y}.jpg&quot;,\n",
       "                {&quot;attribution&quot;: &quot;Map tiles by \\u003ca target=\\&quot;_blank\\&quot; href=\\&quot;http://stamen.com\\&quot;\\u003eStamen Design\\u003c/a\\u003e, under \\u003ca target=\\&quot;_blank\\&quot; href=\\&quot;http://creativecommons.org/licenses/by/3.0\\&quot;\\u003eCC BY 3.0\\u003c/a\\u003e. Data by \\u0026copy; \\u003ca target=\\&quot;_blank\\&quot; href=\\&quot;http://openstreetmap.org\\&quot;\\u003eOpenStreetMap\\u003c/a\\u003e, under \\u003ca target=\\&quot;_blank\\&quot; href=\\&quot;http://creativecommons.org/licenses/by-sa/3.0\\&quot;\\u003eCC BY SA\\u003c/a\\u003e.&quot;, &quot;detectRetina&quot;: false, &quot;maxNativeZoom&quot;: 18, &quot;maxZoom&quot;: 18, &quot;minZoom&quot;: 0, &quot;noWrap&quot;: false, &quot;opacity&quot;: 1, &quot;subdomains&quot;: &quot;abc&quot;, &quot;tms&quot;: false}\n",
       "            ).addTo(map_e8e1feb028bb10a28bada8cc1b3c9107);\n",
       "        \n",
       "    \n",
       "            var marker_39410acf6ac95dbadb1912482ba2b7e6 = L.marker(\n",
       "                [38.2574, -120.8502],\n",
       "                {}\n",
       "            ).addTo(map_e8e1feb028bb10a28bada8cc1b3c9107);\n",
       "        \n",
       "    \n",
       "            var icon_22d4ac1412584380760e45be1ae579f8 = L.AwesomeMarkers.icon(\n",
       "                {&quot;extraClasses&quot;: &quot;fa-rotate-0&quot;, &quot;icon&quot;: &quot;cloud&quot;, &quot;iconColor&quot;: &quot;white&quot;, &quot;markerColor&quot;: &quot;blue&quot;, &quot;prefix&quot;: &quot;glyphicon&quot;}\n",
       "            );\n",
       "            marker_39410acf6ac95dbadb1912482ba2b7e6.setIcon(icon_22d4ac1412584380760e45be1ae579f8);\n",
       "        \n",
       "    \n",
       "        var popup_20665c14a237165a90bf342d945cd39f = L.popup({&quot;maxWidth&quot;: &quot;100%&quot;});\n",
       "\n",
       "        \n",
       "            \n",
       "                var html_63f73053c47311f0515136e3fc5b555f = $(`&lt;div id=&quot;html_63f73053c47311f0515136e3fc5b555f&quot; style=&quot;width: 100.0%; height: 100.0%;&quot;&gt;Pardee Dam&lt;/div&gt;`)[0];\n",
       "                popup_20665c14a237165a90bf342d945cd39f.setContent(html_63f73053c47311f0515136e3fc5b555f);\n",
       "            \n",
       "        \n",
       "\n",
       "        marker_39410acf6ac95dbadb1912482ba2b7e6.bindPopup(popup_20665c14a237165a90bf342d945cd39f)\n",
       "        ;\n",
       "\n",
       "        \n",
       "    \n",
       "    \n",
       "            var marker_63820e31b6036d02777004c56807aaeb = L.marker(\n",
       "                [37.8922222, -122.2011111],\n",
       "                {}\n",
       "            ).addTo(map_e8e1feb028bb10a28bada8cc1b3c9107);\n",
       "        \n",
       "    \n",
       "            var icon_4bae53e011c8c92d8788a7843c8b1b16 = L.AwesomeMarkers.icon(\n",
       "                {&quot;extraClasses&quot;: &quot;fa-rotate-0&quot;, &quot;icon&quot;: &quot;info-sign&quot;, &quot;iconColor&quot;: &quot;white&quot;, &quot;markerColor&quot;: &quot;blue&quot;, &quot;prefix&quot;: &quot;glyphicon&quot;}\n",
       "            );\n",
       "            marker_63820e31b6036d02777004c56807aaeb.setIcon(icon_4bae53e011c8c92d8788a7843c8b1b16);\n",
       "        \n",
       "    \n",
       "        var popup_42fb6507d7bcd689c68220a51ee4a4ee = L.popup({&quot;maxWidth&quot;: &quot;100%&quot;});\n",
       "\n",
       "        \n",
       "            \n",
       "                var html_0a180ef2c791f989ddd6c979b7ba5cad = $(`&lt;div id=&quot;html_0a180ef2c791f989ddd6c979b7ba5cad&quot; style=&quot;width: 100.0%; height: 100.0%;&quot;&gt;Orinda Water Treatment Plant&lt;/div&gt;`)[0];\n",
       "                popup_42fb6507d7bcd689c68220a51ee4a4ee.setContent(html_0a180ef2c791f989ddd6c979b7ba5cad);\n",
       "            \n",
       "        \n",
       "\n",
       "        marker_63820e31b6036d02777004c56807aaeb.bindPopup(popup_42fb6507d7bcd689c68220a51ee4a4ee)\n",
       "        ;\n",
       "\n",
       "        \n",
       "    \n",
       "    \n",
       "            var marker_f1f7d968f1646d6e46a42a29b0bbb0d9 = L.marker(\n",
       "                [37.8016, -122.2734],\n",
       "                {}\n",
       "            ).addTo(map_e8e1feb028bb10a28bada8cc1b3c9107);\n",
       "        \n",
       "    \n",
       "            var icon_018878bd27a3fac007dea030e8f5f726 = L.AwesomeMarkers.icon(\n",
       "                {&quot;extraClasses&quot;: &quot;fa-rotate-0&quot;, &quot;icon&quot;: &quot;info-sign&quot;, &quot;iconColor&quot;: &quot;white&quot;, &quot;markerColor&quot;: &quot;red&quot;, &quot;prefix&quot;: &quot;glyphicon&quot;}\n",
       "            );\n",
       "            marker_f1f7d968f1646d6e46a42a29b0bbb0d9.setIcon(icon_018878bd27a3fac007dea030e8f5f726);\n",
       "        \n",
       "    \n",
       "        var popup_2f042e03fde547f939976cd44170fced = L.popup({&quot;maxWidth&quot;: &quot;100%&quot;});\n",
       "\n",
       "        \n",
       "            \n",
       "                var html_6e9f5155ce131c572029685f9b69a685 = $(`&lt;div id=&quot;html_6e9f5155ce131c572029685f9b69a685&quot; style=&quot;width: 100.0%; height: 100.0%;&quot;&gt;EBMUD Headquarters&lt;/div&gt;`)[0];\n",
       "                popup_2f042e03fde547f939976cd44170fced.setContent(html_6e9f5155ce131c572029685f9b69a685);\n",
       "            \n",
       "        \n",
       "\n",
       "        marker_f1f7d968f1646d6e46a42a29b0bbb0d9.bindPopup(popup_2f042e03fde547f939976cd44170fced)\n",
       "        ;\n",
       "\n",
       "        \n",
       "    \n",
       "&lt;/script&gt;\n",
       "&lt;/html&gt;\" style=\"position:absolute;width:100%;height:100%;left:0;top:0;border:none !important;\" allowfullscreen webkitallowfullscreen mozallowfullscreen></iframe></div></div>"
      ],
      "text/plain": [
       "<folium.folium.Map at 0x1229b9850>"
      ]
     },
     "execution_count": 4,
     "metadata": {},
     "output_type": "execute_result"
    }
   ],
   "source": [
    " %pip install folium\n",
    "import folium\n",
    "m = folium.Map(\n",
    "    location=[37.701, -121.073],\n",
    "    zoom_start=8,\n",
    "    tiles='Stamen Terrain'\n",
    ")\n",
    "\n",
    "folium.Marker(\n",
    "    location=[38.2574, -120.8502],\n",
    "    popup='Pardee Dam',\n",
    "    icon=folium.Icon(icon='cloud')\n",
    ").add_to(m)\n",
    "\n",
    "folium.Marker(\n",
    "    location=[37.8922222, -122.2011111],\n",
    "    popup='Orinda Water Treatment Plant',\n",
    "    icon=folium.Icon(color='blue')\n",
    ").add_to(m)\n",
    "\n",
    "folium.Marker(\n",
    "    location=[37.8016, -122.2734],\n",
    "    popup='EBMUD Headquarters',\n",
    "    icon=folium.Icon(color='red', icon='info-sign')\n",
    ").add_to(m)\n",
    "\n",
    "m"
   ]
  },
  {
   "cell_type": "code",
   "execution_count": 5,
   "metadata": {},
   "outputs": [
    {
     "name": "stdout",
     "output_type": "stream",
     "text": [
      "d1 = 12/01/2023\n",
      "d2 = January 12, 2023 Thursday\n",
      "d3 = 01/12/23\n",
      "d4 = Jan-12-2023\n"
     ]
    }
   ],
   "source": [
    "# HIDDEN\n",
    "from datetime import date\n",
    "\n",
    "today = date.today()\n",
    "\n",
    "# dd/mm/YY\n",
    "d1 = today.strftime(\"%d/%m/%Y\")\n",
    "print(\"d1 =\", d1)\n",
    "\n",
    "# Textual month, day and year\t\n",
    "d2 = today.strftime(\"%B %d, %Y %A\")\n",
    "print(\"d2 =\", d2)\n",
    "\n",
    "# mm/dd/y\n",
    "d3 = today.strftime(\"%m/%d/%y\")\n",
    "print(\"d3 =\", d3)\n",
    "\n",
    "# Month abbreviation, day and year\t\n",
    "d4 = today.strftime(\"%b-%d-%Y\")\n",
    "print(\"d4 =\", d4)"
   ]
  },
  {
   "cell_type": "code",
   "execution_count": 6,
   "metadata": {},
   "outputs": [
    {
     "name": "stdout",
     "output_type": "stream",
     "text": [
      "now = 2023-01-12 19:28:56.018534\n",
      "date and time = 12/01/2023 Thursday 19:28:56\n"
     ]
    }
   ],
   "source": [
    "from datetime import datetime\n",
    "\n",
    "# datetime object containing current date and time\n",
    "now = datetime.now()\n",
    " \n",
    "print(\"now =\", now)\n",
    "\n",
    "# dd/mm/YY H:M:S\n",
    "dt_string = now.strftime(\"%d/%m/%Y %A %H:%M:%S\")\n",
    "print(\"date and time =\", dt_string)"
   ]
  },
  {
   "cell_type": "code",
   "execution_count": 7,
   "metadata": {},
   "outputs": [
    {
     "name": "stdout",
     "output_type": "stream",
     "text": [
      "now 2023-01-12 19:28:57.700526\n",
      "Today's date is:  2023-01-12 19:28:57.701052\n",
      "now2 = 2023-01-12 19:28:57.701010\n",
      "date and time = 2023-01-12 Thursday 19:28:57 yearday=12 Timezone=  \n"
     ]
    }
   ],
   "source": [
    "# Import date class from datetime module\n",
    "from datetime import datetime\n",
    "print(\"now\",datetime.now())\n",
    "#print(\"time\",datetime.time())\n",
    "# datetime object containing current date and time\n",
    "now = datetime.now()\n",
    "datetime.today()\n",
    "\n",
    "today = datetime.today()\n",
    "print(\"Today's date is: \", today)\n",
    "\n",
    " \n",
    "print(\"now2 =\", now)\n",
    "\n",
    "dt_string = now.strftime(\"%Y-%m-%d %A %H:%M:%S yearday=%-j Timezone= %Z \")\n",
    "print(\"date and time =\", dt_string)\n",
    "# Returns the current local date"
   ]
  },
  {
   "cell_type": "markdown",
   "metadata": {},
   "source": [
    "Invisible investment\n",
    ":::{contents}\n",
    ":::\n",
    "![Underground](Images/DM.cover.png)\n",
    "- Every water utility around the world invests to bring clean water to everyone.  Existing subsurface capital investments are in the trillions of dollars. But designs and budgets that worked in the past are no longer sufficient for maintaining global water supplies. The infrastructure is failing. Here's how to approach needed change.\n",
    "## Without underground infrastructure, surface infrastructure does not work\n",
    "![Looking Up](Images/DM.look.up.png)\n",
    "## Annotated lectures given in Fall of 2022 for UC Berkeley Civil Engineering 112A: Water and Wastewater Engineering. Professor Kenichi Soga, assisted by post-doctoral students Wonjun Cha, Shi-Hung Chiu.\n",
    "### Water utilities require major new investments to keep clean water flowing. We must rebuild and extend our critical water infrastructure now.  But this investment is not yet funded. \n",
    "- Past cost projections are proving to be insufficient due to accelerating challenges of climate change and aging capital plant.\n",
    "- Dams, reservoirs, pipes, pumps, water collection systems and water and waste water purification **systems will require from two to five times more investment** than today's conservative financial models anticipate. [^1]\n",
    "[^1]: AWWA and ASME estimates\n",
    "- This site builds increasingly detailed cost projections for complete system renewal. With current technologies, rebuilding a system similar to EBMUD--1.5 million daily users, \\$1 billion annual expenses, 80 MGD flow, 250 MG storage--over a 25-year period, will cost $20 billion in 2022 dollars. \n",
    "- We will outline the necessary campaign to finance this cost: by tax, by rate change, by bond issue, by cost savings, by redesign of capital plant.  Financing is possible only by building an accurate estimate of costs, to enable investors to make an accurate comparison to the costs of not rebuilding. Rebuilding at today's rate will take 140 years.[^2]\n",
    "[^2]: From EBMUD Capital Investments Plan, 2022--at rate of 30 pipeline miles replaced each year, over 4,500 miles of existing distribtion pipe network\n",
    "- But, if innovation could cut projected costs by a factor of two, the challenge to find necessary investment can be met. That is, save $10 billion of needed investment, and public investment is attractive. \n",
    "- Could fundamental realignment of all entities building and maintaining underground critical infrastructure change how we invest?  That is, can we merge public and investor-owned utilities? \n",
    "- As examples, examine urban infrastructure in cities that built new utility systems in the past thirty years.[^3]\n",
    "[^3]: Hong Kong, Singapore, Putrajaya [Water Utilities](https://en.wikipedia.org/wiki/Water_supply_and_sanitation_in_Malaysia), [United Nations Water Joint Monitoring](https://washdata.org/), Tokyo Municipal\n",
    "### Faced with massive challenges from climate change and ancient infrastructure, our utilities battle each day to protect our health. But hundreds of water main breaks a day in California show we are losing ground. What is our best investment?\n",
    "- Today's **aging, failing infrastructure** requires capital investment beyond existing budgets. Even the best-managed utilities see unanticipated shortfalls due to changing weather patterns, mounting energy costs, shifting water sources, new pollution challenges, and shocks to supply chains.\n",
    "  - **These investments can not be avoided or postponed.** (Think Ukraine this winter) (Insert total past capital investment, total required annual rebuilding estimates: US, EU, China, India, Sub-Saharan Africa, Japan, Korea, Brazil, Middle East)"
   ]
  },
  {
   "cell_type": "markdown",
   "metadata": {},
   "source": []
  },
  {
   "cell_type": "markdown",
   "metadata": {},
   "source": []
  }
 ],
 "metadata": {
  "kernelspec": {
   "display_name": "Python 3 (ipykernel)",
   "language": "python",
   "name": "python3"
  },
  "language_info": {
   "codemirror_mode": {
    "name": "ipython",
    "version": 3
   },
   "file_extension": ".py",
   "mimetype": "text/x-python",
   "name": "python",
   "nbconvert_exporter": "python",
   "pygments_lexer": "ipython3",
   "version": "3.11.1"
  },
  "vscode": {
   "interpreter": {
    "hash": "0109b08346e1cf7593cfbe1b1dc6fe09cb21b7e35e10b42143aa1e7e5d8eb4e2"
   }
  }
 },
 "nbformat": 4,
 "nbformat_minor": 2
}
