{
 "cells": [
  {
   "cell_type": "code",
   "execution_count": null,
   "id": "13b8b300",
   "metadata": {},
   "outputs": [],
   "source": [
    "import PyPDF2\n",
    "\n",
    "# open the pdf file\n",
    "with open('document.pdf', 'rb') as file:\n",
    "    # create pdf reader object\n",
    "    reader = PyPDF2.PdfFileReader(file)\n",
    "    # get the first page\n",
    "    page = reader.getPage(0)\n",
    "    # extract text from page\n",
    "    print(page.extractText())\n"
   ]
  },
  {
   "cell_type": "code",
   "execution_count": null,
   "id": "dc5c03e9",
   "metadata": {},
   "outputs": [],
   "source": [
    "from pdfminer.pdfinterp import PDFResourceManager, PDFPageInterpreter\n",
    "from pdfminer.converter import TextConverter\n",
    "from pdfminer.layout import LAParams\n",
    "from pdfminer.pdfpage import PDFPage\n",
    "from io import StringIO\n",
    "\n",
    "def extract_text_from_pdf(pdf_path):\n",
    "    resource_manager = PDFResourceManager()\n",
    "    string_io = StringIO()\n",
    "    converter = TextConverter(resource_manager, string_io, codec='utf-8', laparams=LAParams())\n",
    "    page_interpreter = PDFPageInterpreter(resource_manager, converter)\n",
    "\n",
    "    with open(pdf_path, 'rb') as fh:\n",
    "        for page in PDFPage.get_pages(fh, caching=True, check_extractable=True):\n",
    "            page_interpreter.process_page(page)\n",
    "\n",
    "        text = string_io.getvalue()\n",
    "\n",
    "    # close open handles\n",
    "    converter.close()\n",
    "    string_io.close()\n",
    "\n",
    "    if text:\n",
    "        return text\n",
    "\n",
    "print(extract_text_from_pdf(\"document.pdf\"))\n"
   ]
  },
  {
   "cell_type": "code",
   "execution_count": null,
   "id": "da92f758",
   "metadata": {},
   "outputs": [],
   "source": [
    "from slate3k import PDF\n",
    "\n",
    "with open(\"document.pdf\", \"rb\") as f:\n",
    "    pdf = PDF(f)\n",
    "    print(pdf[0])\n"
   ]
  },
  {
   "cell_type": "code",
   "execution_count": 3,
   "id": "86711712",
   "metadata": {},
   "outputs": [
    {
     "name": "stdout",
     "output_type": "stream",
     "text": [
      "Collecting pypdf2\n",
      "  Using cached pypdf2-3.0.1-py3-none-any.whl (232 kB)\n",
      "Installing collected packages: pypdf2\n",
      "Successfully installed pypdf2-3.0.1\n"
     ]
    }
   ],
   "source": [
    "!pip install pypdf2"
   ]
  },
  {
   "cell_type": "code",
   "execution_count": 2,
   "id": "abbe5a7e",
   "metadata": {
    "scrolled": true
   },
   "outputs": [
    {
     "name": "stdout",
     "output_type": "stream",
     "text": [
      "Jbook (set by /Users/johngage/JBook/.python-version)\r\n"
     ]
    }
   ],
   "source": [
    "!pyenv version"
   ]
  },
  {
   "cell_type": "code",
   "execution_count": 5,
   "id": "bb95ecfb",
   "metadata": {},
   "outputs": [
    {
     "name": "stdout",
     "output_type": "stream",
     "text": [
      "alabaster==0.7.12\r\n",
      "anyio==3.6.2\r\n",
      "appnope==0.1.3\r\n",
      "argon2-cffi==21.3.0\r\n",
      "argon2-cffi-bindings==21.2.0\r\n",
      "asttokens==2.2.1\r\n",
      "attrs==21.4.0\r\n",
      "Babel==2.11.0\r\n",
      "backcall==0.2.0\r\n",
      "beautifulsoup4==4.11.1\r\n",
      "bleach==5.0.1\r\n",
      "branca==0.6.0\r\n",
      "certifi==2022.12.7\r\n",
      "cffi==1.15.1\r\n",
      "charset-normalizer==3.0.1\r\n",
      "click==8.1.3\r\n",
      "colorama==0.4.6\r\n",
      "comm==0.1.2\r\n",
      "contourpy==1.0.6\r\n",
      "cycler==0.11.0\r\n",
      "debugpy==1.6.5\r\n",
      "decorator==5.1.1\r\n",
      "defusedxml==0.7.1\r\n",
      "docutils==0.17.1\r\n",
      "entrypoints==0.4\r\n",
      "executing==1.2.0\r\n",
      "fastjsonschema==2.16.2\r\n",
      "folium==0.14.0\r\n",
      "fonttools==4.38.0\r\n",
      "gitdb==4.0.10\r\n",
      "GitPython==3.1.30\r\n",
      "idna==3.4\r\n",
      "imagesize==1.4.1\r\n",
      "importlib-metadata==6.0.0\r\n",
      "ipykernel==6.20.1\r\n",
      "ipython==8.8.0\r\n",
      "ipython-genutils==0.2.0\r\n",
      "ipywidgets==7.7.2\r\n",
      "jedi==0.18.2\r\n",
      "Jinja2==3.1.2\r\n",
      "jsonschema==3.2.0\r\n",
      "jupyter==1.0.0\r\n",
      "jupyter-book==0.13.1\r\n",
      "jupyter-cache==0.4.3\r\n",
      "jupyter-console==6.4.4\r\n",
      "jupyter-events==0.6.3\r\n",
      "jupyter-server-mathjax==0.2.6\r\n",
      "jupyter-sphinx==0.3.2\r\n",
      "jupyter_client==7.4.9\r\n",
      "jupyter_core==5.1.3\r\n",
      "jupyter_server==2.0.6\r\n",
      "jupyter_server_terminals==0.4.4\r\n",
      "jupyterlab-pygments==0.2.2\r\n",
      "jupyterlab-widgets==1.1.1\r\n",
      "kiwisolver==1.4.4\r\n",
      "latexcodec==2.0.1\r\n",
      "linkify-it-py==1.0.3\r\n",
      "lxml==4.9.2\r\n",
      "markdown-it-py==1.1.0\r\n",
      "MarkupSafe==2.1.1\r\n",
      "matplotlib==3.6.3\r\n",
      "matplotlib-inline==0.1.6\r\n",
      "mdit-py-plugins==0.2.8\r\n",
      "mistune==0.8.4\r\n",
      "myst-nb==0.13.2\r\n",
      "myst-parser==0.15.2\r\n",
      "nbclassic==0.4.8\r\n",
      "nbclient==0.5.13\r\n",
      "nbconvert==6.5.4\r",
      "\r\n",
      "nbdime==3.1.1\r\n",
      "nbformat==5.7.3\r\n",
      "nest-asyncio==1.5.6\r\n",
      "notebook==6.5.2\r\n",
      "notebook_shim==0.2.2\r\n",
      "numpy==1.24.1\r\n",
      "packaging==23.0\r\n",
      "pandocfilters==1.5.0\r\n",
      "parso==0.8.3\r\n",
      "pexpect==4.8.0\r\n",
      "pickleshare==0.7.5\r\n",
      "Pillow==9.4.0\r\n",
      "platformdirs==2.6.2\r\n",
      "prometheus-client==0.15.0\r\n",
      "prompt-toolkit==3.0.36\r\n",
      "psutil==5.9.4\r\n",
      "ptyprocess==0.7.0\r\n",
      "pure-eval==0.2.2\r\n",
      "pybtex==0.24.0\r\n",
      "pybtex-docutils==1.0.2\r\n",
      "pycparser==2.21\r\n",
      "pydata-sphinx-theme==0.8.1\r\n",
      "Pygments==2.14.0\r\n",
      "pyparsing==3.0.9\r\n",
      "PyPDF2==3.0.1\r\n",
      "pyrsistent==0.19.3\r\n",
      "python-dateutil==2.8.2\r\n",
      "python-json-logger==2.0.4\r\n",
      "pytz==2022.7\r\n",
      "PyYAML==6.0\r\n",
      "pyzmq==25.0.0\r\n",
      "qtconsole==5.4.0\r\n",
      "QtPy==2.3.0\r\n",
      "requests==2.28.2\r\n",
      "rfc3339-validator==0.1.4\r\n",
      "rfc3986-validator==0.1.1\r\n",
      "Send2Trash==1.8.0\r\n",
      "six==1.16.0\r\n",
      "smmap==5.0.0\r\n",
      "sniffio==1.3.0\r\n",
      "snowballstemmer==2.2.0\r\n",
      "soupsieve==2.3.2.post1\r\n",
      "Sphinx==4.5.0\r\n",
      "sphinx-book-theme==0.3.3\r\n",
      "sphinx-comments==0.0.3\r\n",
      "sphinx-copybutton==0.5.1\r\n",
      "sphinx-external-toc==0.2.4\r\n",
      "sphinx-jupyterbook-latex==0.4.7\r\n",
      "sphinx-multitoc-numbering==0.1.3\r\n",
      "sphinx-thebe==0.1.2\r\n",
      "sphinx-togglebutton==0.3.2\r\n",
      "sphinx_design==0.1.0\r\n",
      "sphinxcontrib-bibtex==2.5.0\r\n",
      "sphinxcontrib-devhelp==1.0.2\r\n",
      "sphinxcontrib-htmlhelp==2.0.0\r\n",
      "sphinxcontrib-jsmath==1.0.1\r\n",
      "sphinxcontrib-qthelp==1.0.3\r\n",
      "sphinxcontrib-serializinghtml==1.1.5\r\n",
      "sphinxcontrib.applehelp==1.0.3\r\n",
      "SQLAlchemy==1.4.46\r\n",
      "stack-data==0.6.2\r\n",
      "terminado==0.17.1\r\n",
      "tinycss2==1.2.1\r\n",
      "tornado==6.2\r\n",
      "traitlets==5.8.1\r\n",
      "uc-micro-py==1.0.1\r\n",
      "urllib3==1.26.14\r\n",
      "wcwidth==0.2.5\r\n",
      "webencodings==0.5.1\r\n",
      "websocket-client==1.4.2\r\n",
      "widgetsnbextension==3.6.1\r\n",
      "zipp==3.11.0\r\n"
     ]
    }
   ],
   "source": [
    "!pip freeze"
   ]
  },
  {
   "cell_type": "code",
   "execution_count": 13,
   "id": "feed0bd1",
   "metadata": {},
   "outputs": [
    {
     "name": "stdout",
     "output_type": "stream",
     "text": [
      "  system\r\n",
      "  3.11.1\r\n",
      "  3.11.1/envs/JBook\r\n",
      "  JBook\r\n"
     ]
    }
   ],
   "source": [
    "!pyenv versions"
   ]
  },
  {
   "cell_type": "code",
   "execution_count": 14,
   "id": "22146344",
   "metadata": {},
   "outputs": [
    {
     "name": "stdout",
     "output_type": "stream",
     "text": [
      "/Users/johngage/.pyenv/versions/Jbook/bin/python\r\n"
     ]
    }
   ],
   "source": [
    "!pyenv which python"
   ]
  },
  {
   "cell_type": "code",
   "execution_count": 15,
   "id": "f4fe07db",
   "metadata": {},
   "outputs": [
    {
     "name": "stdout",
     "output_type": "stream",
     "text": [
      "JBook\r\n"
     ]
    }
   ],
   "source": [
    "!pyenv global "
   ]
  },
  {
   "cell_type": "code",
   "execution_count": 9,
   "id": "4979956c",
   "metadata": {},
   "outputs": [],
   "source": [
    "!pyenv global JBook"
   ]
  },
  {
   "cell_type": "code",
   "execution_count": 16,
   "id": "7cfa7d94",
   "metadata": {},
   "outputs": [
    {
     "ename": "ModuleNotFoundError",
     "evalue": "No module named 'pypdf2'",
     "output_type": "error",
     "traceback": [
      "\u001b[0;31m---------------------------------------------------------------------------\u001b[0m",
      "\u001b[0;31mModuleNotFoundError\u001b[0m                       Traceback (most recent call last)",
      "Cell \u001b[0;32mIn[16], line 3\u001b[0m\n\u001b[1;32m      1\u001b[0m \u001b[38;5;66;03m#use urllib to download a PDF file from a remote web site and extract the text using the PyPDF2 library:\u001b[39;00m\n\u001b[1;32m      2\u001b[0m \u001b[38;5;28;01mimport\u001b[39;00m \u001b[38;5;21;01murllib\u001b[39;00m\u001b[38;5;21;01m.\u001b[39;00m\u001b[38;5;21;01mrequest\u001b[39;00m\n\u001b[0;32m----> 3\u001b[0m \u001b[38;5;28;01mimport\u001b[39;00m \u001b[38;5;21;01mpypdf2\u001b[39;00m\n\u001b[1;32m      5\u001b[0m \u001b[38;5;66;03m# download the pdf file\u001b[39;00m\n\u001b[1;32m      6\u001b[0m \u001b[38;5;66;03m#url = 'https://www.example.com/document.pdf'\u001b[39;00m\n\u001b[1;32m      7\u001b[0m url \u001b[38;5;241m=\u001b[39m \u001b[38;5;124m'\u001b[39m\u001b[38;5;124mhttps://bcourses.berkeley.edu/courses/1516536/files/folder/Module\u001b[39m\u001b[38;5;132;01m%200%\u001b[39;00m\u001b[38;5;124m20\u001b[39m\u001b[38;5;124m%\u001b[39m\u001b[38;5;124m20Introduction?preview=83922060\u001b[39m\u001b[38;5;124m'\u001b[39m\n",
      "\u001b[0;31mModuleNotFoundError\u001b[0m: No module named 'pypdf2'"
     ]
    }
   ],
   "source": [
    "#use urllib to download a PDF file from a remote web site and extract the text using the PyPDF2 library:\n",
    "import urllib.request\n",
    "import pypdf2\n",
    "\n",
    "# download the pdf file\n",
    "#url = 'https://www.example.com/document.pdf'\n",
    "url = 'https://bcourses.berkeley.edu/courses/1516536/files/folder/Module%200%20%20Introduction?preview=83922060'\n",
    "urllib.request.urlretrieve(url, 'document.pdf')\n",
    "\n",
    "# open the pdf file\n",
    "with open('document.pdf', 'rb') as file:\n",
    "    # create pdf reader object\n",
    "    reader = PyPDF2.PdfFileReader(file)\n",
    "    # get the first page\n",
    "    page = reader.getPage(0)\n",
    "    # extract text from page\n",
    "    print(page.extractText())\n"
   ]
  },
  {
   "cell_type": "code",
   "execution_count": null,
   "id": "b168b05b",
   "metadata": {},
   "outputs": [],
   "source": []
  },
  {
   "cell_type": "code",
   "execution_count": null,
   "id": "60ab34fe",
   "metadata": {},
   "outputs": [],
   "source": [
    "#use the requests library in Python to download the file and pass it to the pdfminer library directly:\n",
    "import requests\n",
    "from io import BytesIO\n",
    "from pdfminer.pdfinterp import PDFResourceManager, PDFPageInterpreter\n",
    "from pdfminer.converter import TextConverter\n",
    "from pdfminer.layout import LAParams\n",
    "from pdfminer.pdfpage import PDFPage\n",
    "\n",
    "def extract_text_from_pdf_url(url):\n",
    "    response = requests.get(url)\n",
    "    pdf_file = BytesIO(response.content)\n",
    "\n",
    "    resource_manager = PDFResourceManager()\n",
    "    string_io = StringIO()\n",
    "    converter = TextConverter(resource_manager, string_io, codec='utf-8', laparams=LAParams())\n",
    "    page_interpreter = PDFPageInterpreter(resource_manager, converter)\n",
    "\n",
    "    for page in PDFPage.get_pages(pdf_file, caching=True, check_extractable=True):\n",
    "        page_interpreter.process_page(page)\n",
    "\n",
    "    text = string_io.getvalue()\n",
    "\n",
    "    # close open handles\n",
    "    converter.close()\n",
    "    string_io.close()\n",
    "\n",
    "    if text:\n",
    "        return text\n",
    "\n",
    "print(extract_text_from_pdf_url(\"https://www.example.com/document.pdf\"))\n"
   ]
  }
 ],
 "metadata": {
  "kernelspec": {
   "display_name": "JBook-SLS_r0RZ",
   "language": "python",
   "name": "pythonjvsc74a57bd00109b08346e1cf7593cfbe1b1dc6fe09cb21b7e35e10b42143aa1e7e5d8eb4e2"
  },
  "language_info": {
   "codemirror_mode": {
    "name": "ipython",
    "version": 3
   },
   "file_extension": ".py",
   "mimetype": "text/x-python",
   "name": "python",
   "nbconvert_exporter": "python",
   "pygments_lexer": "ipython3",
   "version": "3.11.1"
  }
 },
 "nbformat": 4,
 "nbformat_minor": 5
}
