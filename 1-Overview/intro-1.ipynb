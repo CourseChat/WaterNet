{
 "cells": [
  {
   "attachments": {},
   "cell_type": "markdown",
   "metadata": {},
   "source": [
    "# Why these lectures by UC Berkeley and East Bay Municipal Utility District are so important at this moment. "
   ]
  },
  {
   "attachments": {},
   "cell_type": "markdown",
   "metadata": {},
   "source": [
    "```{note}\n",
    "This book is interactive, which means components of a page pull in real-time data from online sources, perform data analysis, and show the results. Data is open. How data becomes answers is clearly visible. The code is visible in active cells.\n",
    "```"
   ]
  },
  {
   "attachments": {},
   "cell_type": "markdown",
   "metadata": {},
   "source": [
    "## What A Difference A Week Makes"
   ]
  },
  {
   "attachments": {},
   "cell_type": "markdown",
   "metadata": {},
   "source": [
    "![Total System Storage WY 2023](../Images/TotalSystemStorageWY2023Annotated.png)"
   ]
  },
  {
   "attachments": {},
   "cell_type": "markdown",
   "metadata": {},
   "source": [
    "```{note}\n",
    "One week of atmospherical river brought EBMUD out of drought restrictions. January rain volume continuing for two weeks, with Sierra snow depth doubling raises system storage to near-capacity. Graph shows model predictions under alternate possibilitiesfrom January to October 2023. Similar pattern last year had drought after March, so these predictions are conservative. Most of this rainfall cannot be stored. Some reservoirs must be drained to avoid overtopping. In future editions, today's system storage will draw directly from real-time levels at Pardee and other reservoirs.  Will add estimates of total water flow to Pacific and groundwater replenishment.\n",
    "```"
   ]
  },
  {
   "cell_type": "code",
   "execution_count": 7,
   "metadata": {
    "tags": [
     "hide-input"
    ]
   },
   "outputs": [
    {
     "ename": "ModuleNotFoundError",
     "evalue": "No module named 'matplotlib'",
     "output_type": "error",
     "traceback": [
      "\u001b[0;31m---------------------------------------------------------------------------\u001b[0m",
      "\u001b[0;31mModuleNotFoundError\u001b[0m                       Traceback (most recent call last)",
      "Cell \u001b[0;32mIn[7], line 1\u001b[0m\n\u001b[0;32m----> 1\u001b[0m \u001b[39mfrom\u001b[39;00m \u001b[39mmatplotlib\u001b[39;00m \u001b[39mimport\u001b[39;00m rcParams, cycler\n\u001b[1;32m      2\u001b[0m \u001b[39mimport\u001b[39;00m \u001b[39mmatplotlib\u001b[39;00m\u001b[39m.\u001b[39;00m\u001b[39mpyplot\u001b[39;00m \u001b[39mas\u001b[39;00m \u001b[39mplt\u001b[39;00m\n\u001b[1;32m      3\u001b[0m \u001b[39mimport\u001b[39;00m \u001b[39mnumpy\u001b[39;00m \u001b[39mas\u001b[39;00m \u001b[39mnp\u001b[39;00m\n",
      "\u001b[0;31mModuleNotFoundError\u001b[0m: No module named 'matplotlib'"
     ]
    }
   ],
   "source": [
    "from matplotlib import rcParams, cycler\n",
    "import matplotlib.pyplot as plt\n",
    "import numpy as np\n",
    "plt.ion()"
   ]
  },
  {
   "cell_type": "code",
   "execution_count": 1,
   "metadata": {},
   "outputs": [
    {
     "name": "stdout",
     "output_type": "stream",
     "text": [
      "630 Acre-Feet =  205,287,580 gallons\n"
     ]
    }
   ],
   "source": [
    "import os\n",
    "# Convert 630 Total Acre-Foot to gallons\n",
    "TAF = 630\n",
    "gallons = 630 * 325853.302098\n",
    "gal = f'{round(gallons):,}'\n",
    "print(\"630 Acre-Feet = \", gal , \"gallons\")\n",
    "#os.system('say{:,}'.format(gal1))"
   ]
  },
  {
   "cell_type": "code",
   "execution_count": 53,
   "metadata": {
    "tags": [
     "\"hide-input\""
    ]
   },
   "outputs": [
    {
     "data": {
      "text/html": [
       "<div style=\"width:100%;\"><div style=\"position:relative;width:100%;height:0;padding-bottom:60%;\"><span style=\"color:#565656\">Make this Notebook Trusted to load map: File -> Trust Notebook</span><iframe srcdoc=\"&lt;!DOCTYPE html&gt;\n",
       "&lt;html&gt;\n",
       "&lt;head&gt;\n",
       "    \n",
       "    &lt;meta http-equiv=&quot;content-type&quot; content=&quot;text/html; charset=UTF-8&quot; /&gt;\n",
       "    \n",
       "        &lt;script&gt;\n",
       "            L_NO_TOUCH = false;\n",
       "            L_DISABLE_3D = false;\n",
       "        &lt;/script&gt;\n",
       "    \n",
       "    &lt;style&gt;html, body {width: 100%;height: 100%;margin: 0;padding: 0;}&lt;/style&gt;\n",
       "    &lt;style&gt;#map {position:absolute;top:0;bottom:0;right:0;left:0;}&lt;/style&gt;\n",
       "    &lt;script src=&quot;https://cdn.jsdelivr.net/npm/leaflet@1.9.3/dist/leaflet.js&quot;&gt;&lt;/script&gt;\n",
       "    &lt;script src=&quot;https://code.jquery.com/jquery-1.12.4.min.js&quot;&gt;&lt;/script&gt;\n",
       "    &lt;script src=&quot;https://cdn.jsdelivr.net/npm/bootstrap@5.2.2/dist/js/bootstrap.bundle.min.js&quot;&gt;&lt;/script&gt;\n",
       "    &lt;script src=&quot;https://cdnjs.cloudflare.com/ajax/libs/Leaflet.awesome-markers/2.0.2/leaflet.awesome-markers.js&quot;&gt;&lt;/script&gt;\n",
       "    &lt;link rel=&quot;stylesheet&quot; href=&quot;https://cdn.jsdelivr.net/npm/leaflet@1.9.3/dist/leaflet.css&quot;/&gt;\n",
       "    &lt;link rel=&quot;stylesheet&quot; href=&quot;https://cdn.jsdelivr.net/npm/bootstrap@5.2.2/dist/css/bootstrap.min.css&quot;/&gt;\n",
       "    &lt;link rel=&quot;stylesheet&quot; href=&quot;https://netdna.bootstrapcdn.com/bootstrap/3.0.0/css/bootstrap.min.css&quot;/&gt;\n",
       "    &lt;link rel=&quot;stylesheet&quot; href=&quot;https://cdn.jsdelivr.net/npm/@fortawesome/fontawesome-free@6.2.0/css/all.min.css&quot;/&gt;\n",
       "    &lt;link rel=&quot;stylesheet&quot; href=&quot;https://cdnjs.cloudflare.com/ajax/libs/Leaflet.awesome-markers/2.0.2/leaflet.awesome-markers.css&quot;/&gt;\n",
       "    &lt;link rel=&quot;stylesheet&quot; href=&quot;https://cdn.jsdelivr.net/gh/python-visualization/folium/folium/templates/leaflet.awesome.rotate.min.css&quot;/&gt;\n",
       "    \n",
       "            &lt;meta name=&quot;viewport&quot; content=&quot;width=device-width,\n",
       "                initial-scale=1.0, maximum-scale=1.0, user-scalable=no&quot; /&gt;\n",
       "            &lt;style&gt;\n",
       "                #map_6011183e9d02d31e045fb546da48659a {\n",
       "                    position: relative;\n",
       "                    width: 100.0%;\n",
       "                    height: 100.0%;\n",
       "                    left: 0.0%;\n",
       "                    top: 0.0%;\n",
       "                }\n",
       "                .leaflet-container { font-size: 1rem; }\n",
       "            &lt;/style&gt;\n",
       "        \n",
       "&lt;/head&gt;\n",
       "&lt;body&gt;\n",
       "    \n",
       "    \n",
       "            &lt;div class=&quot;folium-map&quot; id=&quot;map_6011183e9d02d31e045fb546da48659a&quot; &gt;&lt;/div&gt;\n",
       "        \n",
       "&lt;/body&gt;\n",
       "&lt;script&gt;\n",
       "    \n",
       "    \n",
       "            var map_6011183e9d02d31e045fb546da48659a = L.map(\n",
       "                &quot;map_6011183e9d02d31e045fb546da48659a&quot;,\n",
       "                {\n",
       "                    center: [37.701, -121.073],\n",
       "                    crs: L.CRS.EPSG3857,\n",
       "                    zoom: 8,\n",
       "                    zoomControl: true,\n",
       "                    preferCanvas: false,\n",
       "                }\n",
       "            );\n",
       "\n",
       "            \n",
       "\n",
       "        \n",
       "    \n",
       "            var tile_layer_615143beb44ccf45a308af94e792a0d9 = L.tileLayer(\n",
       "                &quot;https://stamen-tiles-{s}.a.ssl.fastly.net/terrain/{z}/{x}/{y}.jpg&quot;,\n",
       "                {&quot;attribution&quot;: &quot;Map tiles by \\u003ca target=\\&quot;_blank\\&quot; href=\\&quot;http://stamen.com\\&quot;\\u003eStamen Design\\u003c/a\\u003e, under \\u003ca target=\\&quot;_blank\\&quot; href=\\&quot;http://creativecommons.org/licenses/by/3.0\\&quot;\\u003eCC BY 3.0\\u003c/a\\u003e. Data by \\u0026copy; \\u003ca target=\\&quot;_blank\\&quot; href=\\&quot;http://openstreetmap.org\\&quot;\\u003eOpenStreetMap\\u003c/a\\u003e, under \\u003ca target=\\&quot;_blank\\&quot; href=\\&quot;http://creativecommons.org/licenses/by-sa/3.0\\&quot;\\u003eCC BY SA\\u003c/a\\u003e.&quot;, &quot;detectRetina&quot;: false, &quot;maxNativeZoom&quot;: 18, &quot;maxZoom&quot;: 18, &quot;minZoom&quot;: 0, &quot;noWrap&quot;: false, &quot;opacity&quot;: 1, &quot;subdomains&quot;: &quot;abc&quot;, &quot;tms&quot;: false}\n",
       "            ).addTo(map_6011183e9d02d31e045fb546da48659a);\n",
       "        \n",
       "    \n",
       "            var marker_0c3a320e2893722032b06c85c50a302b = L.marker(\n",
       "                [38.2574, -120.8502],\n",
       "                {}\n",
       "            ).addTo(map_6011183e9d02d31e045fb546da48659a);\n",
       "        \n",
       "    \n",
       "            var icon_8d25d16518dcbdff1382312b2be5b329 = L.AwesomeMarkers.icon(\n",
       "                {&quot;extraClasses&quot;: &quot;fa-rotate-0&quot;, &quot;icon&quot;: &quot;cloud&quot;, &quot;iconColor&quot;: &quot;white&quot;, &quot;markerColor&quot;: &quot;blue&quot;, &quot;prefix&quot;: &quot;glyphicon&quot;}\n",
       "            );\n",
       "            marker_0c3a320e2893722032b06c85c50a302b.setIcon(icon_8d25d16518dcbdff1382312b2be5b329);\n",
       "        \n",
       "    \n",
       "        var popup_78092fd44440c6a9a409dcda6c04d559 = L.popup({&quot;maxWidth&quot;: &quot;100%&quot;});\n",
       "\n",
       "        \n",
       "            \n",
       "                var html_557f811c327bb4028ddaa0ffe6e442b7 = $(`&lt;div id=&quot;html_557f811c327bb4028ddaa0ffe6e442b7&quot; style=&quot;width: 100.0%; height: 100.0%;&quot;&gt;Pardee Dam&lt;/div&gt;`)[0];\n",
       "                popup_78092fd44440c6a9a409dcda6c04d559.setContent(html_557f811c327bb4028ddaa0ffe6e442b7);\n",
       "            \n",
       "        \n",
       "\n",
       "        marker_0c3a320e2893722032b06c85c50a302b.bindPopup(popup_78092fd44440c6a9a409dcda6c04d559)\n",
       "        ;\n",
       "\n",
       "        \n",
       "    \n",
       "    \n",
       "            var marker_65cd00a1b1b533f34540af4bdcd8dc2a = L.marker(\n",
       "                [37.8663, -122.143],\n",
       "                {}\n",
       "            ).addTo(map_6011183e9d02d31e045fb546da48659a);\n",
       "        \n",
       "    \n",
       "            var icon_27627d3175a7a171fbb186e936397235 = L.AwesomeMarkers.icon(\n",
       "                {&quot;extraClasses&quot;: &quot;fa-rotate-0&quot;, &quot;icon&quot;: &quot;info-sign&quot;, &quot;iconColor&quot;: &quot;white&quot;, &quot;markerColor&quot;: &quot;blue&quot;, &quot;prefix&quot;: &quot;glyphicon&quot;}\n",
       "            );\n",
       "            marker_65cd00a1b1b533f34540af4bdcd8dc2a.setIcon(icon_27627d3175a7a171fbb186e936397235);\n",
       "        \n",
       "    \n",
       "        var popup_f95614fffef88c558703dcde8c1258b0 = L.popup({&quot;maxWidth&quot;: &quot;100%&quot;});\n",
       "\n",
       "        \n",
       "            \n",
       "                var html_7553c043e16983a2f73298e227c49b11 = $(`&lt;div id=&quot;html_7553c043e16983a2f73298e227c49b11&quot; style=&quot;width: 100.0%; height: 100.0%;&quot;&gt;Orinda Water Treatment Plant&lt;/div&gt;`)[0];\n",
       "                popup_f95614fffef88c558703dcde8c1258b0.setContent(html_7553c043e16983a2f73298e227c49b11);\n",
       "            \n",
       "        \n",
       "\n",
       "        marker_65cd00a1b1b533f34540af4bdcd8dc2a.bindPopup(popup_f95614fffef88c558703dcde8c1258b0)\n",
       "        ;\n",
       "\n",
       "        \n",
       "    \n",
       "    \n",
       "            var marker_f036738f4a94114bdc4b624cfd97b1c8 = L.marker(\n",
       "                [37.8016, -122.2734],\n",
       "                {}\n",
       "            ).addTo(map_6011183e9d02d31e045fb546da48659a);\n",
       "        \n",
       "    \n",
       "            var icon_86e606d26f0a6fa324949d316e9401b7 = L.AwesomeMarkers.icon(\n",
       "                {&quot;extraClasses&quot;: &quot;fa-rotate-0&quot;, &quot;icon&quot;: &quot;info-sign&quot;, &quot;iconColor&quot;: &quot;white&quot;, &quot;markerColor&quot;: &quot;red&quot;, &quot;prefix&quot;: &quot;glyphicon&quot;}\n",
       "            );\n",
       "            marker_f036738f4a94114bdc4b624cfd97b1c8.setIcon(icon_86e606d26f0a6fa324949d316e9401b7);\n",
       "        \n",
       "    \n",
       "        var popup_4fcbc20d3bce6b23aafcf4d889eefca4 = L.popup({&quot;maxWidth&quot;: &quot;100%&quot;});\n",
       "\n",
       "        \n",
       "            \n",
       "                var html_d0010ca1016244f448a6aa3135971658 = $(`&lt;div id=&quot;html_d0010ca1016244f448a6aa3135971658&quot; style=&quot;width: 100.0%; height: 100.0%;&quot;&gt;EBMUD Headquarters&lt;/div&gt;`)[0];\n",
       "                popup_4fcbc20d3bce6b23aafcf4d889eefca4.setContent(html_d0010ca1016244f448a6aa3135971658);\n",
       "            \n",
       "        \n",
       "\n",
       "        marker_f036738f4a94114bdc4b624cfd97b1c8.bindPopup(popup_4fcbc20d3bce6b23aafcf4d889eefca4)\n",
       "        ;\n",
       "\n",
       "        \n",
       "    \n",
       "&lt;/script&gt;\n",
       "&lt;/html&gt;\" style=\"position:absolute;width:100%;height:100%;left:0;top:0;border:none !important;\" allowfullscreen webkitallowfullscreen mozallowfullscreen></iframe></div></div>"
      ],
      "text/plain": [
       "<folium.folium.Map at 0x10d4b18d0>"
      ]
     },
     "execution_count": 53,
     "metadata": {},
     "output_type": "execute_result"
    }
   ],
   "source": [
    " %pip install folium\n",
    "import folium\n",
    "m = folium.Map(\n",
    "    location=[37.701, -121.073],\n",
    "    zoom_start=8,\n",
    "    tiles='Stamen Terrain'\n",
    ")\n",
    "\n",
    "folium.Marker(\n",
    "    location=[38.2574, -120.8502],\n",
    "    popup='Pardee Dam',\n",
    "    icon=folium.Icon(icon='cloud')\n",
    ").add_to(m)\n",
    "\n",
    "folium.Marker(\n",
    "    location=[37.8922222, -122.2011111],\n",
    "    popup='Orinda Water Treatment Plant',\n",
    "    icon=folium.Icon(color='blue')\n",
    ").add_to(m)\n",
    "\n",
    "folium.Marker(\n",
    "    location=[37.8016, -122.2734],\n",
    "    popup='EBMUD Headquarters',\n",
    "    icon=folium.Icon(color='red', icon='info-sign')\n",
    ").add_to(m)\n",
    "\n",
    "m"
   ]
  },
  {
   "cell_type": "code",
   "execution_count": 3,
   "metadata": {},
   "outputs": [
    {
     "name": "stdout",
     "output_type": "stream",
     "text": [
      "d1 = 11/01/2023\n",
      "d2 = January 11, 2023 Wednesday\n",
      "d3 = 01/11/23\n",
      "d4 = Jan-11-2023\n"
     ]
    }
   ],
   "source": [
    "# HIDDEN\n",
    "from datetime import date\n",
    "\n",
    "today = date.today()\n",
    "\n",
    "# dd/mm/YY\n",
    "d1 = today.strftime(\"%d/%m/%Y\")\n",
    "print(\"d1 =\", d1)\n",
    "\n",
    "# Textual month, day and year\t\n",
    "d2 = today.strftime(\"%B %d, %Y %A\")\n",
    "print(\"d2 =\", d2)\n",
    "\n",
    "# mm/dd/y\n",
    "d3 = today.strftime(\"%m/%d/%y\")\n",
    "print(\"d3 =\", d3)\n",
    "\n",
    "# Month abbreviation, day and year\t\n",
    "d4 = today.strftime(\"%b-%d-%Y\")\n",
    "print(\"d4 =\", d4)"
   ]
  },
  {
   "cell_type": "code",
   "execution_count": 4,
   "metadata": {},
   "outputs": [
    {
     "name": "stdout",
     "output_type": "stream",
     "text": [
      "now = 2023-01-11 22:22:10.359090\n",
      "date and time = 11/01/2023 Wednesday 22:22:10\n"
     ]
    }
   ],
   "source": [
    "from datetime import datetime\n",
    "\n",
    "# datetime object containing current date and time\n",
    "now = datetime.now()\n",
    " \n",
    "print(\"now =\", now)\n",
    "\n",
    "# dd/mm/YY H:M:S\n",
    "dt_string = now.strftime(\"%d/%m/%Y %A %H:%M:%S\")\n",
    "print(\"date and time =\", dt_string)"
   ]
  },
  {
   "cell_type": "code",
   "execution_count": 5,
   "metadata": {},
   "outputs": [
    {
     "name": "stdout",
     "output_type": "stream",
     "text": [
      "now 2023-01-11 22:22:10.383483\n",
      "Today's date is:  2023-01-11\n",
      "now2 = 2023-01-11 22:22:10.383510\n",
      "date and time = 2023-01-11 Wednesday 22:22:10 yearday=11 Timezone=  \n"
     ]
    }
   ],
   "source": [
    "# Import date class from datetime module\n",
    "from datetime import datetime\n",
    "print(\"now\",datetime.now())\n",
    "#print(\"time\",datetime.time())\n",
    "# datetime object containing current date and time\n",
    "now = datetime.now()\n",
    "\n",
    "today = date.today()\n",
    "print(\"Today's date is: \", today)\n",
    "\n",
    " \n",
    "print(\"now2 =\", now)\n",
    "\n",
    "dt_string = now.strftime(\"%Y-%m-%d %A %H:%M:%S yearday=%-j Timezone= %z \")\n",
    "print(\"date and time =\", dt_string)\n",
    "# Returns the current local date"
   ]
  },
  {
   "attachments": {},
   "cell_type": "markdown",
   "metadata": {},
   "source": [
    ":::{contents}\n",
    ":::\n",
    "![Underground](../Images/DM.cover.png)\n",
    "- Every water utility around the world invests to bring clean water to everyone.  Existing subsurface capital investments are in the trillions of dollars. But designs and budgets that worked in the past are no longer sufficient for maintaining global water supplies. The infrastructure is failing. Here's how to approach needed change.\n",
    "## Without underground infrastructure, surface infrastructure does not work\n",
    "![Looking Up](../Images/DM.look.up.png)\n",
    "## Annotated lectures given in Fall of 2022 for UC Berkeley Civil Engineering 112A: Water and Wastewater Engineering. Professor Kenichi Soga, assisted by post-doctoral students Wonjun Cha, Shi-Hung Chiu.\n",
    "### Water utilities require major new investments to keep clean water flowing. We must rebuild and extend our critical water infrastructure now.  But this investment is not yet funded. \n",
    "- Past cost projections are proving to be wildly inaccurate due to new challenges of climate change and rapidly aging capital plant.\n",
    "- Dams, reservoirs, pipes, pumps, water collection systems and water and waste water purification **systems will require from two to five times more investment** than today's conservative financial models anticipate. [^1]\n",
    "[^1]: AWWA and ASME estimates\n",
    "- This site will build increasingly detailed cost projections for complete system renewal. With current technologies, rebuilding a system similar to EBMUD--1.5 million daily users, \\$1 billion annual expenses, ..... MGD flow, .... MG storage--over a 25-year period, will cost $20 billion in 2022 dollars. \n",
    "- We will build the outline of the necessary campaign to finance this cost, by tax, by rate change, by bond issue, by cost savings, by redesign of capital plant.  Financing this amount is possible only by building an extremely accurate estimate of costs, to enable an accurate comparison to the costs of not rebuilding. Rebuilding at today's rate will take 140 years.[^2]\n",
    "[^2]: From EBMUD Capital Investments Plan, 2022--at rate of 30 pipeline miles replaced each year, over 4,500 miles of existing distribtion pipe network\n",
    "- But, what if innovation could cut projected costs by a factor of two? That is, save $10 billion of projected investment. Could fundamental realignment of management of underground critical infrastructure change how we invest? As contrast, examine urban infrastructure in cities that built new systems in the past thirty years.[^3]\n",
    "[^3]: Hong Kong, Singapore, Putrajaya [Water Utilities](https://en.wikipedia.org/wiki/Water_supply_and_sanitation_in_Malaysia), [United Nations Water Joint Monitoring](https://washdata.org/)\n",
    "### Faced with massive challenges from climate change and ancient infrastructure, our utilities battle each day to protect our health. But hundreds of water main breaks a day in California show we are losing ground. What is our best investment?\n",
    "- Today's **aging, failing infrastructure** requires capital investment beyond existing budgets. Even the best-managed utilities see unanticipated shortfalls due to changing weather patterns, mounting energy costs, shifting water sources, new pollution challenges, and shocks to supply chains.\n",
    "  - **These investments can not be avoided or postponed.** (Think Ukraine this winter) (Insert total past capital investment, total required annual rebuilding estimates: US, EU, China, India, Sub-Saharan Africa, Japan, Korea, Brazil, Middle East)"
   ]
  }
 ],
 "metadata": {
  "kernelspec": {
   "display_name": "Python 3",
   "language": "python",
   "name": "python3"
  },
  "language_info": {
   "codemirror_mode": {
    "name": "ipython",
    "version": 3
   },
   "file_extension": ".py",
   "mimetype": "text/x-python",
   "name": "python",
   "nbconvert_exporter": "python",
   "pygments_lexer": "ipython3",
   "version": "3.11.1"
  },
  "orig_nbformat": 4,
  "vscode": {
   "interpreter": {
    "hash": "aee8b7b246df8f9039afb4144a1f6fd8d2ca17a180786b69acc140d282b71a49"
   }
  }
 },
 "nbformat": 4,
 "nbformat_minor": 2
}
