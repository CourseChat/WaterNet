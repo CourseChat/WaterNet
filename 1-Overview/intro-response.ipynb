{
 "cells": [
  {
   "attachments": {},
   "cell_type": "markdown",
   "metadata": {},
   "source": [
    "# **Response** ipynb\n",
    "\n",
    "## New data networks allows real-time management of risks and investment\n",
    "- New systems of high resolution satellite and drone surveillance, soil and seismic monitoring, geotechnical and hydrological testing and modeling, **ubiquitous sensor deployment and networked data acquisition** from all elements of our physical plant transform how we manage daily operations.  Data-based risk assessment shapes the replacement design of our critical infrastructure. **New data networks are orders of magnitude cheaper than past systems**; new tools of machine learning and data analysis **reveal developing vulnerabilities and risks in real time**. New materials, new methods of production, new technologies of construction, and new regulatory and reporting requirements are transforming the modern water and energy utility.\n",
    "- These new capabilities support targeted decision-making for risk-based investments. New data brings new opportunities for cost-effective civil engineering.  \n",
    "- **Change comes slowly in critical infrastructure engineering.** Innovations must be tested, over long time periods, before general adoption by those responsible for the basic functioning of modern society.\n",
    "- **Financial investment in often-invisible infrastructure must come from informed public opinion**, based on accurate assessments of costs.  But new circumstances require new initiatives.\n",
    "- **The global workforce that creates and maintains our most critical infrastructure must be given new resources, new tools,  new technologies, new training and career advancement, and a new regulatory framework**."
   ]
  }
 ],
 "metadata": {
  "language_info": {
   "name": "python"
  },
  "orig_nbformat": 4
 },
 "nbformat": 4,
 "nbformat_minor": 2
}
