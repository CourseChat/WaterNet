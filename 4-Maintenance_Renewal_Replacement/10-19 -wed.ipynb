{
 "cells": [
  {
   "attachments": {},
   "cell_type": "markdown",
   "id": "0a9d6376",
   "metadata": {},
   "source": [
    "# 10-19"
   ]
  },
  {
   "cell_type": "code",
   "execution_count": null,
   "id": "93b107eb",
   "metadata": {},
   "outputs": [],
   "source": [
    "from IPython.display import display, Image as Img"
   ]
  },
  {
   "cell_type": "code",
   "execution_count": null,
   "id": "a95726ea",
   "metadata": {},
   "outputs": [],
   "source": [
    "display(Img('/Users/johngage/JBook/Lectures/pdf-images/10-19 Lecture.pdf-page0.png'))"
   ]
  },
  {
   "cell_type": "code",
   "execution_count": null,
   "id": "a6078fbc",
   "metadata": {},
   "outputs": [],
   "source": [
    "display(Img('/Users/johngage/JBook/Lectures/pdf-images/10-19 Lecture.pdf-page1.png'))"
   ]
  },
  {
   "cell_type": "code",
   "execution_count": null,
   "id": "2eac4f23",
   "metadata": {},
   "outputs": [],
   "source": [
    "display(Img('/Users/johngage/JBook/Lectures/pdf-images/10-19 Lecture.pdf-page2.png'))"
   ]
  },
  {
   "cell_type": "code",
   "execution_count": null,
   "id": "c5443902",
   "metadata": {},
   "outputs": [],
   "source": [
    "display(Img('/Users/johngage/JBook/Lectures/pdf-images/10-19 Lecture.pdf-page3.png'))"
   ]
  },
  {
   "cell_type": "code",
   "execution_count": null,
   "id": "fda6dfa6",
   "metadata": {},
   "outputs": [],
   "source": [
    "display(Img('/Users/johngage/JBook/Lectures/pdf-images/10-19 Lecture.pdf-page4.png'))"
   ]
  },
  {
   "cell_type": "code",
   "execution_count": null,
   "id": "6d16c110",
   "metadata": {},
   "outputs": [],
   "source": [
    "display(Img('/Users/johngage/JBook/Lectures/pdf-images/10-19 Lecture.pdf-page5.png'))"
   ]
  },
  {
   "cell_type": "code",
   "execution_count": null,
   "id": "f45097cb",
   "metadata": {},
   "outputs": [],
   "source": [
    "display(Img('/Users/johngage/JBook/Lectures/pdf-images/10-19 Lecture.pdf-page6.png'))"
   ]
  },
  {
   "cell_type": "code",
   "execution_count": null,
   "id": "decdf904",
   "metadata": {},
   "outputs": [],
   "source": [
    "display(Img('/Users/johngage/JBook/Lectures/pdf-images/10-19 Lecture.pdf-page7.png'))"
   ]
  },
  {
   "cell_type": "code",
   "execution_count": null,
   "id": "bf425547",
   "metadata": {},
   "outputs": [],
   "source": [
    "display(Img('/Users/johngage/JBook/Lectures/pdf-images/10-19 Lecture.pdf-page8.png'))"
   ]
  },
  {
   "cell_type": "code",
   "execution_count": null,
   "id": "4f4ae241",
   "metadata": {},
   "outputs": [],
   "source": [
    "display(Img('/Users/johngage/JBook/Lectures/pdf-images/10-19 Lecture.pdf-page9.png'))"
   ]
  },
  {
   "cell_type": "code",
   "execution_count": null,
   "id": "9f8f73b7",
   "metadata": {},
   "outputs": [],
   "source": [
    "display(Img('/Users/johngage/JBook/Lectures/pdf-images/10-19 Lecture.pdf-page10.png'))"
   ]
  },
  {
   "cell_type": "code",
   "execution_count": null,
   "id": "e2f29717",
   "metadata": {},
   "outputs": [],
   "source": [
    "display(Img('/Users/johngage/JBook/Lectures/pdf-images/10-19 Lecture.pdf-page11.png'))"
   ]
  },
  {
   "cell_type": "code",
   "execution_count": null,
   "id": "fa66fa80",
   "metadata": {},
   "outputs": [],
   "source": [
    "display(Img('/Users/johngage/JBook/Lectures/pdf-images/10-19 Lecture.pdf-page12.png'))"
   ]
  },
  {
   "cell_type": "code",
   "execution_count": null,
   "id": "c9c9c5d1",
   "metadata": {},
   "outputs": [],
   "source": [
    "display(Img('/Users/johngage/JBook/Lectures/pdf-images/10-19 Lecture.pdf-page13.png'))"
   ]
  },
  {
   "cell_type": "code",
   "execution_count": null,
   "id": "5d86c8da",
   "metadata": {},
   "outputs": [],
   "source": [
    "display(Img('/Users/johngage/JBook/Lectures/pdf-images/10-19 Lecture.pdf-page14.png'))"
   ]
  },
  {
   "cell_type": "code",
   "execution_count": null,
   "id": "ab029c3a",
   "metadata": {},
   "outputs": [],
   "source": [
    "display(Img('/Users/johngage/JBook/Lectures/pdf-images/10-19 Lecture.pdf-page15.png'))"
   ]
  },
  {
   "cell_type": "code",
   "execution_count": null,
   "id": "6aa9fa5b",
   "metadata": {},
   "outputs": [],
   "source": [
    "display(Img('/Users/johngage/JBook/Lectures/pdf-images/10-19 Lecture.pdf-page16.png'))"
   ]
  },
  {
   "cell_type": "code",
   "execution_count": null,
   "id": "e533f33d",
   "metadata": {},
   "outputs": [],
   "source": [
    "display(Img('/Users/johngage/JBook/Lectures/pdf-images/10-19 Lecture.pdf-page17.png'))"
   ]
  },
  {
   "cell_type": "code",
   "execution_count": null,
   "id": "942f7de9",
   "metadata": {},
   "outputs": [],
   "source": [
    "display(Img('/Users/johngage/JBook/Lectures/pdf-images/10-19 Lecture.pdf-page18.png'))"
   ]
  },
  {
   "cell_type": "code",
   "execution_count": null,
   "id": "20588571",
   "metadata": {},
   "outputs": [],
   "source": [
    "display(Img('/Users/johngage/JBook/Lectures/pdf-images/10-19 Lecture.pdf-page19.png'))"
   ]
  },
  {
   "cell_type": "code",
   "execution_count": null,
   "id": "85d51795",
   "metadata": {},
   "outputs": [],
   "source": [
    "display(Img('/Users/johngage/JBook/Lectures/pdf-images/10-19 Lecture.pdf-page20.png'))"
   ]
  },
  {
   "cell_type": "code",
   "execution_count": null,
   "id": "5b9e46e6",
   "metadata": {},
   "outputs": [],
   "source": [
    "display(Img('/Users/johngage/JBook/Lectures/pdf-images/10-19 Lecture.pdf-page21.png'))"
   ]
  },
  {
   "cell_type": "code",
   "execution_count": null,
   "id": "e0dd1046",
   "metadata": {},
   "outputs": [],
   "source": [
    "display(Img('/Users/johngage/JBook/Lectures/pdf-images/10-19 Lecture.pdf-page22.png'))"
   ]
  },
  {
   "cell_type": "code",
   "execution_count": null,
   "id": "2f990596",
   "metadata": {},
   "outputs": [],
   "source": [
    "display(Img('/Users/johngage/JBook/Lectures/pdf-images/10-19 Lecture.pdf-page23.png'))"
   ]
  },
  {
   "cell_type": "code",
   "execution_count": null,
   "id": "83e745f2",
   "metadata": {},
   "outputs": [],
   "source": [
    "display(Img('/Users/johngage/JBook/Lectures/pdf-images/10-19 Lecture.pdf-page24.png'))"
   ]
  },
  {
   "cell_type": "code",
   "execution_count": null,
   "id": "a36ba4c9",
   "metadata": {},
   "outputs": [],
   "source": [
    "display(Img('/Users/johngage/JBook/Lectures/pdf-images/10-19 Lecture.pdf-page25.png'))"
   ]
  },
  {
   "cell_type": "code",
   "execution_count": null,
   "id": "dc1b015f",
   "metadata": {},
   "outputs": [],
   "source": [
    "display(Img('/Users/johngage/JBook/Lectures/pdf-images/10-19 Lecture.pdf-page26.png'))"
   ]
  },
  {
   "cell_type": "code",
   "execution_count": null,
   "id": "d5df8388",
   "metadata": {},
   "outputs": [],
   "source": [
    "display(Img('/Users/johngage/JBook/Lectures/pdf-images/10-19 Lecture.pdf-page27.png'))"
   ]
  },
  {
   "cell_type": "code",
   "execution_count": null,
   "id": "586e6bda",
   "metadata": {},
   "outputs": [],
   "source": [
    "display(Img('/Users/johngage/JBook/Lectures/pdf-images/10-19 Lecture.pdf-page28.png'))"
   ]
  },
  {
   "cell_type": "code",
   "execution_count": null,
   "id": "55796066",
   "metadata": {},
   "outputs": [],
   "source": [
    "display(Img('/Users/johngage/JBook/Lectures/pdf-images/10-19 Lecture.pdf-page29.png'))"
   ]
  },
  {
   "cell_type": "code",
   "execution_count": null,
   "id": "de03bbca",
   "metadata": {},
   "outputs": [],
   "source": [
    "display(Img('/Users/johngage/JBook/Lectures/pdf-images/10-19 Lecture.pdf-page30.png'))"
   ]
  },
  {
   "cell_type": "code",
   "execution_count": null,
   "id": "0dd3a12c",
   "metadata": {},
   "outputs": [],
   "source": [
    "display(Img('/Users/johngage/JBook/Lectures/pdf-images/10-19 Lecture.pdf-page31.png'))"
   ]
  },
  {
   "cell_type": "code",
   "execution_count": null,
   "id": "4f19fea5",
   "metadata": {},
   "outputs": [],
   "source": [
    "display(Img('/Users/johngage/JBook/Lectures/pdf-images/10-19 Lecture.pdf-page32.png'))"
   ]
  },
  {
   "cell_type": "code",
   "execution_count": null,
   "id": "e3d8ec12",
   "metadata": {},
   "outputs": [],
   "source": [
    "display(Img('/Users/johngage/JBook/Lectures/pdf-images/10-19 Lecture.pdf-page33.png'))"
   ]
  },
  {
   "cell_type": "code",
   "execution_count": null,
   "id": "f0fff93a",
   "metadata": {},
   "outputs": [],
   "source": [
    "display(Img('/Users/johngage/JBook/Lectures/pdf-images/10-19 Lecture.pdf-page34.png'))"
   ]
  },
  {
   "cell_type": "code",
   "execution_count": null,
   "id": "1f5208cd",
   "metadata": {},
   "outputs": [],
   "source": [
    "display(Img('/Users/johngage/JBook/Lectures/pdf-images/10-19 Lecture.pdf-page35.png'))"
   ]
  },
  {
   "cell_type": "code",
   "execution_count": null,
   "id": "27da50bd",
   "metadata": {},
   "outputs": [],
   "source": [
    "display(Img('/Users/johngage/JBook/Lectures/pdf-images/10-19 Lecture.pdf-page36.png'))"
   ]
  },
  {
   "cell_type": "code",
   "execution_count": null,
   "id": "4d73b5b5",
   "metadata": {},
   "outputs": [],
   "source": [
    "display(Img('/Users/johngage/JBook/Lectures/pdf-images/10-19 Lecture.pdf-page37.png'))"
   ]
  },
  {
   "cell_type": "code",
   "execution_count": null,
   "id": "cfaf8af8",
   "metadata": {},
   "outputs": [],
   "source": [
    "display(Img('/Users/johngage/JBook/Lectures/pdf-images/10-19 Lecture.pdf-page38.png'))"
   ]
  },
  {
   "cell_type": "code",
   "execution_count": null,
   "id": "de854dd1",
   "metadata": {},
   "outputs": [],
   "source": [
    "display(Img('/Users/johngage/JBook/Lectures/pdf-images/10-19 Lecture.pdf-page39.png'))"
   ]
  },
  {
   "cell_type": "code",
   "execution_count": null,
   "id": "4bb19651",
   "metadata": {},
   "outputs": [],
   "source": [
    "display(Img('/Users/johngage/JBook/Lectures/pdf-images/10-19 Lecture.pdf-page40.png'))"
   ]
  }
 ],
 "metadata": {
  "kernelspec": {
   "display_name": "Python 3",
   "language": "python",
   "name": "python3"
  },
  "language_info": {
   "name": "python",
   "version": "3.10.9 (v3.10.9:1dd9be6584, Dec  6 2022, 14:37:36) [Clang 13.0.0 (clang-1300.0.29.30)]"
  },
  "vscode": {
   "interpreter": {
    "hash": "44a9cdcbdccbf05a880e90d2e6fe72470baab4d1b82472d890be0596ed887a6b"
   }
  }
 },
 "nbformat": 4,
 "nbformat_minor": 5
}
