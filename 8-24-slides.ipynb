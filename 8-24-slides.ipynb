{
 "cells": [
  {
   "cell_type": "code",
   "execution_count": null,
   "id": "4653408f",
   "metadata": {},
   "outputs": [],
   "source": [
    "display(Img('/Users/johngage/JBook/Lectures/pdf-images/08-24 Lecture 1.pdf-page0.png'))"
   ]
  },
  {
   "cell_type": "code",
   "execution_count": null,
   "id": "1f4082e3",
   "metadata": {},
   "outputs": [],
   "source": [
    "display(Img('/Users/johngage/JBook/Lectures/pdf-images/08-24 Lecture 1.pdf-page1.png'))"
   ]
  },
  {
   "cell_type": "code",
   "execution_count": null,
   "id": "5feb1adb",
   "metadata": {},
   "outputs": [],
   "source": [
    "display(Img('/Users/johngage/JBook/Lectures/pdf-images/08-24 Lecture 1.pdf-page2.png'))"
   ]
  },
  {
   "cell_type": "code",
   "execution_count": null,
   "id": "9b79e462",
   "metadata": {},
   "outputs": [],
   "source": [
    "display(Img('/Users/johngage/JBook/Lectures/pdf-images/08-24 Lecture 1.pdf-page3.png'))"
   ]
  },
  {
   "cell_type": "code",
   "execution_count": null,
   "id": "939ffddb",
   "metadata": {},
   "outputs": [],
   "source": [
    "display(Img('/Users/johngage/JBook/Lectures/pdf-images/08-24 Lecture 1.pdf-page4.png'))"
   ]
  },
  {
   "cell_type": "code",
   "execution_count": null,
   "id": "ef455f98",
   "metadata": {},
   "outputs": [],
   "source": [
    "display(Img('/Users/johngage/JBook/Lectures/pdf-images/08-24 Lecture 1.pdf-page5.png'))"
   ]
  },
  {
   "cell_type": "code",
   "execution_count": null,
   "id": "7c1cb5e9",
   "metadata": {},
   "outputs": [],
   "source": [
    "display(Img('/Users/johngage/JBook/Lectures/pdf-images/08-24 Lecture 1.pdf-page6.png'))"
   ]
  },
  {
   "cell_type": "code",
   "execution_count": null,
   "id": "4c8013ae",
   "metadata": {},
   "outputs": [],
   "source": [
    "display(Img('/Users/johngage/JBook/Lectures/pdf-images/08-24 Lecture 1.pdf-page7.png'))"
   ]
  },
  {
   "cell_type": "code",
   "execution_count": null,
   "id": "277cbc96",
   "metadata": {},
   "outputs": [],
   "source": [
    "display(Img('/Users/johngage/JBook/Lectures/pdf-images/08-24 Lecture 1.pdf-page8.png'))"
   ]
  },
  {
   "cell_type": "code",
   "execution_count": null,
   "id": "f5eed8b1",
   "metadata": {},
   "outputs": [],
   "source": [
    "display(Img('/Users/johngage/JBook/Lectures/pdf-images/08-24 Lecture 1.pdf-page9.png'))"
   ]
  },
  {
   "cell_type": "code",
   "execution_count": null,
   "id": "2b5bab0c",
   "metadata": {},
   "outputs": [],
   "source": [
    "display(Img('/Users/johngage/JBook/Lectures/pdf-images/08-24 Lecture 1.pdf-page10.png'))"
   ]
  },
  {
   "cell_type": "code",
   "execution_count": null,
   "id": "ca309473",
   "metadata": {},
   "outputs": [],
   "source": [
    "display(Img('/Users/johngage/JBook/Lectures/pdf-images/08-24 Lecture 1.pdf-page11.png'))"
   ]
  },
  {
   "cell_type": "code",
   "execution_count": null,
   "id": "fca14674",
   "metadata": {},
   "outputs": [],
   "source": [
    "display(Img('/Users/johngage/JBook/Lectures/pdf-images/08-24 Lecture 1.pdf-page12.png'))"
   ]
  },
  {
   "cell_type": "code",
   "execution_count": null,
   "id": "ae8ba5a6",
   "metadata": {},
   "outputs": [],
   "source": [
    "display(Img('/Users/johngage/JBook/Lectures/pdf-images/08-24 Lecture 1.pdf-page13.png'))"
   ]
  },
  {
   "cell_type": "code",
   "execution_count": null,
   "id": "211d2ba9",
   "metadata": {},
   "outputs": [],
   "source": [
    "display(Img('/Users/johngage/JBook/Lectures/pdf-images/08-24 Lecture 1.pdf-page14.png'))"
   ]
  },
  {
   "cell_type": "code",
   "execution_count": null,
   "id": "cd859165",
   "metadata": {},
   "outputs": [],
   "source": [
    "display(Img('/Users/johngage/JBook/Lectures/pdf-images/08-24 Lecture 1.pdf-page15.png'))"
   ]
  },
  {
   "cell_type": "code",
   "execution_count": null,
   "id": "6438c1e1",
   "metadata": {},
   "outputs": [],
   "source": [
    "display(Img('/Users/johngage/JBook/Lectures/pdf-images/08-24 Lecture 1.pdf-page16.png'))"
   ]
  },
  {
   "cell_type": "code",
   "execution_count": null,
   "id": "f95693a2",
   "metadata": {},
   "outputs": [],
   "source": [
    "display(Img('/Users/johngage/JBook/Lectures/pdf-images/08-24 Lecture 1.pdf-page17.png'))"
   ]
  },
  {
   "cell_type": "code",
   "execution_count": null,
   "id": "e005a581",
   "metadata": {},
   "outputs": [],
   "source": [
    "display(Img('/Users/johngage/JBook/Lectures/pdf-images/08-24 Lecture 1.pdf-page18.png'))"
   ]
  },
  {
   "cell_type": "code",
   "execution_count": null,
   "id": "89245eb6",
   "metadata": {},
   "outputs": [],
   "source": [
    "display(Img('/Users/johngage/JBook/Lectures/pdf-images/08-24 Lecture 1.pdf-page19.png'))"
   ]
  },
  {
   "cell_type": "code",
   "execution_count": null,
   "id": "2881a4b2",
   "metadata": {},
   "outputs": [],
   "source": [
    "display(Img('/Users/johngage/JBook/Lectures/pdf-images/08-24 Lecture 1.pdf-page20.png'))"
   ]
  },
  {
   "cell_type": "code",
   "execution_count": null,
   "id": "369ee967",
   "metadata": {},
   "outputs": [],
   "source": [
    "display(Img('/Users/johngage/JBook/Lectures/pdf-images/08-24 Lecture 1.pdf-page21.png'))"
   ]
  },
  {
   "cell_type": "code",
   "execution_count": null,
   "id": "1ff8986f",
   "metadata": {},
   "outputs": [],
   "source": [
    "display(Img('/Users/johngage/JBook/Lectures/pdf-images/08-24 Lecture 1.pdf-page22.png'))"
   ]
  },
  {
   "cell_type": "code",
   "execution_count": null,
   "id": "05aea8e0",
   "metadata": {},
   "outputs": [],
   "source": [
    "display(Img('/Users/johngage/JBook/Lectures/pdf-images/08-24 Lecture 1.pdf-page23.png'))"
   ]
  },
  {
   "cell_type": "code",
   "execution_count": null,
   "id": "bb332a11",
   "metadata": {},
   "outputs": [],
   "source": [
    "display(Img('/Users/johngage/JBook/Lectures/pdf-images/08-24 Lecture 1.pdf-page24.png'))"
   ]
  },
  {
   "cell_type": "code",
   "execution_count": null,
   "id": "53a439c1",
   "metadata": {},
   "outputs": [],
   "source": [
    "display(Img('/Users/johngage/JBook/Lectures/pdf-images/08-24 Lecture 1.pdf-page25.png'))"
   ]
  },
  {
   "cell_type": "code",
   "execution_count": null,
   "id": "63c6679c",
   "metadata": {},
   "outputs": [],
   "source": [
    "display(Img('/Users/johngage/JBook/Lectures/pdf-images/08-24 Lecture 1.pdf-page26.png'))"
   ]
  },
  {
   "cell_type": "code",
   "execution_count": null,
   "id": "d48a0fa1",
   "metadata": {},
   "outputs": [],
   "source": [
    "display(Img('/Users/johngage/JBook/Lectures/pdf-images/08-24 Lecture 1.pdf-page27.png'))"
   ]
  },
  {
   "cell_type": "code",
   "execution_count": null,
   "id": "3825dca3",
   "metadata": {},
   "outputs": [],
   "source": [
    "display(Img('/Users/johngage/JBook/Lectures/pdf-images/08-24 Lecture 1.pdf-page28.png'))"
   ]
  },
  {
   "cell_type": "code",
   "execution_count": null,
   "id": "089793c4",
   "metadata": {},
   "outputs": [],
   "source": [
    "display(Img('/Users/johngage/JBook/Lectures/pdf-images/08-24 Lecture 1.pdf-page29.png'))"
   ]
  },
  {
   "cell_type": "code",
   "execution_count": null,
   "id": "f283e78c",
   "metadata": {},
   "outputs": [],
   "source": [
    "display(Img('/Users/johngage/JBook/Lectures/pdf-images/08-24 Lecture 1.pdf-page30.png'))"
   ]
  },
  {
   "cell_type": "code",
   "execution_count": null,
   "id": "6d00510b",
   "metadata": {},
   "outputs": [],
   "source": [
    "display(Img('/Users/johngage/JBook/Lectures/pdf-images/08-24 Lecture 1.pdf-page31.png'))"
   ]
  },
  {
   "cell_type": "code",
   "execution_count": null,
   "id": "4bbc8ead",
   "metadata": {},
   "outputs": [],
   "source": [
    "display(Img('/Users/johngage/JBook/Lectures/pdf-images/08-24 Lecture 1.pdf-page32.png'))"
   ]
  },
  {
   "cell_type": "code",
   "execution_count": null,
   "id": "3f47f05e",
   "metadata": {},
   "outputs": [],
   "source": [
    "display(Img('/Users/johngage/JBook/Lectures/pdf-images/08-24 Lecture 1.pdf-page33.png'))"
   ]
  },
  {
   "cell_type": "code",
   "execution_count": null,
   "id": "758722db",
   "metadata": {},
   "outputs": [],
   "source": [
    "display(Img('/Users/johngage/JBook/Lectures/pdf-images/08-24 Lecture 1.pdf-page34.png'))"
   ]
  },
  {
   "cell_type": "code",
   "execution_count": null,
   "id": "5fd97dc5",
   "metadata": {},
   "outputs": [],
   "source": [
    "display(Img('/Users/johngage/JBook/Lectures/pdf-images/08-24 Lecture 1.pdf-page35.png'))"
   ]
  },
  {
   "cell_type": "code",
   "execution_count": null,
   "id": "d1a828d5",
   "metadata": {},
   "outputs": [],
   "source": [
    "display(Img('/Users/johngage/JBook/Lectures/pdf-images/08-24 Lecture 1.pdf-page36.png'))"
   ]
  },
  {
   "cell_type": "code",
   "execution_count": null,
   "id": "dde4d649",
   "metadata": {},
   "outputs": [],
   "source": [
    "display(Img('/Users/johngage/JBook/Lectures/pdf-images/08-24 Lecture 1.pdf-page37.png'))"
   ]
  },
  {
   "cell_type": "code",
   "execution_count": null,
   "id": "bb817be5",
   "metadata": {},
   "outputs": [],
   "source": [
    "display(Img('/Users/johngage/JBook/Lectures/pdf-images/08-24 Lecture 1.pdf-page38.png'))"
   ]
  },
  {
   "cell_type": "code",
   "execution_count": null,
   "id": "e690abd1",
   "metadata": {},
   "outputs": [],
   "source": [
    "display(Img('/Users/johngage/JBook/Lectures/pdf-images/08-24 Lecture 1.pdf-page39.png'))"
   ]
  },
  {
   "cell_type": "code",
   "execution_count": null,
   "id": "830b2202",
   "metadata": {},
   "outputs": [],
   "source": [
    "display(Img('/Users/johngage/JBook/Lectures/pdf-images/08-24 Lecture 1.pdf-page40.png'))"
   ]
  },
  {
   "cell_type": "code",
   "execution_count": null,
   "id": "3cc4006d",
   "metadata": {},
   "outputs": [],
   "source": [
    "display(Img('/Users/johngage/JBook/Lectures/pdf-images/08-24 Lecture 1.pdf-page41.png'))"
   ]
  },
  {
   "cell_type": "code",
   "execution_count": null,
   "id": "d76d0e2a",
   "metadata": {},
   "outputs": [],
   "source": [
    "display(Img('/Users/johngage/JBook/Lectures/pdf-images/08-24 Lecture 1.pdf-page42.png'))"
   ]
  },
  {
   "cell_type": "code",
   "execution_count": null,
   "id": "94585aaf",
   "metadata": {},
   "outputs": [],
   "source": [
    "display(Img('/Users/johngage/JBook/Lectures/pdf-images/08-24 Lecture 1.pdf-page43.png'))"
   ]
  }
 ],
 "metadata": {},
 "nbformat": 4,
 "nbformat_minor": 5
}
