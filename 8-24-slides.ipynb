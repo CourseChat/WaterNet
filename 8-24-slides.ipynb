{
 "cells": [
  {
   "cell_type": "code",
   "execution_count": null,
   "id": "34ba80c7",
   "metadata": {},
   "outputs": [],
   "source": [
    "display(Img('/Users/johngage/JBook/Lectures/pdf-images/08-24 Lecture 1.pdf-page0.png'))"
   ]
  },
  {
   "cell_type": "code",
   "execution_count": null,
   "id": "b95e6b16",
   "metadata": {},
   "outputs": [],
   "source": [
    "display(Img('/Users/johngage/JBook/Lectures/pdf-images/08-24 Lecture 1.pdf-page1.png'))"
   ]
  },
  {
   "cell_type": "code",
   "execution_count": null,
   "id": "9a95eff9",
   "metadata": {},
   "outputs": [],
   "source": [
    "display(Img('/Users/johngage/JBook/Lectures/pdf-images/08-24 Lecture 1.pdf-page2.png'))"
   ]
  },
  {
   "cell_type": "code",
   "execution_count": null,
   "id": "161dcbf8",
   "metadata": {},
   "outputs": [],
   "source": [
    "display(Img('/Users/johngage/JBook/Lectures/pdf-images/08-24 Lecture 1.pdf-page3.png'))"
   ]
  },
  {
   "cell_type": "code",
   "execution_count": null,
   "id": "851e2123",
   "metadata": {},
   "outputs": [],
   "source": [
    "display(Img('/Users/johngage/JBook/Lectures/pdf-images/08-24 Lecture 1.pdf-page4.png'))"
   ]
  },
  {
   "cell_type": "code",
   "execution_count": null,
   "id": "19085826",
   "metadata": {},
   "outputs": [],
   "source": [
    "display(Img('/Users/johngage/JBook/Lectures/pdf-images/08-24 Lecture 1.pdf-page5.png'))"
   ]
  },
  {
   "cell_type": "code",
   "execution_count": null,
   "id": "06595f81",
   "metadata": {},
   "outputs": [],
   "source": [
    "display(Img('/Users/johngage/JBook/Lectures/pdf-images/08-24 Lecture 1.pdf-page6.png'))"
   ]
  },
  {
   "cell_type": "code",
   "execution_count": null,
   "id": "6918a0c7",
   "metadata": {},
   "outputs": [],
   "source": [
    "display(Img('/Users/johngage/JBook/Lectures/pdf-images/08-24 Lecture 1.pdf-page7.png'))"
   ]
  },
  {
   "cell_type": "code",
   "execution_count": null,
   "id": "ba6c6c97",
   "metadata": {},
   "outputs": [],
   "source": [
    "display(Img('/Users/johngage/JBook/Lectures/pdf-images/08-24 Lecture 1.pdf-page8.png'))"
   ]
  },
  {
   "cell_type": "code",
   "execution_count": null,
   "id": "2b97daba",
   "metadata": {},
   "outputs": [],
   "source": [
    "display(Img('/Users/johngage/JBook/Lectures/pdf-images/08-24 Lecture 1.pdf-page9.png'))"
   ]
  },
  {
   "cell_type": "code",
   "execution_count": null,
   "id": "d8e115a2",
   "metadata": {},
   "outputs": [],
   "source": [
    "display(Img('/Users/johngage/JBook/Lectures/pdf-images/08-24 Lecture 1.pdf-page10.png'))"
   ]
  },
  {
   "cell_type": "code",
   "execution_count": null,
   "id": "4dd8ad3e",
   "metadata": {},
   "outputs": [],
   "source": [
    "display(Img('/Users/johngage/JBook/Lectures/pdf-images/08-24 Lecture 1.pdf-page11.png'))"
   ]
  },
  {
   "cell_type": "code",
   "execution_count": null,
   "id": "1111a7a6",
   "metadata": {},
   "outputs": [],
   "source": [
    "display(Img('/Users/johngage/JBook/Lectures/pdf-images/08-24 Lecture 1.pdf-page12.png'))"
   ]
  },
  {
   "cell_type": "code",
   "execution_count": null,
   "id": "c7f6d679",
   "metadata": {},
   "outputs": [],
   "source": [
    "display(Img('/Users/johngage/JBook/Lectures/pdf-images/08-24 Lecture 1.pdf-page13.png'))"
   ]
  },
  {
   "cell_type": "code",
   "execution_count": null,
   "id": "6b2c300b",
   "metadata": {},
   "outputs": [],
   "source": [
    "display(Img('/Users/johngage/JBook/Lectures/pdf-images/08-24 Lecture 1.pdf-page14.png'))"
   ]
  },
  {
   "cell_type": "code",
   "execution_count": null,
   "id": "2b22ac95",
   "metadata": {},
   "outputs": [],
   "source": [
    "display(Img('/Users/johngage/JBook/Lectures/pdf-images/08-24 Lecture 1.pdf-page15.png'))"
   ]
  },
  {
   "cell_type": "code",
   "execution_count": null,
   "id": "8580a8b2",
   "metadata": {},
   "outputs": [],
   "source": [
    "display(Img('/Users/johngage/JBook/Lectures/pdf-images/08-24 Lecture 1.pdf-page16.png'))"
   ]
  },
  {
   "cell_type": "code",
   "execution_count": null,
   "id": "5a31c339",
   "metadata": {},
   "outputs": [],
   "source": [
    "display(Img('/Users/johngage/JBook/Lectures/pdf-images/08-24 Lecture 1.pdf-page17.png'))"
   ]
  },
  {
   "cell_type": "code",
   "execution_count": null,
   "id": "c9120b33",
   "metadata": {},
   "outputs": [],
   "source": [
    "display(Img('/Users/johngage/JBook/Lectures/pdf-images/08-24 Lecture 1.pdf-page18.png'))"
   ]
  },
  {
   "cell_type": "code",
   "execution_count": null,
   "id": "b7dac42c",
   "metadata": {},
   "outputs": [],
   "source": [
    "display(Img('/Users/johngage/JBook/Lectures/pdf-images/08-24 Lecture 1.pdf-page19.png'))"
   ]
  },
  {
   "cell_type": "code",
   "execution_count": null,
   "id": "945e3010",
   "metadata": {},
   "outputs": [],
   "source": [
    "display(Img('/Users/johngage/JBook/Lectures/pdf-images/08-24 Lecture 1.pdf-page20.png'))"
   ]
  },
  {
   "cell_type": "code",
   "execution_count": null,
   "id": "6c41ee86",
   "metadata": {},
   "outputs": [],
   "source": [
    "display(Img('/Users/johngage/JBook/Lectures/pdf-images/08-24 Lecture 1.pdf-page21.png'))"
   ]
  },
  {
   "cell_type": "code",
   "execution_count": null,
   "id": "ff037ea8",
   "metadata": {},
   "outputs": [],
   "source": [
    "display(Img('/Users/johngage/JBook/Lectures/pdf-images/08-24 Lecture 1.pdf-page22.png'))"
   ]
  },
  {
   "cell_type": "code",
   "execution_count": null,
   "id": "7e81e78d",
   "metadata": {},
   "outputs": [],
   "source": [
    "display(Img('/Users/johngage/JBook/Lectures/pdf-images/08-24 Lecture 1.pdf-page23.png'))"
   ]
  },
  {
   "cell_type": "code",
   "execution_count": null,
   "id": "9f987519",
   "metadata": {},
   "outputs": [],
   "source": [
    "display(Img('/Users/johngage/JBook/Lectures/pdf-images/08-24 Lecture 1.pdf-page24.png'))"
   ]
  },
  {
   "cell_type": "code",
   "execution_count": null,
   "id": "02ddc01f",
   "metadata": {},
   "outputs": [],
   "source": [
    "display(Img('/Users/johngage/JBook/Lectures/pdf-images/08-24 Lecture 1.pdf-page25.png'))"
   ]
  },
  {
   "cell_type": "code",
   "execution_count": null,
   "id": "4a63d2a0",
   "metadata": {},
   "outputs": [],
   "source": [
    "display(Img('/Users/johngage/JBook/Lectures/pdf-images/08-24 Lecture 1.pdf-page26.png'))"
   ]
  },
  {
   "cell_type": "code",
   "execution_count": null,
   "id": "81fdc17f",
   "metadata": {},
   "outputs": [],
   "source": [
    "display(Img('/Users/johngage/JBook/Lectures/pdf-images/08-24 Lecture 1.pdf-page27.png'))"
   ]
  },
  {
   "cell_type": "code",
   "execution_count": null,
   "id": "8100efc4",
   "metadata": {},
   "outputs": [],
   "source": [
    "display(Img('/Users/johngage/JBook/Lectures/pdf-images/08-24 Lecture 1.pdf-page28.png'))"
   ]
  },
  {
   "cell_type": "code",
   "execution_count": null,
   "id": "3da9f21d",
   "metadata": {},
   "outputs": [],
   "source": [
    "display(Img('/Users/johngage/JBook/Lectures/pdf-images/08-24 Lecture 1.pdf-page29.png'))"
   ]
  },
  {
   "cell_type": "code",
   "execution_count": null,
   "id": "acc02520",
   "metadata": {},
   "outputs": [],
   "source": [
    "display(Img('/Users/johngage/JBook/Lectures/pdf-images/08-24 Lecture 1.pdf-page30.png'))"
   ]
  },
  {
   "cell_type": "code",
   "execution_count": null,
   "id": "9f6d6867",
   "metadata": {},
   "outputs": [],
   "source": [
    "display(Img('/Users/johngage/JBook/Lectures/pdf-images/08-24 Lecture 1.pdf-page31.png'))"
   ]
  },
  {
   "cell_type": "code",
   "execution_count": null,
   "id": "1bd743eb",
   "metadata": {},
   "outputs": [],
   "source": [
    "display(Img('/Users/johngage/JBook/Lectures/pdf-images/08-24 Lecture 1.pdf-page32.png'))"
   ]
  },
  {
   "cell_type": "code",
   "execution_count": null,
   "id": "0d5122fd",
   "metadata": {},
   "outputs": [],
   "source": [
    "display(Img('/Users/johngage/JBook/Lectures/pdf-images/08-24 Lecture 1.pdf-page33.png'))"
   ]
  },
  {
   "cell_type": "code",
   "execution_count": null,
   "id": "8ee17f72",
   "metadata": {},
   "outputs": [],
   "source": [
    "display(Img('/Users/johngage/JBook/Lectures/pdf-images/08-24 Lecture 1.pdf-page34.png'))"
   ]
  },
  {
   "cell_type": "code",
   "execution_count": null,
   "id": "111ae31a",
   "metadata": {},
   "outputs": [],
   "source": [
    "display(Img('/Users/johngage/JBook/Lectures/pdf-images/08-24 Lecture 1.pdf-page35.png'))"
   ]
  },
  {
   "cell_type": "code",
   "execution_count": null,
   "id": "45396e3a",
   "metadata": {},
   "outputs": [],
   "source": [
    "display(Img('/Users/johngage/JBook/Lectures/pdf-images/08-24 Lecture 1.pdf-page36.png'))"
   ]
  },
  {
   "cell_type": "code",
   "execution_count": null,
   "id": "254edfc3",
   "metadata": {},
   "outputs": [],
   "source": [
    "display(Img('/Users/johngage/JBook/Lectures/pdf-images/08-24 Lecture 1.pdf-page37.png'))"
   ]
  },
  {
   "cell_type": "code",
   "execution_count": null,
   "id": "bb357481",
   "metadata": {},
   "outputs": [],
   "source": [
    "display(Img('/Users/johngage/JBook/Lectures/pdf-images/08-24 Lecture 1.pdf-page38.png'))"
   ]
  },
  {
   "cell_type": "code",
   "execution_count": null,
   "id": "626cba96",
   "metadata": {},
   "outputs": [],
   "source": [
    "display(Img('/Users/johngage/JBook/Lectures/pdf-images/08-24 Lecture 1.pdf-page39.png'))"
   ]
  },
  {
   "cell_type": "code",
   "execution_count": null,
   "id": "2c1545ec",
   "metadata": {},
   "outputs": [],
   "source": [
    "display(Img('/Users/johngage/JBook/Lectures/pdf-images/08-24 Lecture 1.pdf-page40.png'))"
   ]
  },
  {
   "cell_type": "code",
   "execution_count": null,
   "id": "26c3ac92",
   "metadata": {},
   "outputs": [],
   "source": [
    "display(Img('/Users/johngage/JBook/Lectures/pdf-images/08-24 Lecture 1.pdf-page41.png'))"
   ]
  },
  {
   "cell_type": "code",
   "execution_count": null,
   "id": "4befab0b",
   "metadata": {},
   "outputs": [],
   "source": [
    "display(Img('/Users/johngage/JBook/Lectures/pdf-images/08-24 Lecture 1.pdf-page42.png'))"
   ]
  },
  {
   "cell_type": "code",
   "execution_count": null,
   "id": "63f08bb2",
   "metadata": {},
   "outputs": [],
   "source": [
    "display(Img('/Users/johngage/JBook/Lectures/pdf-images/08-24 Lecture 1.pdf-page43.png'))"
   ]
  }
 ],
 "metadata": {},
 "nbformat": 4,
 "nbformat_minor": 5
}
