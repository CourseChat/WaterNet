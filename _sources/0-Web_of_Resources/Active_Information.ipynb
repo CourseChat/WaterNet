{
 "cells": [
  {
   "cell_type": "markdown",
   "id": "53f40816",
   "metadata": {},
   "source": [
    "# How this resource is built\n",
    "- Lectures\n",
    "    - PDF\n",
    "    - Notes\n",
    "    - Video\n",
    "    - Transcript\n",
    "## WonJun, this will be an outline of the project"
   ]
  },
  {
   "cell_type": "code",
   "execution_count": 1,
   "id": "29f9debb",
   "metadata": {},
   "outputs": [
    {
     "name": "stdout",
     "output_type": "stream",
     "text": [
      "Today date is:  2023-01-13\n"
     ]
    }
   ],
   "source": [
    "# Import date class from datetime module\n",
    "from datetime import date\n",
    " \n",
    "# Returns the current local date\n",
    "today = date.today()\n",
    "print(\"Today date is: \", today)"
   ]
  }
 ],
 "metadata": {
  "jupytext": {
   "cell_metadata_filter": "-all",
   "formats": "md:myst",
   "text_representation": {
    "extension": ".md",
    "format_name": "myst",
    "format_version": 0.13,
    "jupytext_version": "1.14.4"
   }
  },
  "kernelspec": {
   "display_name": "Python 3 (ipykernel)",
   "language": "python",
   "name": "python3"
  },
  "language_info": {
   "codemirror_mode": {
    "name": "ipython",
    "version": 3
   },
   "file_extension": ".py",
   "mimetype": "text/x-python",
   "name": "python",
   "nbconvert_exporter": "python",
   "pygments_lexer": "ipython3",
   "version": "3.8.15"
  },
  "source_map": [
   14,
   24
  ]
 },
 "nbformat": 4,
 "nbformat_minor": 5
}