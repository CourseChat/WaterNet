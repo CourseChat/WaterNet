{
 "cells": [
  {
   "cell_type": "markdown",
   "id": "1d263f77",
   "metadata": {},
   "source": [
    "# Infrastructure Investments Overview\n",
    "10-03: **Jimi Yoloye**\n",
    "- 10-03\n",
    "- Infrastructure investments overview\n",
    "## EBMUD Distribution System: 4,600 miles\n",
    "\n",
    "![Distribution System](../Images/Distribution_System.png)\n",
    "\n",
    "- [Link to Lecture PDF](https://bcourses.berkeley.edu/courses/1516536/files/folder/Module%204%20-%20Infrastructure%20maintenance%2C%20renewal%20and%20replacement?preview=84282682)\n",
    "- Page 15: Miles of pipe replaced; Total Main breaks reported; 1997- 2024"
   ]
  },
  {
   "cell_type": "code",
   "execution_count": 1,
   "id": "97e82868",
   "metadata": {},
   "outputs": [
    {
     "name": "stdout",
     "output_type": "stream",
     "text": [
      "Years before EBMUD system will be rebuilt  140.0\n"
     ]
    }
   ],
   "source": [
    "#import pandas as pd\n",
    "# Comment: draw from EBMUD live data: use SQL query against main pipeline database\n",
    "milesTotalPipe = 4200\n",
    "milesScheduledRebuildYear = 30\n",
    "yearsBeforeSystemRebuild = milesTotalPipe / milesScheduledRebuildYear \n",
    "print(\"Years before EBMUD system will be rebuilt \", yearsBeforeSystemRebuild)"
   ]
  },
  {
   "cell_type": "markdown",
   "id": "4fa879b3",
   "metadata": {},
   "source": [
    "- need access to machine learning model for graphical version\n",
    "\n",
    "- Page 16: Main Breaks per month: 2020 line; historical bands\n",
    "- Page 22: Cash flow by FY; FY 2022 - 2026\n",
    "- Page 23: Cash flow by project: FY 2022 - 2026\n",
    "- Page 24: Cash flow: for projects\n",
    "- Page 25: Budget by Asset class: FY 2022 - 2026: pie chart\n",
    "- Page 26: Cash flow by asset class: bar chart\n",
    "- Page 27: Timeline 2020- 2030:"
   ]
  },
  {
   "cell_type": "code",
   "execution_count": 2,
   "id": "5e38753e",
   "metadata": {},
   "outputs": [
    {
     "data": {
      "text/plain": [
       "27"
      ]
     },
     "execution_count": 2,
     "metadata": {},
     "output_type": "execute_result"
    }
   ],
   "source": [
    "3 * 9"
   ]
  }
 ],
 "metadata": {
  "jupytext": {
   "cell_metadata_filter": "-all",
   "formats": "md:myst",
   "text_representation": {
    "extension": ".md",
    "format_name": "myst",
    "format_version": 0.13,
    "jupytext_version": "1.11.5"
   }
  },
  "kernelspec": {
   "display_name": "Python 3",
   "language": "python",
   "name": "python3"
  },
  "language_info": {
   "codemirror_mode": {
    "name": "ipython",
    "version": 3
   },
   "file_extension": ".py",
   "mimetype": "text/x-python",
   "name": "python",
   "nbconvert_exporter": "python",
   "pygments_lexer": "ipython3",
   "version": "3.8.15"
  },
  "source_map": [
   14,
   28,
   35,
   45
  ]
 },
 "nbformat": 4,
 "nbformat_minor": 5
}