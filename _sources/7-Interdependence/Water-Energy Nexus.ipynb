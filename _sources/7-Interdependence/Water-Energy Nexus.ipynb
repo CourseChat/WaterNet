{
 "cells": [
  {
   "cell_type": "markdown",
   "id": "656303bd",
   "metadata": {},
   "source": [
    "# Water-Energy Nexus\n",
    "- which videos:\n",
    "\n",
    "#\n",
    "#```{code-cell} python3\n",
    "#import pandas as pd\n",
    "#import matplotlib\n",
    "#print(4 + 5)\n",
    "#```"
   ]
  }
 ],
 "metadata": {
  "jupytext": {
   "cell_metadata_filter": "-all",
   "formats": "md:myst",
   "text_representation": {
    "extension": ".md",
    "format_name": "myst",
    "format_version": 0.13,
    "jupytext_version": "1.14.4"
   }
  },
  "kernelspec": {
   "display_name": "python3",
   "language": "python",
   "name": "python3"
  },
  "language_info": {
   "codemirror_mode": {
    "name": "ipython",
    "version": 3
   },
   "file_extension": ".py",
   "mimetype": "text/x-python",
   "name": "python",
   "nbconvert_exporter": "python",
   "pygments_lexer": "ipython3",
   "version": "3.8.16"
  },
  "source_map": [
   14
  ]
 },
 "nbformat": 4,
 "nbformat_minor": 5
}