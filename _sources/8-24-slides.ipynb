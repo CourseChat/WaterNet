{
 "cells": [
  {
   "cell_type": "code",
   "execution_count": null,
   "id": "0708dd41",
   "metadata": {},
   "outputs": [],
   "source": [
    "display(Img('/Users/johngage/JBook/Lectures/pdf-images/08-24 Lecture 1.pdf-page0.png'))"
   ]
  },
  {
   "cell_type": "code",
   "execution_count": null,
   "id": "201ff3a9",
   "metadata": {},
   "outputs": [],
   "source": [
    "display(Img('/Users/johngage/JBook/Lectures/pdf-images/08-24 Lecture 1.pdf-page1.png'))"
   ]
  },
  {
   "cell_type": "code",
   "execution_count": null,
   "id": "887e6185",
   "metadata": {},
   "outputs": [],
   "source": [
    "display(Img('/Users/johngage/JBook/Lectures/pdf-images/08-24 Lecture 1.pdf-page2.png'))"
   ]
  },
  {
   "cell_type": "code",
   "execution_count": null,
   "id": "8f55aada",
   "metadata": {},
   "outputs": [],
   "source": [
    "display(Img('/Users/johngage/JBook/Lectures/pdf-images/08-24 Lecture 1.pdf-page3.png'))"
   ]
  },
  {
   "cell_type": "code",
   "execution_count": null,
   "id": "10577433",
   "metadata": {},
   "outputs": [],
   "source": [
    "display(Img('/Users/johngage/JBook/Lectures/pdf-images/08-24 Lecture 1.pdf-page4.png'))"
   ]
  },
  {
   "cell_type": "code",
   "execution_count": null,
   "id": "a164769b",
   "metadata": {},
   "outputs": [],
   "source": [
    "display(Img('/Users/johngage/JBook/Lectures/pdf-images/08-24 Lecture 1.pdf-page5.png'))"
   ]
  },
  {
   "cell_type": "code",
   "execution_count": null,
   "id": "d321e1f9",
   "metadata": {},
   "outputs": [],
   "source": [
    "display(Img('/Users/johngage/JBook/Lectures/pdf-images/08-24 Lecture 1.pdf-page6.png'))"
   ]
  },
  {
   "cell_type": "code",
   "execution_count": null,
   "id": "1f769016",
   "metadata": {},
   "outputs": [],
   "source": [
    "display(Img('/Users/johngage/JBook/Lectures/pdf-images/08-24 Lecture 1.pdf-page7.png'))"
   ]
  },
  {
   "cell_type": "code",
   "execution_count": null,
   "id": "2b1b9e7d",
   "metadata": {},
   "outputs": [],
   "source": [
    "display(Img('/Users/johngage/JBook/Lectures/pdf-images/08-24 Lecture 1.pdf-page8.png'))"
   ]
  },
  {
   "cell_type": "code",
   "execution_count": null,
   "id": "ad84f3a2",
   "metadata": {},
   "outputs": [],
   "source": [
    "display(Img('/Users/johngage/JBook/Lectures/pdf-images/08-24 Lecture 1.pdf-page9.png'))"
   ]
  },
  {
   "cell_type": "code",
   "execution_count": null,
   "id": "59f0e2af",
   "metadata": {},
   "outputs": [],
   "source": [
    "display(Img('/Users/johngage/JBook/Lectures/pdf-images/08-24 Lecture 1.pdf-page10.png'))"
   ]
  },
  {
   "cell_type": "code",
   "execution_count": null,
   "id": "c269a204",
   "metadata": {},
   "outputs": [],
   "source": [
    "display(Img('/Users/johngage/JBook/Lectures/pdf-images/08-24 Lecture 1.pdf-page11.png'))"
   ]
  },
  {
   "cell_type": "code",
   "execution_count": null,
   "id": "566def90",
   "metadata": {},
   "outputs": [],
   "source": [
    "display(Img('/Users/johngage/JBook/Lectures/pdf-images/08-24 Lecture 1.pdf-page12.png'))"
   ]
  },
  {
   "cell_type": "code",
   "execution_count": null,
   "id": "cf376371",
   "metadata": {},
   "outputs": [],
   "source": [
    "display(Img('/Users/johngage/JBook/Lectures/pdf-images/08-24 Lecture 1.pdf-page13.png'))"
   ]
  },
  {
   "cell_type": "code",
   "execution_count": null,
   "id": "cf26bdcc",
   "metadata": {},
   "outputs": [],
   "source": [
    "display(Img('/Users/johngage/JBook/Lectures/pdf-images/08-24 Lecture 1.pdf-page14.png'))"
   ]
  },
  {
   "cell_type": "code",
   "execution_count": null,
   "id": "02d802d6",
   "metadata": {},
   "outputs": [],
   "source": [
    "display(Img('/Users/johngage/JBook/Lectures/pdf-images/08-24 Lecture 1.pdf-page15.png'))"
   ]
  },
  {
   "cell_type": "code",
   "execution_count": null,
   "id": "912137dc",
   "metadata": {},
   "outputs": [],
   "source": [
    "display(Img('/Users/johngage/JBook/Lectures/pdf-images/08-24 Lecture 1.pdf-page16.png'))"
   ]
  },
  {
   "cell_type": "code",
   "execution_count": null,
   "id": "c5c4abea",
   "metadata": {},
   "outputs": [],
   "source": [
    "display(Img('/Users/johngage/JBook/Lectures/pdf-images/08-24 Lecture 1.pdf-page17.png'))"
   ]
  },
  {
   "cell_type": "code",
   "execution_count": null,
   "id": "605152cb",
   "metadata": {},
   "outputs": [],
   "source": [
    "display(Img('/Users/johngage/JBook/Lectures/pdf-images/08-24 Lecture 1.pdf-page18.png'))"
   ]
  },
  {
   "cell_type": "code",
   "execution_count": null,
   "id": "248052a8",
   "metadata": {},
   "outputs": [],
   "source": [
    "display(Img('/Users/johngage/JBook/Lectures/pdf-images/08-24 Lecture 1.pdf-page19.png'))"
   ]
  },
  {
   "cell_type": "code",
   "execution_count": null,
   "id": "57cb58ae",
   "metadata": {},
   "outputs": [],
   "source": [
    "display(Img('/Users/johngage/JBook/Lectures/pdf-images/08-24 Lecture 1.pdf-page20.png'))"
   ]
  },
  {
   "cell_type": "code",
   "execution_count": null,
   "id": "f37bbfe8",
   "metadata": {},
   "outputs": [],
   "source": [
    "display(Img('/Users/johngage/JBook/Lectures/pdf-images/08-24 Lecture 1.pdf-page21.png'))"
   ]
  },
  {
   "cell_type": "code",
   "execution_count": null,
   "id": "6be5dda4",
   "metadata": {},
   "outputs": [],
   "source": [
    "display(Img('/Users/johngage/JBook/Lectures/pdf-images/08-24 Lecture 1.pdf-page22.png'))"
   ]
  },
  {
   "cell_type": "code",
   "execution_count": null,
   "id": "e5c678f0",
   "metadata": {},
   "outputs": [],
   "source": [
    "display(Img('/Users/johngage/JBook/Lectures/pdf-images/08-24 Lecture 1.pdf-page23.png'))"
   ]
  },
  {
   "cell_type": "code",
   "execution_count": null,
   "id": "2dcd98ad",
   "metadata": {},
   "outputs": [],
   "source": [
    "display(Img('/Users/johngage/JBook/Lectures/pdf-images/08-24 Lecture 1.pdf-page24.png'))"
   ]
  },
  {
   "cell_type": "code",
   "execution_count": null,
   "id": "e612f12c",
   "metadata": {},
   "outputs": [],
   "source": [
    "display(Img('/Users/johngage/JBook/Lectures/pdf-images/08-24 Lecture 1.pdf-page25.png'))"
   ]
  },
  {
   "cell_type": "code",
   "execution_count": null,
   "id": "ade16a1d",
   "metadata": {},
   "outputs": [],
   "source": [
    "display(Img('/Users/johngage/JBook/Lectures/pdf-images/08-24 Lecture 1.pdf-page26.png'))"
   ]
  },
  {
   "cell_type": "code",
   "execution_count": null,
   "id": "b1b01f0f",
   "metadata": {},
   "outputs": [],
   "source": [
    "display(Img('/Users/johngage/JBook/Lectures/pdf-images/08-24 Lecture 1.pdf-page27.png'))"
   ]
  },
  {
   "cell_type": "code",
   "execution_count": null,
   "id": "cdbabe61",
   "metadata": {},
   "outputs": [],
   "source": [
    "display(Img('/Users/johngage/JBook/Lectures/pdf-images/08-24 Lecture 1.pdf-page28.png'))"
   ]
  },
  {
   "cell_type": "code",
   "execution_count": null,
   "id": "be5dce57",
   "metadata": {},
   "outputs": [],
   "source": [
    "display(Img('/Users/johngage/JBook/Lectures/pdf-images/08-24 Lecture 1.pdf-page29.png'))"
   ]
  },
  {
   "cell_type": "code",
   "execution_count": null,
   "id": "a1626963",
   "metadata": {},
   "outputs": [],
   "source": [
    "display(Img('/Users/johngage/JBook/Lectures/pdf-images/08-24 Lecture 1.pdf-page30.png'))"
   ]
  },
  {
   "cell_type": "code",
   "execution_count": null,
   "id": "1b31b86b",
   "metadata": {},
   "outputs": [],
   "source": [
    "display(Img('/Users/johngage/JBook/Lectures/pdf-images/08-24 Lecture 1.pdf-page31.png'))"
   ]
  },
  {
   "cell_type": "code",
   "execution_count": null,
   "id": "e9215b48",
   "metadata": {},
   "outputs": [],
   "source": [
    "display(Img('/Users/johngage/JBook/Lectures/pdf-images/08-24 Lecture 1.pdf-page32.png'))"
   ]
  },
  {
   "cell_type": "code",
   "execution_count": null,
   "id": "eec596e0",
   "metadata": {},
   "outputs": [],
   "source": [
    "display(Img('/Users/johngage/JBook/Lectures/pdf-images/08-24 Lecture 1.pdf-page33.png'))"
   ]
  },
  {
   "cell_type": "code",
   "execution_count": null,
   "id": "a289a15b",
   "metadata": {},
   "outputs": [],
   "source": [
    "display(Img('/Users/johngage/JBook/Lectures/pdf-images/08-24 Lecture 1.pdf-page34.png'))"
   ]
  },
  {
   "cell_type": "code",
   "execution_count": null,
   "id": "b700c077",
   "metadata": {},
   "outputs": [],
   "source": [
    "display(Img('/Users/johngage/JBook/Lectures/pdf-images/08-24 Lecture 1.pdf-page35.png'))"
   ]
  },
  {
   "cell_type": "code",
   "execution_count": null,
   "id": "7a5203b3",
   "metadata": {},
   "outputs": [],
   "source": [
    "display(Img('/Users/johngage/JBook/Lectures/pdf-images/08-24 Lecture 1.pdf-page36.png'))"
   ]
  },
  {
   "cell_type": "code",
   "execution_count": null,
   "id": "f60fe58e",
   "metadata": {},
   "outputs": [],
   "source": [
    "display(Img('/Users/johngage/JBook/Lectures/pdf-images/08-24 Lecture 1.pdf-page37.png'))"
   ]
  },
  {
   "cell_type": "code",
   "execution_count": null,
   "id": "e85f6f8a",
   "metadata": {},
   "outputs": [],
   "source": [
    "display(Img('/Users/johngage/JBook/Lectures/pdf-images/08-24 Lecture 1.pdf-page38.png'))"
   ]
  },
  {
   "cell_type": "code",
   "execution_count": null,
   "id": "a8082636",
   "metadata": {},
   "outputs": [],
   "source": [
    "display(Img('/Users/johngage/JBook/Lectures/pdf-images/08-24 Lecture 1.pdf-page39.png'))"
   ]
  },
  {
   "cell_type": "code",
   "execution_count": null,
   "id": "c7145923",
   "metadata": {},
   "outputs": [],
   "source": [
    "display(Img('/Users/johngage/JBook/Lectures/pdf-images/08-24 Lecture 1.pdf-page40.png'))"
   ]
  },
  {
   "cell_type": "code",
   "execution_count": null,
   "id": "f6fa4dca",
   "metadata": {},
   "outputs": [],
   "source": [
    "display(Img('/Users/johngage/JBook/Lectures/pdf-images/08-24 Lecture 1.pdf-page41.png'))"
   ]
  },
  {
   "cell_type": "code",
   "execution_count": null,
   "id": "ded5b1a9",
   "metadata": {},
   "outputs": [],
   "source": [
    "display(Img('/Users/johngage/JBook/Lectures/pdf-images/08-24 Lecture 1.pdf-page42.png'))"
   ]
  },
  {
   "cell_type": "code",
   "execution_count": null,
   "id": "62eb56a3",
   "metadata": {},
   "outputs": [],
   "source": [
    "display(Img('/Users/johngage/JBook/Lectures/pdf-images/08-24 Lecture 1.pdf-page43.png'))"
   ]
  }
 ],
 "metadata": {},
 "nbformat": 4,
 "nbformat_minor": 5
}
