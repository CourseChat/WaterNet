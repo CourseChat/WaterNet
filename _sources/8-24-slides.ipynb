{
 "cells": [
  {
   "cell_type": "code",
   "execution_count": null,
   "id": "93edb8d4",
   "metadata": {},
   "outputs": [],
   "source": [
    "display(Img('/Users/johngage/JBook/Lectures/pdf-images/08-24 Lecture 1.pdf-page0.png'))"
   ]
  },
  {
   "cell_type": "code",
   "execution_count": null,
   "id": "12d53c47",
   "metadata": {},
   "outputs": [],
   "source": [
    "display(Img('/Users/johngage/JBook/Lectures/pdf-images/08-24 Lecture 1.pdf-page1.png'))"
   ]
  },
  {
   "cell_type": "code",
   "execution_count": null,
   "id": "7e65b707",
   "metadata": {},
   "outputs": [],
   "source": [
    "display(Img('/Users/johngage/JBook/Lectures/pdf-images/08-24 Lecture 1.pdf-page2.png'))"
   ]
  },
  {
   "cell_type": "code",
   "execution_count": null,
   "id": "453a051e",
   "metadata": {},
   "outputs": [],
   "source": [
    "display(Img('/Users/johngage/JBook/Lectures/pdf-images/08-24 Lecture 1.pdf-page3.png'))"
   ]
  },
  {
   "cell_type": "code",
   "execution_count": null,
   "id": "93fdb335",
   "metadata": {},
   "outputs": [],
   "source": [
    "display(Img('/Users/johngage/JBook/Lectures/pdf-images/08-24 Lecture 1.pdf-page4.png'))"
   ]
  },
  {
   "cell_type": "code",
   "execution_count": null,
   "id": "85de7bd6",
   "metadata": {},
   "outputs": [],
   "source": [
    "display(Img('/Users/johngage/JBook/Lectures/pdf-images/08-24 Lecture 1.pdf-page5.png'))"
   ]
  },
  {
   "cell_type": "code",
   "execution_count": null,
   "id": "1c4393fb",
   "metadata": {},
   "outputs": [],
   "source": [
    "display(Img('/Users/johngage/JBook/Lectures/pdf-images/08-24 Lecture 1.pdf-page6.png'))"
   ]
  },
  {
   "cell_type": "code",
   "execution_count": null,
   "id": "8468de50",
   "metadata": {},
   "outputs": [],
   "source": [
    "display(Img('/Users/johngage/JBook/Lectures/pdf-images/08-24 Lecture 1.pdf-page7.png'))"
   ]
  },
  {
   "cell_type": "code",
   "execution_count": null,
   "id": "ee83fad4",
   "metadata": {},
   "outputs": [],
   "source": [
    "display(Img('/Users/johngage/JBook/Lectures/pdf-images/08-24 Lecture 1.pdf-page8.png'))"
   ]
  },
  {
   "cell_type": "code",
   "execution_count": null,
   "id": "691f949c",
   "metadata": {},
   "outputs": [],
   "source": [
    "display(Img('/Users/johngage/JBook/Lectures/pdf-images/08-24 Lecture 1.pdf-page9.png'))"
   ]
  },
  {
   "cell_type": "code",
   "execution_count": null,
   "id": "5e89925f",
   "metadata": {},
   "outputs": [],
   "source": [
    "display(Img('/Users/johngage/JBook/Lectures/pdf-images/08-24 Lecture 1.pdf-page10.png'))"
   ]
  },
  {
   "cell_type": "code",
   "execution_count": null,
   "id": "24c5bcc5",
   "metadata": {},
   "outputs": [],
   "source": [
    "display(Img('/Users/johngage/JBook/Lectures/pdf-images/08-24 Lecture 1.pdf-page11.png'))"
   ]
  },
  {
   "cell_type": "code",
   "execution_count": null,
   "id": "17c7d4e8",
   "metadata": {},
   "outputs": [],
   "source": [
    "display(Img('/Users/johngage/JBook/Lectures/pdf-images/08-24 Lecture 1.pdf-page12.png'))"
   ]
  },
  {
   "cell_type": "code",
   "execution_count": null,
   "id": "cddfe3c5",
   "metadata": {},
   "outputs": [],
   "source": [
    "display(Img('/Users/johngage/JBook/Lectures/pdf-images/08-24 Lecture 1.pdf-page13.png'))"
   ]
  },
  {
   "cell_type": "code",
   "execution_count": null,
   "id": "05970971",
   "metadata": {},
   "outputs": [],
   "source": [
    "display(Img('/Users/johngage/JBook/Lectures/pdf-images/08-24 Lecture 1.pdf-page14.png'))"
   ]
  },
  {
   "cell_type": "code",
   "execution_count": null,
   "id": "49087abb",
   "metadata": {},
   "outputs": [],
   "source": [
    "display(Img('/Users/johngage/JBook/Lectures/pdf-images/08-24 Lecture 1.pdf-page15.png'))"
   ]
  },
  {
   "cell_type": "code",
   "execution_count": null,
   "id": "8d3b0453",
   "metadata": {},
   "outputs": [],
   "source": [
    "display(Img('/Users/johngage/JBook/Lectures/pdf-images/08-24 Lecture 1.pdf-page16.png'))"
   ]
  },
  {
   "cell_type": "code",
   "execution_count": null,
   "id": "b5cec30d",
   "metadata": {},
   "outputs": [],
   "source": [
    "display(Img('/Users/johngage/JBook/Lectures/pdf-images/08-24 Lecture 1.pdf-page17.png'))"
   ]
  },
  {
   "cell_type": "code",
   "execution_count": null,
   "id": "6c0abc55",
   "metadata": {},
   "outputs": [],
   "source": [
    "display(Img('/Users/johngage/JBook/Lectures/pdf-images/08-24 Lecture 1.pdf-page18.png'))"
   ]
  },
  {
   "cell_type": "code",
   "execution_count": null,
   "id": "ee435659",
   "metadata": {},
   "outputs": [],
   "source": [
    "display(Img('/Users/johngage/JBook/Lectures/pdf-images/08-24 Lecture 1.pdf-page19.png'))"
   ]
  },
  {
   "cell_type": "code",
   "execution_count": null,
   "id": "84314363",
   "metadata": {},
   "outputs": [],
   "source": [
    "display(Img('/Users/johngage/JBook/Lectures/pdf-images/08-24 Lecture 1.pdf-page20.png'))"
   ]
  },
  {
   "cell_type": "code",
   "execution_count": null,
   "id": "c7e8d095",
   "metadata": {},
   "outputs": [],
   "source": [
    "display(Img('/Users/johngage/JBook/Lectures/pdf-images/08-24 Lecture 1.pdf-page21.png'))"
   ]
  },
  {
   "cell_type": "code",
   "execution_count": null,
   "id": "ae8cfac6",
   "metadata": {},
   "outputs": [],
   "source": [
    "display(Img('/Users/johngage/JBook/Lectures/pdf-images/08-24 Lecture 1.pdf-page22.png'))"
   ]
  },
  {
   "cell_type": "code",
   "execution_count": null,
   "id": "22399bbe",
   "metadata": {},
   "outputs": [],
   "source": [
    "display(Img('/Users/johngage/JBook/Lectures/pdf-images/08-24 Lecture 1.pdf-page23.png'))"
   ]
  },
  {
   "cell_type": "code",
   "execution_count": null,
   "id": "ef567b3c",
   "metadata": {},
   "outputs": [],
   "source": [
    "display(Img('/Users/johngage/JBook/Lectures/pdf-images/08-24 Lecture 1.pdf-page24.png'))"
   ]
  },
  {
   "cell_type": "code",
   "execution_count": null,
   "id": "90f22037",
   "metadata": {},
   "outputs": [],
   "source": [
    "display(Img('/Users/johngage/JBook/Lectures/pdf-images/08-24 Lecture 1.pdf-page25.png'))"
   ]
  },
  {
   "cell_type": "code",
   "execution_count": null,
   "id": "c8bf9737",
   "metadata": {},
   "outputs": [],
   "source": [
    "display(Img('/Users/johngage/JBook/Lectures/pdf-images/08-24 Lecture 1.pdf-page26.png'))"
   ]
  },
  {
   "cell_type": "code",
   "execution_count": null,
   "id": "4a0e9304",
   "metadata": {},
   "outputs": [],
   "source": [
    "display(Img('/Users/johngage/JBook/Lectures/pdf-images/08-24 Lecture 1.pdf-page27.png'))"
   ]
  },
  {
   "cell_type": "code",
   "execution_count": null,
   "id": "1f26af6e",
   "metadata": {},
   "outputs": [],
   "source": [
    "display(Img('/Users/johngage/JBook/Lectures/pdf-images/08-24 Lecture 1.pdf-page28.png'))"
   ]
  },
  {
   "cell_type": "code",
   "execution_count": null,
   "id": "5a0379f8",
   "metadata": {},
   "outputs": [],
   "source": [
    "display(Img('/Users/johngage/JBook/Lectures/pdf-images/08-24 Lecture 1.pdf-page29.png'))"
   ]
  },
  {
   "cell_type": "code",
   "execution_count": null,
   "id": "4ac1ebc0",
   "metadata": {},
   "outputs": [],
   "source": [
    "display(Img('/Users/johngage/JBook/Lectures/pdf-images/08-24 Lecture 1.pdf-page30.png'))"
   ]
  },
  {
   "cell_type": "code",
   "execution_count": null,
   "id": "0b9dbfb5",
   "metadata": {},
   "outputs": [],
   "source": [
    "display(Img('/Users/johngage/JBook/Lectures/pdf-images/08-24 Lecture 1.pdf-page31.png'))"
   ]
  },
  {
   "cell_type": "code",
   "execution_count": null,
   "id": "e5046f68",
   "metadata": {},
   "outputs": [],
   "source": [
    "display(Img('/Users/johngage/JBook/Lectures/pdf-images/08-24 Lecture 1.pdf-page32.png'))"
   ]
  },
  {
   "cell_type": "code",
   "execution_count": null,
   "id": "b3fc3c1e",
   "metadata": {},
   "outputs": [],
   "source": [
    "display(Img('/Users/johngage/JBook/Lectures/pdf-images/08-24 Lecture 1.pdf-page33.png'))"
   ]
  },
  {
   "cell_type": "code",
   "execution_count": null,
   "id": "2ca19ed4",
   "metadata": {},
   "outputs": [],
   "source": [
    "display(Img('/Users/johngage/JBook/Lectures/pdf-images/08-24 Lecture 1.pdf-page34.png'))"
   ]
  },
  {
   "cell_type": "code",
   "execution_count": null,
   "id": "daf6fdc9",
   "metadata": {},
   "outputs": [],
   "source": [
    "display(Img('/Users/johngage/JBook/Lectures/pdf-images/08-24 Lecture 1.pdf-page35.png'))"
   ]
  },
  {
   "cell_type": "code",
   "execution_count": null,
   "id": "be8779f9",
   "metadata": {},
   "outputs": [],
   "source": [
    "display(Img('/Users/johngage/JBook/Lectures/pdf-images/08-24 Lecture 1.pdf-page36.png'))"
   ]
  },
  {
   "cell_type": "code",
   "execution_count": null,
   "id": "a80548cc",
   "metadata": {},
   "outputs": [],
   "source": [
    "display(Img('/Users/johngage/JBook/Lectures/pdf-images/08-24 Lecture 1.pdf-page37.png'))"
   ]
  },
  {
   "cell_type": "code",
   "execution_count": null,
   "id": "cd6b8e7f",
   "metadata": {},
   "outputs": [],
   "source": [
    "display(Img('/Users/johngage/JBook/Lectures/pdf-images/08-24 Lecture 1.pdf-page38.png'))"
   ]
  },
  {
   "cell_type": "code",
   "execution_count": null,
   "id": "6c64b576",
   "metadata": {},
   "outputs": [],
   "source": [
    "display(Img('/Users/johngage/JBook/Lectures/pdf-images/08-24 Lecture 1.pdf-page39.png'))"
   ]
  },
  {
   "cell_type": "code",
   "execution_count": null,
   "id": "8ed85dc6",
   "metadata": {},
   "outputs": [],
   "source": [
    "display(Img('/Users/johngage/JBook/Lectures/pdf-images/08-24 Lecture 1.pdf-page40.png'))"
   ]
  },
  {
   "cell_type": "code",
   "execution_count": null,
   "id": "45999cc0",
   "metadata": {},
   "outputs": [],
   "source": [
    "display(Img('/Users/johngage/JBook/Lectures/pdf-images/08-24 Lecture 1.pdf-page41.png'))"
   ]
  },
  {
   "cell_type": "code",
   "execution_count": null,
   "id": "b7b5f613",
   "metadata": {},
   "outputs": [],
   "source": [
    "display(Img('/Users/johngage/JBook/Lectures/pdf-images/08-24 Lecture 1.pdf-page42.png'))"
   ]
  },
  {
   "cell_type": "code",
   "execution_count": null,
   "id": "05f6f818",
   "metadata": {},
   "outputs": [],
   "source": [
    "display(Img('/Users/johngage/JBook/Lectures/pdf-images/08-24 Lecture 1.pdf-page43.png'))"
   ]
  }
 ],
 "metadata": {},
 "nbformat": 4,
 "nbformat_minor": 5
}
