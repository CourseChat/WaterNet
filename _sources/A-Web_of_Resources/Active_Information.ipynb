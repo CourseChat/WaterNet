{
 "cells": [
  {
   "cell_type": "markdown",
   "id": "cb3be561",
   "metadata": {},
   "source": [
    "# How this resource is built\n",
    "- Lectures\n",
    "    - PDF\n",
    "    - Notes\n",
    "    - Video\n",
    "    - Transcript\n",
    "## Discuss best way to recruit JN coders from DS8, DS100 GSI's, past instructors\n",
    "- Mental image: create a series of DS100 homework assignments that draw on EBMUD, SIMLAB, and CSI data\n",
    "- Extend partnership to UCLA, Stanford, other elements of UCB Water Center\n",
    "- Enlist LADWP, Municipal, SF Public Utilities, California Public Utilities; California Water Boards;\n",
    "## WonJun, this will be an interactive outline of the project progress\n",
    "- Useful for quick updates of Kenichi, Clifford, Dave, and JN team members"
   ]
  },
  {
   "cell_type": "code",
   "execution_count": 1,
   "id": "64382dc3",
   "metadata": {},
   "outputs": [
    {
     "name": "stdout",
     "output_type": "stream",
     "text": [
      "Today date is:  2023-01-24\n"
     ]
    }
   ],
   "source": [
    "# Import date class from datetime module\n",
    "from datetime import date\n",
    " \n",
    "# Returns the current local date\n",
    "today = date.today()\n",
    "print(\"Today date is: \", today)"
   ]
  }
 ],
 "metadata": {
  "jupytext": {
   "cell_metadata_filter": "-all",
   "formats": "md:myst",
   "text_representation": {
    "extension": ".md",
    "format_name": "myst",
    "format_version": 0.13,
    "jupytext_version": "1.14.4"
   }
  },
  "kernelspec": {
   "display_name": "Python 3 (ipykernel)",
   "language": "python",
   "name": "python3"
  },
  "language_info": {
   "codemirror_mode": {
    "name": "ipython",
    "version": 3
   },
   "file_extension": ".py",
   "mimetype": "text/x-python",
   "name": "python",
   "nbconvert_exporter": "python",
   "pygments_lexer": "ipython3",
   "version": "3.8.16"
  },
  "source_map": [
   14,
   29
  ]
 },
 "nbformat": 4,
 "nbformat_minor": 5
}