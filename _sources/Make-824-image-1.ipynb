{
 "cells": [
  {
   "cell_type": "code",
   "execution_count": 1,
   "metadata": {},
   "outputs": [],
   "source": [
    "import nbformat\n",
    "from IPython.display import display, Image as Img\n",
    "\n",
    "# create new notebook\n",
    "nb = nbformat.v4.new_notebook()\n",
    "\n",
    "# add code cells to notebook\n",
    "for i in range(44):\n",
    "    # create the path of the image\n",
    "    img_path = f'/Users/johngage/JBook/Lectures/pdf-images/08-24 Lecture 1.pdf-page{i}.png'\n",
    "    nb['cells'].append(nbformat.v4.new_code_cell(f\"display(Img('{img_path}'))\"))\n",
    "\n",
    "# write notebook to file\n",
    "with open('8-24-slides.ipynb', 'w') as f:\n",
    "    nbformat.write(nb, f)\n"
   ]
  },
  {
   "cell_type": "code",
   "execution_count": null,
   "metadata": {},
   "outputs": [],
   "source": []
  }
 ],
 "metadata": {
  "kernelspec": {
   "display_name": "Python 3",
   "language": "python",
   "name": "python3"
  },
  "language_info": {
   "codemirror_mode": {
    "name": "ipython",
    "version": 3
   },
   "file_extension": ".py",
   "mimetype": "text/x-python",
   "name": "python",
   "nbconvert_exporter": "python",
   "pygments_lexer": "ipython3",
   "version": "3.10.9 (v3.10.9:1dd9be6584, Dec  6 2022, 14:37:36) [Clang 13.0.0 (clang-1300.0.29.30)]"
  },
  "orig_nbformat": 4,
  "vscode": {
   "interpreter": {
    "hash": "44a9cdcbdccbf05a880e90d2e6fe72470baab4d1b82472d890be0596ed887a6b"
   }
  }
 },
 "nbformat": 4,
 "nbformat_minor": 2
}
