{
 "cells": [
  {
   "cell_type": "markdown",
   "id": "d3bb5d21",
   "metadata": {},
   "source": [
    "# JN from Jupytext"
   ]
  },
  {
   "cell_type": "code",
   "execution_count": 1,
   "id": "e955eca4",
   "metadata": {},
   "outputs": [],
   "source": [
    "# Import statements\n",
    "import math\n",
    "import operator\n",
    "#from datascience import *\n"
   ]
  },
  {
   "cell_type": "code",
   "execution_count": 2,
   "id": "b8e17e8a",
   "metadata": {},
   "outputs": [],
   "source": [
    "# Import set two\n",
    "import matplotlib\n",
    "matplotlib.use('Agg')\n",
    "#from datascience import Table\n",
    "%matplotlib inline\n",
    "import matplotlib.pyplot as plt\n",
    "import numpy as np\n",
    "plt.style.use('fivethirtyeight')"
   ]
  },
  {
   "cell_type": "code",
   "execution_count": 3,
   "id": "5272c565",
   "metadata": {},
   "outputs": [],
   "source": [
    "# import urlrequest\n",
    "import urllib.request\n",
    "#add urllib\n",
    "import urllib\n",
    "#import datascience"
   ]
  },
  {
   "cell_type": "code",
   "execution_count": 4,
   "id": "e8794a83",
   "metadata": {},
   "outputs": [
    {
     "ename": "ModuleNotFoundError",
     "evalue": "No module named 'pandas'",
     "output_type": "error",
     "traceback": [
      "\u001b[0;31m---------------------------------------------------------------------------\u001b[0m",
      "\u001b[0;31mModuleNotFoundError\u001b[0m                       Traceback (most recent call last)",
      "Cell \u001b[0;32mIn[4], line 11\u001b[0m\n\u001b[1;32m      4\u001b[0m \u001b[38;5;28;01mimport\u001b[39;00m \u001b[38;5;21;01mmatplotlib\u001b[39;00m\u001b[38;5;21;01m.\u001b[39;00m\u001b[38;5;21;01mpyplot\u001b[39;00m \u001b[38;5;28;01mas\u001b[39;00m \u001b[38;5;21;01mplt\u001b[39;00m\n\u001b[1;32m      5\u001b[0m \u001b[38;5;66;03m#%matplotlib inline\u001b[39;00m\n\u001b[1;32m      6\u001b[0m \n\u001b[1;32m      7\u001b[0m \u001b[38;5;66;03m# Make plots look a little bit more fancy\u001b[39;00m\n\u001b[1;32m      8\u001b[0m \u001b[38;5;66;03m#plt.style.use('fivethirtyeight')\u001b[39;00m\n\u001b[1;32m      9\u001b[0m \n\u001b[1;32m     10\u001b[0m \u001b[38;5;66;03m# The standard library for data in tables\u001b[39;00m\n\u001b[0;32m---> 11\u001b[0m \u001b[38;5;28;01mimport\u001b[39;00m \u001b[38;5;21;01mpandas\u001b[39;00m \u001b[38;5;28;01mas\u001b[39;00m \u001b[38;5;21;01mpd\u001b[39;00m\n\u001b[1;32m     13\u001b[0m \u001b[38;5;66;03m# A tiny function to read a file directly from a URL\u001b[39;00m\n\u001b[1;32m     14\u001b[0m \u001b[38;5;28;01mfrom\u001b[39;00m \u001b[38;5;21;01murllib\u001b[39;00m\u001b[38;5;21;01m.\u001b[39;00m\u001b[38;5;21;01mrequest\u001b[39;00m \u001b[38;5;28;01mimport\u001b[39;00m urlopen\n",
      "\u001b[0;31mModuleNotFoundError\u001b[0m: No module named 'pandas'"
     ]
    }
   ],
   "source": [
    "# HIDDEN\n",
    "# The standard set of libraries we need\n",
    "import numpy as np\n",
    "import matplotlib.pyplot as plt\n",
    "#%matplotlib inline\n",
    "\n",
    "# Make plots look a little bit more fancy\n",
    "#plt.style.use('fivethirtyeight')\n",
    "\n",
    "# The standard library for data in tables\n",
    "import pandas as pd\n",
    "\n",
    "# A tiny function to read a file directly from a URL\n",
    "from urllib.request import urlopen\n",
    "\n",
    "def read_url(url):\n",
    "    return urlopen(url).read().decode()"
   ]
  },
  {
   "cell_type": "code",
   "execution_count": null,
   "id": "dd34f8bd",
   "metadata": {},
   "outputs": [],
   "source": [
    "huck_finn_url = 'https://www.inferentialthinking.com/data/huck_finn.txt'\n",
    "print(huck_finn_url)"
   ]
  },
  {
   "cell_type": "code",
   "execution_count": null,
   "id": "adb8ec9c",
   "metadata": {},
   "outputs": [],
   "source": [
    "#different url library\n",
    "import urllib  # the lib that handles the url stuff"
   ]
  },
  {
   "cell_type": "code",
   "execution_count": null,
   "id": "82578bb9",
   "metadata": {},
   "outputs": [],
   "source": [
    "huck_finn_text = read_url(huck_finn_url)"
   ]
  },
  {
   "cell_type": "code",
   "execution_count": null,
   "id": "a4bf0175",
   "metadata": {},
   "outputs": [],
   "source": [
    "# Importing necessary packages\n",
    "import datetime as dt\n",
    "import matplotlib.pyplot as plt\n",
    "import pandas as pd\n",
    "import os\n",
    "import numpy as np"
   ]
  },
  {
   "cell_type": "code",
   "execution_count": null,
   "id": "fa8ce1db",
   "metadata": {},
   "outputs": [],
   "source": [
    "!ipython profile locate default"
   ]
  },
  {
   "cell_type": "code",
   "execution_count": null,
   "id": "6483f6d4",
   "metadata": {},
   "outputs": [],
   "source": [
    "import urllib.request"
   ]
  },
  {
   "cell_type": "code",
   "execution_count": null,
   "id": "1133cbd8",
   "metadata": {},
   "outputs": [],
   "source": [
    "# Read two books, fast!  Skip, old\n",
    "\n",
    "# huck_finn_url = 'https://www.inferentialthinking.com/data/huck_finn.txt'\n",
    "# huck_finn_text = read_url(huck_finn_url)\n",
    "\n",
    "huck_finn_chapters = huck_finn_text.split('CHAPTER ')[44:]"
   ]
  },
  {
   "cell_type": "code",
   "execution_count": null,
   "id": "955accaa",
   "metadata": {},
   "outputs": [],
   "source": [
    "# Display the chapters of Huckleberry Finn in a table. Original DS8\n",
    "\n",
    "#Table().with_column('Chapters', huck_finn_chapters)"
   ]
  },
  {
   "cell_type": "code",
   "execution_count": null,
   "id": "2f362e06",
   "metadata": {},
   "outputs": [],
   "source": [
    "# HIDDEN fix this\n",
    "# Read the text of Pride and Prejudice, split into chapters.\n",
    "book_url = 'http://www.gutenberg.org/ebooks/42671.txt.utf-8'\n",
    "book_text = read_url(book_url)\n",
    "# Break the text into Chapters: change name from book to huck_finn\n",
    "huck_finn_chapters = book_text.split('CHAPTER ')\n",
    "# Drop the first \"Chapter\" - it's the Project Gutenberg header\n",
    "huck_finn_chapters = huck_finn_chapters[0:]"
   ]
  },
  {
   "cell_type": "code",
   "execution_count": null,
   "id": "480fd8f9",
   "metadata": {},
   "outputs": [],
   "source": [
    "# Show the first few words of each chapter in a table.\n",
    "pd.DataFrame(huck_finn_chapters, columns=['Chapters'])"
   ]
  },
  {
   "cell_type": "code",
   "execution_count": null,
   "id": "ee7d1344",
   "metadata": {},
   "outputs": [],
   "source": [
    "# Count how many times the names Jim, Tom, and Huck appear in each chapter.\n",
    "\n",
    "#counts = Table().with_columns([\n",
    " #       'Jim', np.char.count(huck_finn_chapters, 'Jim'),\n",
    " #       'Tom', np.char.count(huck_finn_chapters, 'Tom'),\n",
    " #       'Huck', np.char.count(huck_finn_chapters, 'Huck')\n",
    "  #  ])\n",
    "counts = pd.DataFrame.from_dict({\n",
    "        'Elizabeth': np.char.count(huck_finn_chapters, 'Elizabeth'),\n",
    "        'Darcy': np.char.count(huck_finn_chapters, 'Darcy'),\n",
    "        'Lydia': np.char.count(huck_finn_chapters, 'Lydia'),\n",
    "        'Wickham': np.char.count(huck_finn_chapters, 'Wickham'),\n",
    "        'Bingley': np.char.count(huck_finn_chapters, 'Bingley'),\n",
    "        'Jane': np.char.count(huck_finn_chapters, 'Jane')},\n",
    "    )\n",
    "\n",
    "# Plot the cumulative counts:\n",
    "# how many times in Chapter 1, how many times in Chapters 1 and 2, and so on.\n",
    "\n",
    "#cum_counts = counts.cumsum().with_column('Chapter', np.arange(1, 44, 1)) Old\n",
    "cum_counts = counts.cumsum()\n",
    "\n",
    "# Add the chapter numbers\n",
    "number_of_chapters = len(huck_finn_chapters)\n",
    "cum_counts['Chapter'] = np.arange(number_of_chapters)\n",
    "\n",
    "#cum_counts.plot(column_for_xticks=3)\n",
    "# Do the plot\n",
    "cum_counts.plot(x='Chapter')\n",
    "plt.title('Cumulative Number of Times Each Name Appears');\n",
    "#plt.title('Cumulative Number of Times Each Name Appears', y=1.08);"
   ]
  },
  {
   "cell_type": "markdown",
   "id": "07914ed1",
   "metadata": {},
   "source": [
    "md cell"
   ]
  },
  {
   "cell_type": "code",
   "execution_count": null,
   "id": "b6ce4581",
   "metadata": {},
   "outputs": [],
   "source": [
    "print(huck_finn_text)"
   ]
  },
  {
   "cell_type": "code",
   "execution_count": null,
   "id": "ef2b5da3",
   "metadata": {},
   "outputs": [],
   "source": [
    "little_women_url = 'https://www.inferentialthinking.com/data/little_women.txt'\n",
    "little_women_text = read_url(little_women_url)\n",
    "#with urllib.request.urlopen(little_women_url) as response:\n",
    "#   little_women_text = response.read().decode()\n",
    "#urlopen(url).read().decode()\n",
    "type(little_women_text)\n",
    "little_women_chapters = little_women_text.split('CHAPTER ')[1:]"
   ]
  },
  {
   "cell_type": "code",
   "execution_count": null,
   "id": "71a2afe0",
   "metadata": {},
   "outputs": [],
   "source": [
    "print(little_women_text)"
   ]
  },
  {
   "cell_type": "code",
   "execution_count": null,
   "id": "ab7085f8",
   "metadata": {},
   "outputs": [],
   "source": [
    "# Use another form\n",
    "# Get the text for Pride and Prejudice\n",
    "book_url = 'http://www.gutenberg.org/ebooks/42671.txt.utf-8'\n",
    "book_text = read_url(book_url)"
   ]
  },
  {
   "cell_type": "code",
   "execution_count": null,
   "id": "a2e05843",
   "metadata": {},
   "outputs": [],
   "source": [
    "import urllib.request\n",
    "\n",
    "req = urllib.request.Request('http://www.gutenberg.org/ebooks/42671.txt.utf-8')\n",
    "with urllib.request.urlopen(req) as response:\n",
    "   the_page = response.read().decode()"
   ]
  },
  {
   "cell_type": "code",
   "execution_count": null,
   "id": "c67a0016",
   "metadata": {},
   "outputs": [],
   "source": [
    "print(the_page)"
   ]
  },
  {
   "cell_type": "code",
   "execution_count": null,
   "id": "bd8e85b1",
   "metadata": {},
   "outputs": [],
   "source": [
    "# The chapters of Little Women, in a table\n",
    "\n",
    "Table().with_column('Chapters', little_women_chapters)"
   ]
  },
  {
   "cell_type": "code",
   "execution_count": null,
   "id": "5062462f",
   "metadata": {},
   "outputs": [],
   "source": [
    "# Counts of names in the chapters of Little Women\n",
    "\n",
    "counts = Table().with_columns([\n",
    "        'Amy', np.char.count(little_women_chapters, 'Amy'),\n",
    "        'Beth', np.char.count(little_women_chapters, 'Beth'),\n",
    "        'Jo', np.char.count(little_women_chapters, 'Jo'),\n",
    "        'Meg', np.char.count(little_women_chapters, 'Meg'),\n",
    "        'Laurie', np.char.count(little_women_chapters, 'Laurie'),\n",
    "\n",
    "    ])\n",
    "\n",
    "# Plot the cumulative counts.\n",
    "\n",
    "cum_counts = counts.cumsum().with_column('Chapter', np.arange(1, 48, 1))\n",
    "cum_counts.plot(column_for_xticks=5)\n",
    "plt.title('Cumulative Number of Times Each Name Appears', y=1.08);"
   ]
  },
  {
   "cell_type": "code",
   "execution_count": null,
   "id": "7fdf0f11",
   "metadata": {},
   "outputs": [],
   "source": [
    "# In each chapter, count the number of all characters;\n",
    "# call this the \"length\" of the chapter.\n",
    "# Also count the number of periods.\n",
    "\n",
    "chars_periods_huck_finn = Table().with_columns([\n",
    "        'Huck Finn Chapter Length', [len(s) for s in huck_finn_chapters],\n",
    "        'Number of Periods', np.char.count(huck_finn_chapters, '.')\n",
    "    ])\n",
    "chars_periods_little_women = Table().with_columns([\n",
    "        'Little Women Chapter Length', [len(s) for s in little_women_chapters],\n",
    "        'Number of Periods', np.char.count(little_women_chapters, '.')\n",
    "    ])"
   ]
  },
  {
   "cell_type": "code",
   "execution_count": null,
   "id": "7d409d38",
   "metadata": {},
   "outputs": [],
   "source": [
    "chars_periods_huck_finn"
   ]
  },
  {
   "cell_type": "code",
   "execution_count": null,
   "id": "144116de",
   "metadata": {},
   "outputs": [],
   "source": [
    "3 * 9"
   ]
  },
  {
   "cell_type": "code",
   "execution_count": null,
   "id": "ad0a6c9b",
   "metadata": {},
   "outputs": [],
   "source": [
    "Table()"
   ]
  },
  {
   "cell_type": "code",
   "execution_count": null,
   "id": "caa92e4f",
   "metadata": {},
   "outputs": [],
   "source": [
    "Table().with_columns('Number of petals', make_array(8, 34, 5))"
   ]
  },
  {
   "cell_type": "code",
   "execution_count": null,
   "id": "f88c2b55",
   "metadata": {},
   "outputs": [],
   "source": [
    "minard = Table.read_table(path_data + 'minard.csv')\n",
    "minard"
   ]
  },
  {
   "cell_type": "code",
   "execution_count": null,
   "id": "53a002ad",
   "metadata": {},
   "outputs": [],
   "source": [
    "Table.read_table('https://www.inferentialthinking.com/data/sat2014.csv')"
   ]
  },
  {
   "cell_type": "code",
   "execution_count": null,
   "id": "223da663",
   "metadata": {},
   "outputs": [],
   "source": [
    "Table.read_table('https://www.inferentialthinking.com/data/sat2014.csv')"
   ]
  },
  {
   "cell_type": "code",
   "execution_count": null,
   "id": "a847675e",
   "metadata": {},
   "outputs": [],
   "source": [
    "import matplotlib.pyplot as plots"
   ]
  },
  {
   "cell_type": "code",
   "execution_count": null,
   "id": "0121ef34",
   "metadata": {},
   "outputs": [],
   "source": [
    "plots.figure(figsize=(6, 6))\n",
    "plots.scatter(chars_periods_huck_finn.column(1), \n",
    "              chars_periods_huck_finn.column(0), \n",
    "              color='darkblue')\n",
    "plots.scatter(chars_periods_little_women.column(1), \n",
    "              chars_periods_little_women.column(0), \n",
    "              color='gold')\n",
    "plots.xlabel('Number of periods in chapter')\n",
    "plots.ylabel('Number of characters in chapter');"
   ]
  },
  {
   "cell_type": "code",
   "execution_count": null,
   "id": "3b342191",
   "metadata": {},
   "outputs": [],
   "source": [
    "import numpy as np                     # Load the library\n",
    "\n",
    "a = np.linspace(-np.pi, np.pi, 100)    # Create even grid from -π to π\n",
    "b = np.cos(a)                          # Apply cosine to each element of a\n",
    "c = np.sin(a)                          # Apply sin to each element of a"
   ]
  },
  {
   "cell_type": "code",
   "execution_count": null,
   "id": "3d58a397",
   "metadata": {},
   "outputs": [],
   "source": [
    "b @ c"
   ]
  },
  {
   "cell_type": "code",
   "execution_count": null,
   "id": "896aa64d",
   "metadata": {},
   "outputs": [],
   "source": [
    "from scipy.stats import norm\n",
    "from scipy.integrate import quad\n",
    "\n",
    "ϕ = norm()\n",
    "value, error = quad(ϕ.pdf, -2, 2)  # Integrate using Gaussian quadrature\n",
    "value"
   ]
  },
  {
   "cell_type": "code",
   "execution_count": null,
   "id": "11ee1092",
   "metadata": {},
   "outputs": [],
   "source": [
    "from sympy import Symbol\n",
    "\n",
    "x, y = Symbol('x'), Symbol('y')  # Treat 'x' and 'y' as algebraic symbols\n",
    "x + x + x + y"
   ]
  },
  {
   "cell_type": "code",
   "execution_count": null,
   "id": "5df80f79",
   "metadata": {},
   "outputs": [],
   "source": [
    "expression = (x + y)**2\n",
    "expression.expand()"
   ]
  },
  {
   "cell_type": "code",
   "execution_count": null,
   "id": "80b96c43",
   "metadata": {},
   "outputs": [],
   "source": [
    "import pandas as pd\n",
    "np.random.seed(1234)\n",
    "\n",
    "data = np.random.randn(5, 2)  # 5x2 matrix of N(0, 1) random draws\n",
    "dates = pd.date_range('1/1/2023', periods=5, freq=\"M\")\n",
    "\n",
    "df = pd.DataFrame(data, columns=('price', 'weight'), index=dates)\n",
    "print(df)"
   ]
  },
  {
   "cell_type": "code",
   "execution_count": null,
   "id": "077a48bb",
   "metadata": {},
   "outputs": [],
   "source": []
  },
  {
   "cell_type": "code",
   "execution_count": null,
   "id": "55e36f74",
   "metadata": {},
   "outputs": [],
   "source": [
    "maindata = pd.Series([30,40,50,10, 50], name = \"main\")\n",
    "dates = pd.date_range('1/1/2023', periods=5, freq=\"Y\")\n",
    "df = pd.DataFrame( {\"Year\": dates, 'Mainbreaks/100mi/year' : maindata})\n",
    "print(df)"
   ]
  },
  {
   "cell_type": "code",
   "execution_count": null,
   "id": "26d0668f",
   "metadata": {},
   "outputs": [],
   "source": [
    "# An example input vector\n",
    "x = np.array(\n",
    "    [ 0.4967, -0.1383,  0.6477,  1.523 , -0.2342, -0.2341,  1.5792,\n",
    "      0.7674, -0.4695,  0.5426, -0.4634, -0.4657,  0.242 , -1.9133,\n",
    "      -1.7249, -0.5623, -1.0128,  0.3142, -0.908 , -1.4123,  1.4656,\n",
    "      -0.2258,  0.0675, -1.4247, -0.5444,  0.1109, -1.151 ,  0.3757,\n",
    "      -0.6006, -0.2917, -0.6017,  1.8523])\n",
    "N = len(x)\n",
    "\n",
    "plt.plot(x)"
   ]
  }
 ],
 "metadata": {
  "jupytext": {
   "text_representation": {
    "extension": ".md",
    "format_name": "myst",
    "format_version": 0.13,
    "jupytext_version": "1.14.4"
   }
  },
  "kernelspec": {
   "display_name": "Python 3",
   "language": "python",
   "name": "python3"
  },
  "language_info": {
   "codemirror_mode": {
    "name": "ipython",
    "version": 3
   },
   "file_extension": ".py",
   "mimetype": "text/x-python",
   "name": "python",
   "nbconvert_exporter": "python",
   "pygments_lexer": "ipython3",
   "version": "3.8.16"
  },
  "source_map": [
   12,
   16,
   24,
   35,
   43,
   63,
   68,
   73,
   77,
   86,
   90,
   94,
   103,
   109,
   120,
   125,
   157,
   161,
   165,
   175,
   179,
   186,
   194,
   198,
   204,
   223,
   238,
   242,
   246,
   250,
   254,
   259,
   263,
   267,
   271,
   283,
   291,
   295,
   304,
   311,
   316,
   327,
   331,
   338
  ]
 },
 "nbformat": 4,
 "nbformat_minor": 5
}