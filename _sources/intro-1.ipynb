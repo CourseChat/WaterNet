{
 "cells": [
  {
   "cell_type": "markdown",
   "metadata": {},
   "source": [
    "# Thirty lectures by UC Berkeley and East Bay Municipal Utility District survey how a billion-dollar advanced water and power utility operates today, while planning and building for the next 100 years. \n",
    "- How to incorporate innovations in materials, sensors, data networks, machine learning, and other new technologies for resilience\n",
    "- How to rebuild and redesign aging dams, reservoirs, pipes and pumps\n",
    "- How to build public support for investment in critical, but invisible, infrastructure\n",
    "- Guide to fundamental laws, regulatory rulings, findamental research projects, and research agendas for California water utilities"
   ]
  },
  {
   "cell_type": "markdown",
   "metadata": {},
   "source": [
    "```{note}\n",
    "This book is interactive, which means components of a page pull in real-time data from online sources, perform data analysis, and show the results. Data is open. How code transforms data into answers is clearly visible. The code is visible in active cells, and can be run to replicate the results.\n",
    "```"
   ]
  },
  {
   "cell_type": "markdown",
   "metadata": {},
   "source": [
    "## What A Difference A Flood Makes: A Week in California"
   ]
  },
  {
   "cell_type": "markdown",
   "metadata": {},
   "source": [
    "![Total System Storage WY 2023](Images/TotalSystemStorageWY2023Annotated.png)"
   ]
  },
  {
   "cell_type": "markdown",
   "metadata": {},
   "source": [
    "```{note}\n",
    "Six atmospheric rivers brought EBMUD out of drought restrictions. Three more comining in January, with Sierra snow depth doubling, raises system storage to near-capacity. Summer snow melt predictions almost double. Graph shows model predictions for alternate possibilities, from January to October 2023. Similar pattern last year had drought after March, so these predictions are conservative. Most of this rainfall cannot be stored. Some reservoirs must be drained to avoid overtopping. In future editions, today's system storage will draw directly from real-time levels at Pardee and other reservoirs.  Will add estimates of total water flow to Pacific and groundwater replenishment.\n",
    "```"
   ]
  },
  {
   "cell_type": "code",
   "execution_count": 9,
   "metadata": {
    "tags": [
     "hide-input",
     "hide-output"
    ]
   },
   "outputs": [
    {
     "data": {
      "text/plain": [
       "<contextlib.ExitStack at 0x116fcbb50>"
      ]
     },
     "execution_count": 9,
     "metadata": {},
     "output_type": "execute_result"
    }
   ],
   "source": [
    "#%pip install matplotlib\n",
    "from matplotlib import rcParams, cycler\n",
    "import matplotlib.pyplot as plt\n",
    "import numpy as np\n",
    "plt.ion()\n"
   ]
  },
  {
   "cell_type": "code",
   "execution_count": 10,
   "metadata": {},
   "outputs": [
    {
     "name": "stdout",
     "output_type": "stream",
     "text": [
      "Maximum Storage capacity: Acre-Feet =  770\n",
      "Jan 10,2023 Storage =  640 Acre-Feet  | Percent of Maximum =  83 %\n",
      "Maximum Storage capacity: gallons =  250,907,043 gallons\n",
      "Maximum Storage Capacity: Cubic feet =  33,543,722 Cubic Feet\n"
     ]
    }
   ],
   "source": [
    "# Convert EBMUD Board Meet presentation: \n",
    "# Total System Storage maximum: 770-Acre Feet \n",
    "# Convert AF to gallons, cubic feet\n",
    "\n",
    "# Convert 770 Total Acre-Foot to gallons\n",
    "Total_Acre_Feet = 770\n",
    "Jan10_Acre_Feet = 640\n",
    "gallons = Total_Acre_Feet  * 325853.302098\n",
    "#convert gallons to cubic feet\n",
    "cubic_feet = gallons / 7.48\n",
    "gal = f'{round(gallons):,}'\n",
    "print(\"Maximum Storage capacity: Acre-Feet = \", Total_Acre_Feet)\n",
    "print(\"Jan 10,2023 Storage = \", Jan10_Acre_Feet, \"Acre-Feet\",\" | \" \"Percent of Maximum = \", f'{round(Jan10_Acre_Feet / Total_Acre_Feet *100):,}',\"%\")\n",
    "print(\"Maximum Storage capacity: gallons = \", gal , \"gallons\")\n",
    "print(\"Maximum Storage Capacity: Cubic feet = \", f'{round(cubic_feet):,}', \"Cubic Feet\")\n"
   ]
  },
  {
   "cell_type": "code",
   "execution_count": 11,
   "metadata": {
    "tags": [
     "hide-input",
     "hide-output"
    ]
   },
   "outputs": [
    {
     "name": "stdout",
     "output_type": "stream",
     "text": [
      "Requirement already satisfied: folium in /Library/Frameworks/Python.framework/Versions/3.10/lib/python3.10/site-packages (0.14.0)\n",
      "Requirement already satisfied: numpy in /Library/Frameworks/Python.framework/Versions/3.10/lib/python3.10/site-packages (from folium) (1.24.1)\n",
      "Requirement already satisfied: requests in /Library/Frameworks/Python.framework/Versions/3.10/lib/python3.10/site-packages (from folium) (2.28.2)\n",
      "Requirement already satisfied: branca>=0.6.0 in /Library/Frameworks/Python.framework/Versions/3.10/lib/python3.10/site-packages (from folium) (0.6.0)\n",
      "Requirement already satisfied: jinja2>=2.9 in /Library/Frameworks/Python.framework/Versions/3.10/lib/python3.10/site-packages (from folium) (3.1.2)\n",
      "Requirement already satisfied: MarkupSafe>=2.0 in /Library/Frameworks/Python.framework/Versions/3.10/lib/python3.10/site-packages (from jinja2>=2.9->folium) (2.1.1)\n",
      "Requirement already satisfied: urllib3<1.27,>=1.21.1 in /Library/Frameworks/Python.framework/Versions/3.10/lib/python3.10/site-packages (from requests->folium) (1.26.14)\n",
      "Requirement already satisfied: charset-normalizer<4,>=2 in /Library/Frameworks/Python.framework/Versions/3.10/lib/python3.10/site-packages (from requests->folium) (3.0.1)\n",
      "Requirement already satisfied: idna<4,>=2.5 in /Library/Frameworks/Python.framework/Versions/3.10/lib/python3.10/site-packages (from requests->folium) (3.4)\n",
      "Requirement already satisfied: certifi>=2017.4.17 in /Library/Frameworks/Python.framework/Versions/3.10/lib/python3.10/site-packages (from requests->folium) (2022.12.7)\n",
      "Note: you may need to restart the kernel to use updated packages.\n"
     ]
    }
   ],
   "source": [
    "%pip install folium"
   ]
  },
  {
   "cell_type": "code",
   "execution_count": 12,
   "metadata": {
    "tags": [
     "hide-input",
     "hide-output"
    ]
   },
   "outputs": [
    {
     "data": {
      "text/html": [
       "<div style=\"width:100%;\"><div style=\"position:relative;width:100%;height:0;padding-bottom:60%;\"><span style=\"color:#565656\">Make this Notebook Trusted to load map: File -> Trust Notebook</span><iframe srcdoc=\"&lt;!DOCTYPE html&gt;\n",
       "&lt;html&gt;\n",
       "&lt;head&gt;\n",
       "    \n",
       "    &lt;meta http-equiv=&quot;content-type&quot; content=&quot;text/html; charset=UTF-8&quot; /&gt;\n",
       "    \n",
       "        &lt;script&gt;\n",
       "            L_NO_TOUCH = false;\n",
       "            L_DISABLE_3D = false;\n",
       "        &lt;/script&gt;\n",
       "    \n",
       "    &lt;style&gt;html, body {width: 100%;height: 100%;margin: 0;padding: 0;}&lt;/style&gt;\n",
       "    &lt;style&gt;#map {position:absolute;top:0;bottom:0;right:0;left:0;}&lt;/style&gt;\n",
       "    &lt;script src=&quot;https://cdn.jsdelivr.net/npm/leaflet@1.9.3/dist/leaflet.js&quot;&gt;&lt;/script&gt;\n",
       "    &lt;script src=&quot;https://code.jquery.com/jquery-1.12.4.min.js&quot;&gt;&lt;/script&gt;\n",
       "    &lt;script src=&quot;https://cdn.jsdelivr.net/npm/bootstrap@5.2.2/dist/js/bootstrap.bundle.min.js&quot;&gt;&lt;/script&gt;\n",
       "    &lt;script src=&quot;https://cdnjs.cloudflare.com/ajax/libs/Leaflet.awesome-markers/2.0.2/leaflet.awesome-markers.js&quot;&gt;&lt;/script&gt;\n",
       "    &lt;link rel=&quot;stylesheet&quot; href=&quot;https://cdn.jsdelivr.net/npm/leaflet@1.9.3/dist/leaflet.css&quot;/&gt;\n",
       "    &lt;link rel=&quot;stylesheet&quot; href=&quot;https://cdn.jsdelivr.net/npm/bootstrap@5.2.2/dist/css/bootstrap.min.css&quot;/&gt;\n",
       "    &lt;link rel=&quot;stylesheet&quot; href=&quot;https://netdna.bootstrapcdn.com/bootstrap/3.0.0/css/bootstrap.min.css&quot;/&gt;\n",
       "    &lt;link rel=&quot;stylesheet&quot; href=&quot;https://cdn.jsdelivr.net/npm/@fortawesome/fontawesome-free@6.2.0/css/all.min.css&quot;/&gt;\n",
       "    &lt;link rel=&quot;stylesheet&quot; href=&quot;https://cdnjs.cloudflare.com/ajax/libs/Leaflet.awesome-markers/2.0.2/leaflet.awesome-markers.css&quot;/&gt;\n",
       "    &lt;link rel=&quot;stylesheet&quot; href=&quot;https://cdn.jsdelivr.net/gh/python-visualization/folium/folium/templates/leaflet.awesome.rotate.min.css&quot;/&gt;\n",
       "    \n",
       "            &lt;meta name=&quot;viewport&quot; content=&quot;width=device-width,\n",
       "                initial-scale=1.0, maximum-scale=1.0, user-scalable=no&quot; /&gt;\n",
       "            &lt;style&gt;\n",
       "                #map_6656436fd9fbc0b0194522683087bbc5 {\n",
       "                    position: relative;\n",
       "                    width: 100.0%;\n",
       "                    height: 100.0%;\n",
       "                    left: 0.0%;\n",
       "                    top: 0.0%;\n",
       "                }\n",
       "                .leaflet-container { font-size: 1rem; }\n",
       "            &lt;/style&gt;\n",
       "        \n",
       "&lt;/head&gt;\n",
       "&lt;body&gt;\n",
       "    \n",
       "    \n",
       "            &lt;div class=&quot;folium-map&quot; id=&quot;map_6656436fd9fbc0b0194522683087bbc5&quot; &gt;&lt;/div&gt;\n",
       "        \n",
       "&lt;/body&gt;\n",
       "&lt;script&gt;\n",
       "    \n",
       "    \n",
       "            var map_6656436fd9fbc0b0194522683087bbc5 = L.map(\n",
       "                &quot;map_6656436fd9fbc0b0194522683087bbc5&quot;,\n",
       "                {\n",
       "                    center: [37.701, -121.073],\n",
       "                    crs: L.CRS.EPSG3857,\n",
       "                    zoom: 8,\n",
       "                    zoomControl: true,\n",
       "                    preferCanvas: false,\n",
       "                }\n",
       "            );\n",
       "\n",
       "            \n",
       "\n",
       "        \n",
       "    \n",
       "            var tile_layer_5d96ead07757aa94279395391b07dd7f = L.tileLayer(\n",
       "                &quot;https://stamen-tiles-{s}.a.ssl.fastly.net/terrain/{z}/{x}/{y}.jpg&quot;,\n",
       "                {&quot;attribution&quot;: &quot;Map tiles by \\u003ca target=\\&quot;_blank\\&quot; href=\\&quot;http://stamen.com\\&quot;\\u003eStamen Design\\u003c/a\\u003e, under \\u003ca target=\\&quot;_blank\\&quot; href=\\&quot;http://creativecommons.org/licenses/by/3.0\\&quot;\\u003eCC BY 3.0\\u003c/a\\u003e. Data by \\u0026copy; \\u003ca target=\\&quot;_blank\\&quot; href=\\&quot;http://openstreetmap.org\\&quot;\\u003eOpenStreetMap\\u003c/a\\u003e, under \\u003ca target=\\&quot;_blank\\&quot; href=\\&quot;http://creativecommons.org/licenses/by-sa/3.0\\&quot;\\u003eCC BY SA\\u003c/a\\u003e.&quot;, &quot;detectRetina&quot;: false, &quot;maxNativeZoom&quot;: 18, &quot;maxZoom&quot;: 18, &quot;minZoom&quot;: 0, &quot;noWrap&quot;: false, &quot;opacity&quot;: 1, &quot;subdomains&quot;: &quot;abc&quot;, &quot;tms&quot;: false}\n",
       "            ).addTo(map_6656436fd9fbc0b0194522683087bbc5);\n",
       "        \n",
       "    \n",
       "            var marker_185e07eb76eba1f4ca9abf79666dee93 = L.marker(\n",
       "                [38.2574, -120.8502],\n",
       "                {}\n",
       "            ).addTo(map_6656436fd9fbc0b0194522683087bbc5);\n",
       "        \n",
       "    \n",
       "            var icon_fed08a5ba48f4d6f40b2b0c1c79a4d2b = L.AwesomeMarkers.icon(\n",
       "                {&quot;extraClasses&quot;: &quot;fa-rotate-0&quot;, &quot;icon&quot;: &quot;cloud&quot;, &quot;iconColor&quot;: &quot;white&quot;, &quot;markerColor&quot;: &quot;blue&quot;, &quot;prefix&quot;: &quot;glyphicon&quot;}\n",
       "            );\n",
       "            marker_185e07eb76eba1f4ca9abf79666dee93.setIcon(icon_fed08a5ba48f4d6f40b2b0c1c79a4d2b);\n",
       "        \n",
       "    \n",
       "        var popup_0683ea7b8bd31f4cddfc7b2657f75217 = L.popup({&quot;maxWidth&quot;: &quot;100%&quot;});\n",
       "\n",
       "        \n",
       "            \n",
       "                var html_4c603d64e24ab3142576d661ec9d037e = $(`&lt;div id=&quot;html_4c603d64e24ab3142576d661ec9d037e&quot; style=&quot;width: 100.0%; height: 100.0%;&quot;&gt;Pardee Dam&lt;/div&gt;`)[0];\n",
       "                popup_0683ea7b8bd31f4cddfc7b2657f75217.setContent(html_4c603d64e24ab3142576d661ec9d037e);\n",
       "            \n",
       "        \n",
       "\n",
       "        marker_185e07eb76eba1f4ca9abf79666dee93.bindPopup(popup_0683ea7b8bd31f4cddfc7b2657f75217)\n",
       "        ;\n",
       "\n",
       "        \n",
       "    \n",
       "    \n",
       "            var marker_7f2caca2a5dc5ae537c643a7f03c61ee = L.marker(\n",
       "                [37.8922222, -122.2011111],\n",
       "                {}\n",
       "            ).addTo(map_6656436fd9fbc0b0194522683087bbc5);\n",
       "        \n",
       "    \n",
       "            var icon_84012e21a1143c2b33b58264df5c79a6 = L.AwesomeMarkers.icon(\n",
       "                {&quot;extraClasses&quot;: &quot;fa-rotate-0&quot;, &quot;icon&quot;: &quot;info-sign&quot;, &quot;iconColor&quot;: &quot;white&quot;, &quot;markerColor&quot;: &quot;blue&quot;, &quot;prefix&quot;: &quot;glyphicon&quot;}\n",
       "            );\n",
       "            marker_7f2caca2a5dc5ae537c643a7f03c61ee.setIcon(icon_84012e21a1143c2b33b58264df5c79a6);\n",
       "        \n",
       "    \n",
       "        var popup_03eac1c52f01ea7751a44f74cbb8c2e6 = L.popup({&quot;maxWidth&quot;: &quot;100%&quot;});\n",
       "\n",
       "        \n",
       "            \n",
       "                var html_43cc57bff1fa215cdfc13505e2ac2864 = $(`&lt;div id=&quot;html_43cc57bff1fa215cdfc13505e2ac2864&quot; style=&quot;width: 100.0%; height: 100.0%;&quot;&gt;Orinda Water Treatment Plant&lt;/div&gt;`)[0];\n",
       "                popup_03eac1c52f01ea7751a44f74cbb8c2e6.setContent(html_43cc57bff1fa215cdfc13505e2ac2864);\n",
       "            \n",
       "        \n",
       "\n",
       "        marker_7f2caca2a5dc5ae537c643a7f03c61ee.bindPopup(popup_03eac1c52f01ea7751a44f74cbb8c2e6)\n",
       "        ;\n",
       "\n",
       "        \n",
       "    \n",
       "    \n",
       "            var marker_5f43f509b2d7b9eaf4a41e32d6a0cd50 = L.marker(\n",
       "                [37.8016, -122.2734],\n",
       "                {}\n",
       "            ).addTo(map_6656436fd9fbc0b0194522683087bbc5);\n",
       "        \n",
       "    \n",
       "            var icon_a99223f1a7b9853b7fb881ffc460392c = L.AwesomeMarkers.icon(\n",
       "                {&quot;extraClasses&quot;: &quot;fa-rotate-0&quot;, &quot;icon&quot;: &quot;info-sign&quot;, &quot;iconColor&quot;: &quot;white&quot;, &quot;markerColor&quot;: &quot;red&quot;, &quot;prefix&quot;: &quot;glyphicon&quot;}\n",
       "            );\n",
       "            marker_5f43f509b2d7b9eaf4a41e32d6a0cd50.setIcon(icon_a99223f1a7b9853b7fb881ffc460392c);\n",
       "        \n",
       "    \n",
       "        var popup_2b3916eabbfaba978279952d44274ae7 = L.popup({&quot;maxWidth&quot;: &quot;100%&quot;});\n",
       "\n",
       "        \n",
       "            \n",
       "                var html_b1e871da9568cc5bd63c63e036c6900f = $(`&lt;div id=&quot;html_b1e871da9568cc5bd63c63e036c6900f&quot; style=&quot;width: 100.0%; height: 100.0%;&quot;&gt;EBMUD Headquarters&lt;/div&gt;`)[0];\n",
       "                popup_2b3916eabbfaba978279952d44274ae7.setContent(html_b1e871da9568cc5bd63c63e036c6900f);\n",
       "            \n",
       "        \n",
       "\n",
       "        marker_5f43f509b2d7b9eaf4a41e32d6a0cd50.bindPopup(popup_2b3916eabbfaba978279952d44274ae7)\n",
       "        ;\n",
       "\n",
       "        \n",
       "    \n",
       "&lt;/script&gt;\n",
       "&lt;/html&gt;\" style=\"position:absolute;width:100%;height:100%;left:0;top:0;border:none !important;\" allowfullscreen webkitallowfullscreen mozallowfullscreen></iframe></div></div>"
      ],
      "text/plain": [
       "<folium.folium.Map at 0x1069b4fa0>"
      ]
     },
     "execution_count": 12,
     "metadata": {},
     "output_type": "execute_result"
    }
   ],
   "source": [
    " import folium\n",
    "m = folium.Map(\n",
    "    location=[37.701, -121.073],\n",
    "    zoom_start=8,\n",
    "    tiles='Stamen Terrain'\n",
    ")\n",
    "\n",
    "folium.Marker(\n",
    "    location=[38.2574, -120.8502],\n",
    "    popup='Pardee Dam',\n",
    "    icon=folium.Icon(icon='cloud')\n",
    ").add_to(m)\n",
    "\n",
    "folium.Marker(\n",
    "    location=[37.8922222, -122.2011111],\n",
    "    popup='Orinda Water Treatment Plant',\n",
    "    icon=folium.Icon(color='blue')\n",
    ").add_to(m)\n",
    "\n",
    "folium.Marker(\n",
    "    location=[37.8016, -122.2734],\n",
    "    popup='EBMUD Headquarters',\n",
    "    icon=folium.Icon(color='red', icon='info-sign')\n",
    ").add_to(m)\n",
    "\n",
    "m"
   ]
  },
  {
   "cell_type": "code",
   "execution_count": 13,
   "metadata": {
    "tags": [
     "hide-input"
    ]
   },
   "outputs": [
    {
     "name": "stdout",
     "output_type": "stream",
     "text": [
      "d1 = 17/01/2023\n",
      "d2 = January 17, 2023 Tuesday\n",
      "d3 = 01/17/23\n",
      "d4 = Jan-17-2023\n"
     ]
    }
   ],
   "source": [
    "# HIDDEN\n",
    "from datetime import date\n",
    "\n",
    "today = date.today()\n",
    "\n",
    "# dd/mm/YY\n",
    "d1 = today.strftime(\"%d/%m/%Y\")\n",
    "print(\"d1 =\", d1)\n",
    "\n",
    "# Textual month, day and year\t\n",
    "d2 = today.strftime(\"%B %d, %Y %A\")\n",
    "print(\"d2 =\", d2)\n",
    "\n",
    "# mm/dd/y\n",
    "d3 = today.strftime(\"%m/%d/%y\")\n",
    "print(\"d3 =\", d3)\n",
    "\n",
    "# Month abbreviation, day and year\t\n",
    "d4 = today.strftime(\"%b-%d-%Y\")\n",
    "print(\"d4 =\", d4)"
   ]
  },
  {
   "cell_type": "code",
   "execution_count": 14,
   "metadata": {
    "tags": [
     "hide-input"
    ]
   },
   "outputs": [
    {
     "name": "stdout",
     "output_type": "stream",
     "text": [
      "now = 2023-01-17 23:14:08.198827\n",
      "date and time = 17/01/2023 Tuesday 23:14:08\n"
     ]
    }
   ],
   "source": [
    "from datetime import datetime\n",
    "\n",
    "# datetime object containing current date and time\n",
    "now = datetime.now()\n",
    " \n",
    "print(\"now =\", now)\n",
    "\n",
    "# dd/mm/YY H:M:S\n",
    "dt_string = now.strftime(\"%d/%m/%Y %A %H:%M:%S\")\n",
    "print(\"date and time =\", dt_string)"
   ]
  },
  {
   "cell_type": "code",
   "execution_count": 15,
   "metadata": {
    "tags": [
     "hide-input"
    ]
   },
   "outputs": [
    {
     "name": "stdout",
     "output_type": "stream",
     "text": [
      "now 2023-01-17 23:14:08.218600\n",
      "Today's date is:  2023-01-17 23:14:08.218648\n",
      "now2 = 2023-01-17 23:14:08.218627\n",
      "date and time = 2023-01-17 Tuesday 23:14:08 yearday=17 Timezone=  \n"
     ]
    }
   ],
   "source": [
    "# Import date class from datetime module\n",
    "from datetime import datetime\n",
    "print(\"now\",datetime.now())\n",
    "#print(\"time\",datetime.time())\n",
    "# datetime object containing current date and time\n",
    "now = datetime.now()\n",
    "datetime.today()\n",
    "\n",
    "today = datetime.today()\n",
    "print(\"Today's date is: \", today)\n",
    "\n",
    " \n",
    "print(\"now2 =\", now)\n",
    "\n",
    "dt_string = now.strftime(\"%Y-%m-%d %A %H:%M:%S yearday=%-j Timezone= %Z \")\n",
    "print(\"date and time =\", dt_string)\n",
    "# Returns the current local date"
   ]
  },
  {
   "cell_type": "markdown",
   "metadata": {},
   "source": [
    "### Here's what David Macaulay saw beneath the streets of New York. We're building the same virtual reality for the streets of Berkeley--but bringing it to life with evacuation routes, travel times, flow rates, asset inventories showing risk evaluations for each pipe element, add live sensor feeds...\n",
    "![Underground](Images/DM.cover.png)\n",
    "### Invisible investment"
   ]
  },
  {
   "cell_type": "markdown",
   "metadata": {},
   "source": [
    "## Without underground infrastructure, surface infrastructure does not work\n",
    "![Looking Up](Images/DM.look.up.png)\n",
    "## Annotated lectures given in Fall of 2022 for UC Berkeley Civil Engineering 112A: Water and Wastewater Engineering. Professor Kenichi Soga, assisted by post-doctoral students Wonjun Cha, Shi-Hung Chiu.\n",
    "## Thirty senior engineers from EBMUD oulined how they plan, design, build and operate a billion-dollar a year water, waste water, and power utility.\n",
    "### Water utilities require major new investments to keep clean water flowing. We must rebuild and extend our critical water infrastructure now.  But this investment is not yet funded. \n",
    "-  Existing subsurface capital investments are in the trillions of dollars, possibly exceeding surface investments. But designs and budgets that worked in the past are no longer sufficient for maintaining global water supplies. The infrastructure is failing. Here's how to approach needed change.\n",
    "- Past cost projections are proving to be insufficient due to accelerating challenges of climate change and aging capital plant.\n",
    "- Dams, reservoirs, pipes, pumps, water collection systems and water and waste water purification **systems will require from two to five times more investment** than today's conservative financial models anticipate. [^1]\n",
    "[^1]: AWWA and ASME estimates\n",
    "- This site builds increasingly detailed cost projections for complete system renewal. With current technologies, rebuilding a system similar to EBMUD--1.5 million daily users, \\$1 billion annual expenses, 80 MGD flow, 250 MG storage--over a 25-year period, will cost $20 billion in 2022 dollars. \n",
    "- We will outline the necessary campaign to finance this cost: by tax, by rate change, by bond issue, by cost savings, by redesign of capital plant.  Financing is possible only by building an accurate estimate of costs, to enable investors to make an accurate comparison to the costs of not rebuilding. Rebuilding at today's rate will take 140 years.[^2]\n",
    "[^2]: From EBMUD Capital Investments Plan, 2022--at rate of 30 pipeline miles replaced each year, over 4,500 miles of existing distribtion pipe network\n",
    "- But, if innovation could cut projected costs by a factor of two, the challenge to find necessary investment can be met. That is, save $10 billion of needed investment, and public investment is attractive. \n",
    "- Could fundamental realignment of all entities building and maintaining underground critical infrastructure change how we invest?  That is, can we merge public and investor-owned utilities? \n",
    "- As examples, examine urban infrastructure in cities that built new utility systems in the past thirty years.[^3]\n",
    "[^3]: Hong Kong, Singapore, Putrajaya [Water Utilities](https://en.wikipedia.org/wiki/Water_supply_and_sanitation_in_Malaysia), [United Nations Water Joint Monitoring](https://washdata.org/), Tokyo Municipal\n",
    "### Faced with massive challenges from climate change and ancient infrastructure, our utilities battle each day to protect our health. But hundreds of water main breaks a day in California show we are losing ground. What is our best investment?\n",
    "- Today's **aging, failing infrastructure** requires capital investment beyond existing budgets. Even the best-managed utilities see unanticipated shortfalls due to changing weather patterns, mounting energy costs, shifting water sources, new pollution challenges, and shocks to supply chains.\n",
    "  - **These investments can not be avoided or postponed.** (Think Ukraine this winter) (Insert total past capital investment, total required annual rebuilding estimates: US, EU, China, India, Sub-Saharan Africa, Japan, Korea, Brazil, Middle East)"
   ]
  },
  {
   "cell_type": "markdown",
   "metadata": {},
   "source": [
    ":::{Contents}\n",
    ":::"
   ]
  },
  {
   "cell_type": "markdown",
   "metadata": {},
   "source": [
    "- Future pages will describe how EBMUD is rebuilding it's century-old infrastructure for the next hundred years."
   ]
  },
  {
   "cell_type": "markdown",
   "metadata": {},
   "source": [
    "#### Contents\n",
    "```{contents}\n",
    "```"
   ]
  }
 ],
 "metadata": {
  "kernelspec": {
   "display_name": "Python 3",
   "language": "python",
   "name": "python3"
  },
  "language_info": {
   "codemirror_mode": {
    "name": "ipython",
    "version": 3
   },
   "file_extension": ".py",
   "mimetype": "text/x-python",
   "name": "python",
   "nbconvert_exporter": "python",
   "pygments_lexer": "ipython3",
   "version": "3.10.9"
  },
  "vscode": {
   "interpreter": {
    "hash": "44a9cdcbdccbf05a880e90d2e6fe72470baab4d1b82472d890be0596ed887a6b"
   }
  }
 },
 "nbformat": 4,
 "nbformat_minor": 2
}
