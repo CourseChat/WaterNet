{
 "cells": [
  {
   "attachments": {},
   "cell_type": "markdown",
   "metadata": {},
   "source": [
    "# Thirty lectures by EBMUD and UC Berkeley Civil Engineering show how a billion-dollar advanced water and power utility operates today.  \n",
    "## Planning, funding, and building for the next 100 years.\n",
    "- East Bay Municipal Utility District senior engineers describe the future of water infrastructure\n",
    "- How to incorporate innovations in materials, sensors, data networks, machine learning, and other new technologies for resilience\n",
    "- How to rebuild and redesign aging dams, reservoirs, pipes and pumps\n",
    "- How to build public support for investment in critical, but invisible, infrastructure\n",
    "- Guide to fundamental laws, regulatory rulings, findamental research projects, and research agendas for California water utilities"
   ]
  },
  {
   "attachments": {},
   "cell_type": "markdown",
   "metadata": {},
   "source": [
    "### Presentation by staff engineers to EBMUD Board Tuesday, January 10, 2023\n",
    "#### Note January Atmospheric Rivers \n",
    "![Total System Storage WY 2023](Images/TotalSystemStorageWY2023Annotated.png)"
   ]
  },
  {
   "attachments": {},
   "cell_type": "markdown",
   "metadata": {},
   "source": [
    "```{note}\n",
    "This book is interactive.  Components of a page pull in real-time data from online sources, perform data analysis, and show the results. Data is open. How code transforms data into answers is clearly visible. The code is visible in active cells, and can be run to replicate the results.\n",
    "```"
   ]
  },
  {
   "attachments": {},
   "cell_type": "markdown",
   "metadata": {},
   "source": [
    "### Look at reservoir levels today: thousand Acre-Feet\n",
    "[California Water Reservoir Levels](https://engaging-data.com/ca-reservoir-dashboard/)"
   ]
  },
  {
   "cell_type": "code",
   "execution_count": 2,
   "metadata": {},
   "outputs": [
    {
     "data": {
      "text/html": [
       "\n",
       "        <iframe\n",
       "            width=\"800\"\n",
       "            height=\"800\"\n",
       "            src=\"https://engaging-data.com/ca-reservoir-dashboard/\"\n",
       "            frameborder=\"0\"\n",
       "            allowfullscreen\n",
       "            \n",
       "        ></iframe>\n",
       "        "
      ],
      "text/plain": [
       "<IPython.lib.display.IFrame at 0x109dc5900>"
      ]
     },
     "execution_count": 2,
     "metadata": {},
     "output_type": "execute_result"
    }
   ],
   "source": [
    "from IPython.display import IFrame\n",
    "\n",
    "IFrame(\"https://engaging-data.com/ca-reservoir-dashboard/\", width=875, height=1500)"
   ]
  },
  {
   "attachments": {},
   "cell_type": "markdown",
   "metadata": {},
   "source": [
    "```{note}\n",
    "Six atmospheric rivers brought EBMUD out of drought restrictions in the first weeks of January, 2023. Three more came in January.  Sierra snow depth doubled, raising system storage to near-capacity. Summer snow melt predictions doubled. Graph shows model predictions for alternate possibilities, from January to October 2023. Similar pattern last year had drought after March, so these predictions are conservative. Most of this rainfall cannot be stored. Floods must be diverted. Some reservoirs must be drained to avoid overtopping. In future editions, today's system storage will draw directly from real-time levels at Pardee and other reservoirs.  This edition Will add estimates of total water flow to Pacific and groundwater replenishment, in real time.\n",
    "```"
   ]
  },
  {
   "cell_type": "code",
   "execution_count": 9,
   "metadata": {
    "tags": [
     "hide-input",
     "hide-output"
    ]
   },
   "outputs": [
    {
     "data": {
      "text/plain": [
       "<contextlib.ExitStack at 0x116fcbb50>"
      ]
     },
     "execution_count": 9,
     "metadata": {},
     "output_type": "execute_result"
    }
   ],
   "source": [
    "#%pip install matplotlib\n",
    "from matplotlib import rcParams, cycler\n",
    "import matplotlib.pyplot as plt\n",
    "import numpy as np\n",
    "plt.ion()\n"
   ]
  },
  {
   "attachments": {},
   "cell_type": "markdown",
   "metadata": {},
   "source": [
    "### Convert Acre-Feet to gallons in this Jupyter Notebook"
   ]
  },
  {
   "cell_type": "code",
   "execution_count": 10,
   "metadata": {},
   "outputs": [
    {
     "name": "stdout",
     "output_type": "stream",
     "text": [
      "Maximum Storage capacity: Acre-Feet =  770\n",
      "Jan 10,2023 Storage =  640 Acre-Feet  | Percent of Maximum =  83 %\n",
      "Maximum Storage capacity: gallons =  250,907,043 gallons\n",
      "Maximum Storage Capacity: Cubic feet =  33,543,722 Cubic Feet\n"
     ]
    }
   ],
   "source": [
    "# Convert EBMUD Board Meet presentation: \n",
    "# Total System Storage maximum: 770-Acre Feet \n",
    "# Convert AF to gallons, cubic feet\n",
    "\n",
    "# Convert 770 Total Acre-Foot to gallons\n",
    "Total_Acre_Feet = 770\n",
    "Jan10_Acre_Feet = 640\n",
    "gallons = Total_Acre_Feet  * 325853.302098\n",
    "#convert gallons to cubic feet\n",
    "cubic_feet = gallons / 7.48\n",
    "gal = f'{round(gallons):,}'\n",
    "print(\"Maximum Storage capacity: Acre-Feet = \", Total_Acre_Feet)\n",
    "print(\"Jan 10,2023 Storage = \", Jan10_Acre_Feet, \"Acre-Feet\",\" | \" \"Percent of Maximum = \", f'{round(Jan10_Acre_Feet / Total_Acre_Feet *100):,}',\"%\")\n",
    "print(\"Maximum Storage capacity: gallons = \", gal , \"gallons\")\n",
    "print(\"Maximum Storage Capacity: Cubic feet = \", f'{round(cubic_feet):,}', \"Cubic Feet\")\n"
   ]
  },
  {
   "cell_type": "code",
   "execution_count": 11,
   "metadata": {
    "tags": [
     "hide-input",
     "hide-output"
    ]
   },
   "outputs": [
    {
     "name": "stdout",
     "output_type": "stream",
     "text": [
      "Requirement already satisfied: folium in /Library/Frameworks/Python.framework/Versions/3.10/lib/python3.10/site-packages (0.14.0)\n",
      "Requirement already satisfied: numpy in /Library/Frameworks/Python.framework/Versions/3.10/lib/python3.10/site-packages (from folium) (1.24.1)\n",
      "Requirement already satisfied: requests in /Library/Frameworks/Python.framework/Versions/3.10/lib/python3.10/site-packages (from folium) (2.28.2)\n",
      "Requirement already satisfied: branca>=0.6.0 in /Library/Frameworks/Python.framework/Versions/3.10/lib/python3.10/site-packages (from folium) (0.6.0)\n",
      "Requirement already satisfied: jinja2>=2.9 in /Library/Frameworks/Python.framework/Versions/3.10/lib/python3.10/site-packages (from folium) (3.1.2)\n",
      "Requirement already satisfied: MarkupSafe>=2.0 in /Library/Frameworks/Python.framework/Versions/3.10/lib/python3.10/site-packages (from jinja2>=2.9->folium) (2.1.1)\n",
      "Requirement already satisfied: urllib3<1.27,>=1.21.1 in /Library/Frameworks/Python.framework/Versions/3.10/lib/python3.10/site-packages (from requests->folium) (1.26.14)\n",
      "Requirement already satisfied: charset-normalizer<4,>=2 in /Library/Frameworks/Python.framework/Versions/3.10/lib/python3.10/site-packages (from requests->folium) (3.0.1)\n",
      "Requirement already satisfied: idna<4,>=2.5 in /Library/Frameworks/Python.framework/Versions/3.10/lib/python3.10/site-packages (from requests->folium) (3.4)\n",
      "Requirement already satisfied: certifi>=2017.4.17 in /Library/Frameworks/Python.framework/Versions/3.10/lib/python3.10/site-packages (from requests->folium) (2022.12.7)\n",
      "Note: you may need to restart the kernel to use updated packages.\n"
     ]
    }
   ],
   "source": [
    "%pip install folium"
   ]
  },
  {
   "cell_type": "code",
   "execution_count": 1,
   "metadata": {
    "tags": [
     "hide-input"
    ]
   },
   "outputs": [
    {
     "data": {
      "text/html": [
       "<div style=\"width:100%;\"><div style=\"position:relative;width:100%;height:0;padding-bottom:60%;\"><span style=\"color:#565656\">Make this Notebook Trusted to load map: File -> Trust Notebook</span><iframe srcdoc=\"&lt;!DOCTYPE html&gt;\n",
       "&lt;html&gt;\n",
       "&lt;head&gt;\n",
       "    \n",
       "    &lt;meta http-equiv=&quot;content-type&quot; content=&quot;text/html; charset=UTF-8&quot; /&gt;\n",
       "    \n",
       "        &lt;script&gt;\n",
       "            L_NO_TOUCH = false;\n",
       "            L_DISABLE_3D = false;\n",
       "        &lt;/script&gt;\n",
       "    \n",
       "    &lt;style&gt;html, body {width: 100%;height: 100%;margin: 0;padding: 0;}&lt;/style&gt;\n",
       "    &lt;style&gt;#map {position:absolute;top:0;bottom:0;right:0;left:0;}&lt;/style&gt;\n",
       "    &lt;script src=&quot;https://cdn.jsdelivr.net/npm/leaflet@1.9.3/dist/leaflet.js&quot;&gt;&lt;/script&gt;\n",
       "    &lt;script src=&quot;https://code.jquery.com/jquery-1.12.4.min.js&quot;&gt;&lt;/script&gt;\n",
       "    &lt;script src=&quot;https://cdn.jsdelivr.net/npm/bootstrap@5.2.2/dist/js/bootstrap.bundle.min.js&quot;&gt;&lt;/script&gt;\n",
       "    &lt;script src=&quot;https://cdnjs.cloudflare.com/ajax/libs/Leaflet.awesome-markers/2.0.2/leaflet.awesome-markers.js&quot;&gt;&lt;/script&gt;\n",
       "    &lt;link rel=&quot;stylesheet&quot; href=&quot;https://cdn.jsdelivr.net/npm/leaflet@1.9.3/dist/leaflet.css&quot;/&gt;\n",
       "    &lt;link rel=&quot;stylesheet&quot; href=&quot;https://cdn.jsdelivr.net/npm/bootstrap@5.2.2/dist/css/bootstrap.min.css&quot;/&gt;\n",
       "    &lt;link rel=&quot;stylesheet&quot; href=&quot;https://netdna.bootstrapcdn.com/bootstrap/3.0.0/css/bootstrap.min.css&quot;/&gt;\n",
       "    &lt;link rel=&quot;stylesheet&quot; href=&quot;https://cdn.jsdelivr.net/npm/@fortawesome/fontawesome-free@6.2.0/css/all.min.css&quot;/&gt;\n",
       "    &lt;link rel=&quot;stylesheet&quot; href=&quot;https://cdnjs.cloudflare.com/ajax/libs/Leaflet.awesome-markers/2.0.2/leaflet.awesome-markers.css&quot;/&gt;\n",
       "    &lt;link rel=&quot;stylesheet&quot; href=&quot;https://cdn.jsdelivr.net/gh/python-visualization/folium/folium/templates/leaflet.awesome.rotate.min.css&quot;/&gt;\n",
       "    \n",
       "            &lt;meta name=&quot;viewport&quot; content=&quot;width=device-width,\n",
       "                initial-scale=1.0, maximum-scale=1.0, user-scalable=no&quot; /&gt;\n",
       "            &lt;style&gt;\n",
       "                #map_69f29e38856f4d179d3b22e3b8aab65e {\n",
       "                    position: relative;\n",
       "                    width: 100.0%;\n",
       "                    height: 100.0%;\n",
       "                    left: 0.0%;\n",
       "                    top: 0.0%;\n",
       "                }\n",
       "                .leaflet-container { font-size: 1rem; }\n",
       "            &lt;/style&gt;\n",
       "        \n",
       "&lt;/head&gt;\n",
       "&lt;body&gt;\n",
       "    \n",
       "    \n",
       "            &lt;div class=&quot;folium-map&quot; id=&quot;map_69f29e38856f4d179d3b22e3b8aab65e&quot; &gt;&lt;/div&gt;\n",
       "        \n",
       "&lt;/body&gt;\n",
       "&lt;script&gt;\n",
       "    \n",
       "    \n",
       "            var map_69f29e38856f4d179d3b22e3b8aab65e = L.map(\n",
       "                &quot;map_69f29e38856f4d179d3b22e3b8aab65e&quot;,\n",
       "                {\n",
       "                    center: [37.701, -121.073],\n",
       "                    crs: L.CRS.EPSG3857,\n",
       "                    zoom: 8,\n",
       "                    zoomControl: true,\n",
       "                    preferCanvas: false,\n",
       "                }\n",
       "            );\n",
       "\n",
       "            \n",
       "\n",
       "        \n",
       "    \n",
       "            var tile_layer_133d3e948dde198b3cd2a8503ab9ca66 = L.tileLayer(\n",
       "                &quot;https://stamen-tiles-{s}.a.ssl.fastly.net/terrain/{z}/{x}/{y}.jpg&quot;,\n",
       "                {&quot;attribution&quot;: &quot;Map tiles by \\u003ca target=\\&quot;_blank\\&quot; href=\\&quot;http://stamen.com\\&quot;\\u003eStamen Design\\u003c/a\\u003e, under \\u003ca target=\\&quot;_blank\\&quot; href=\\&quot;http://creativecommons.org/licenses/by/3.0\\&quot;\\u003eCC BY 3.0\\u003c/a\\u003e. Data by \\u0026copy; \\u003ca target=\\&quot;_blank\\&quot; href=\\&quot;http://openstreetmap.org\\&quot;\\u003eOpenStreetMap\\u003c/a\\u003e, under \\u003ca target=\\&quot;_blank\\&quot; href=\\&quot;http://creativecommons.org/licenses/by-sa/3.0\\&quot;\\u003eCC BY SA\\u003c/a\\u003e.&quot;, &quot;detectRetina&quot;: false, &quot;maxNativeZoom&quot;: 18, &quot;maxZoom&quot;: 18, &quot;minZoom&quot;: 0, &quot;noWrap&quot;: false, &quot;opacity&quot;: 1, &quot;subdomains&quot;: &quot;abc&quot;, &quot;tms&quot;: false}\n",
       "            ).addTo(map_69f29e38856f4d179d3b22e3b8aab65e);\n",
       "        \n",
       "    \n",
       "            var marker_13104f5ae50c2200d6f79152b76a41e1 = L.marker(\n",
       "                [38.2574, -120.8502],\n",
       "                {}\n",
       "            ).addTo(map_69f29e38856f4d179d3b22e3b8aab65e);\n",
       "        \n",
       "    \n",
       "            var icon_a5a9968f2b897ab10629f0eb2101c2dd = L.AwesomeMarkers.icon(\n",
       "                {&quot;extraClasses&quot;: &quot;fa-rotate-0&quot;, &quot;icon&quot;: &quot;cloud&quot;, &quot;iconColor&quot;: &quot;white&quot;, &quot;markerColor&quot;: &quot;blue&quot;, &quot;prefix&quot;: &quot;glyphicon&quot;}\n",
       "            );\n",
       "            marker_13104f5ae50c2200d6f79152b76a41e1.setIcon(icon_a5a9968f2b897ab10629f0eb2101c2dd);\n",
       "        \n",
       "    \n",
       "        var popup_fced863898ebb04589916cccd8a59aac = L.popup({&quot;maxWidth&quot;: &quot;100%&quot;});\n",
       "\n",
       "        \n",
       "            \n",
       "                var html_a35ca37c7e40b25a9063f63295aaa5c3 = $(`&lt;div id=&quot;html_a35ca37c7e40b25a9063f63295aaa5c3&quot; style=&quot;width: 100.0%; height: 100.0%;&quot;&gt;Pardee Dam&lt;/div&gt;`)[0];\n",
       "                popup_fced863898ebb04589916cccd8a59aac.setContent(html_a35ca37c7e40b25a9063f63295aaa5c3);\n",
       "            \n",
       "        \n",
       "\n",
       "        marker_13104f5ae50c2200d6f79152b76a41e1.bindPopup(popup_fced863898ebb04589916cccd8a59aac)\n",
       "        ;\n",
       "\n",
       "        \n",
       "    \n",
       "    \n",
       "            var marker_4d832e633b2d8c6734effcb7d765e6bd = L.marker(\n",
       "                [37.8922222, -122.2011111],\n",
       "                {}\n",
       "            ).addTo(map_69f29e38856f4d179d3b22e3b8aab65e);\n",
       "        \n",
       "    \n",
       "            var icon_84d3fad275cbf158878504b6b74092e2 = L.AwesomeMarkers.icon(\n",
       "                {&quot;extraClasses&quot;: &quot;fa-rotate-0&quot;, &quot;icon&quot;: &quot;info-sign&quot;, &quot;iconColor&quot;: &quot;white&quot;, &quot;markerColor&quot;: &quot;blue&quot;, &quot;prefix&quot;: &quot;glyphicon&quot;}\n",
       "            );\n",
       "            marker_4d832e633b2d8c6734effcb7d765e6bd.setIcon(icon_84d3fad275cbf158878504b6b74092e2);\n",
       "        \n",
       "    \n",
       "        var popup_d443ddbdda6d99fa148714e15d956036 = L.popup({&quot;maxWidth&quot;: &quot;100%&quot;});\n",
       "\n",
       "        \n",
       "            \n",
       "                var html_e8a8205bb733d18b317b7b80d75fee9f = $(`&lt;div id=&quot;html_e8a8205bb733d18b317b7b80d75fee9f&quot; style=&quot;width: 100.0%; height: 100.0%;&quot;&gt;Orinda Water Treatment Plant&lt;/div&gt;`)[0];\n",
       "                popup_d443ddbdda6d99fa148714e15d956036.setContent(html_e8a8205bb733d18b317b7b80d75fee9f);\n",
       "            \n",
       "        \n",
       "\n",
       "        marker_4d832e633b2d8c6734effcb7d765e6bd.bindPopup(popup_d443ddbdda6d99fa148714e15d956036)\n",
       "        ;\n",
       "\n",
       "        \n",
       "    \n",
       "    \n",
       "            var marker_fbd4ea2d8e483fd59a6df8c072d84b44 = L.marker(\n",
       "                [37.8016, -122.2734],\n",
       "                {}\n",
       "            ).addTo(map_69f29e38856f4d179d3b22e3b8aab65e);\n",
       "        \n",
       "    \n",
       "            var icon_6e581a4802e2a4345819a099571e6430 = L.AwesomeMarkers.icon(\n",
       "                {&quot;extraClasses&quot;: &quot;fa-rotate-0&quot;, &quot;icon&quot;: &quot;info-sign&quot;, &quot;iconColor&quot;: &quot;white&quot;, &quot;markerColor&quot;: &quot;red&quot;, &quot;prefix&quot;: &quot;glyphicon&quot;}\n",
       "            );\n",
       "            marker_fbd4ea2d8e483fd59a6df8c072d84b44.setIcon(icon_6e581a4802e2a4345819a099571e6430);\n",
       "        \n",
       "    \n",
       "        var popup_4729c28b0c5c1219d94e1fc4dfebc8a4 = L.popup({&quot;maxWidth&quot;: &quot;100%&quot;});\n",
       "\n",
       "        \n",
       "            \n",
       "                var html_36cab821d45d9a4c30781b5a2e25ea67 = $(`&lt;div id=&quot;html_36cab821d45d9a4c30781b5a2e25ea67&quot; style=&quot;width: 100.0%; height: 100.0%;&quot;&gt;EBMUD Headquarters&lt;/div&gt;`)[0];\n",
       "                popup_4729c28b0c5c1219d94e1fc4dfebc8a4.setContent(html_36cab821d45d9a4c30781b5a2e25ea67);\n",
       "            \n",
       "        \n",
       "\n",
       "        marker_fbd4ea2d8e483fd59a6df8c072d84b44.bindPopup(popup_4729c28b0c5c1219d94e1fc4dfebc8a4)\n",
       "        ;\n",
       "\n",
       "        \n",
       "    \n",
       "&lt;/script&gt;\n",
       "&lt;/html&gt;\" style=\"position:absolute;width:100%;height:100%;left:0;top:0;border:none !important;\" allowfullscreen webkitallowfullscreen mozallowfullscreen></iframe></div></div>"
      ],
      "text/plain": [
       "<folium.folium.Map at 0x1040cece0>"
      ]
     },
     "execution_count": 1,
     "metadata": {},
     "output_type": "execute_result"
    }
   ],
   "source": [
    " import folium\n",
    "m = folium.Map(\n",
    "    location=[37.701, -121.073],\n",
    "    zoom_start=8,\n",
    "    tiles='Stamen Terrain'\n",
    ")\n",
    "\n",
    "folium.Marker(\n",
    "    location=[38.2574, -120.8502],\n",
    "    popup='Pardee Dam',\n",
    "    icon=folium.Icon(icon='cloud')\n",
    ").add_to(m)\n",
    "\n",
    "folium.Marker(\n",
    "    location=[37.8922222, -122.2011111],\n",
    "    popup='Orinda Water Treatment Plant',\n",
    "    icon=folium.Icon(color='blue')\n",
    ").add_to(m)\n",
    "\n",
    "folium.Marker(\n",
    "    location=[37.8016, -122.2734],\n",
    "    popup='EBMUD Headquarters',\n",
    "    icon=folium.Icon(color='red', icon='info-sign')\n",
    ").add_to(m)\n",
    "\n",
    "m"
   ]
  },
  {
   "cell_type": "code",
   "execution_count": 13,
   "metadata": {
    "tags": [
     "hide-input"
    ]
   },
   "outputs": [
    {
     "name": "stdout",
     "output_type": "stream",
     "text": [
      "d1 = 17/01/2023\n",
      "d2 = January 17, 2023 Tuesday\n",
      "d3 = 01/17/23\n",
      "d4 = Jan-17-2023\n"
     ]
    }
   ],
   "source": [
    "# HIDDEN\n",
    "from datetime import date\n",
    "\n",
    "today = date.today()\n",
    "\n",
    "# dd/mm/YY\n",
    "d1 = today.strftime(\"%d/%m/%Y\")\n",
    "print(\"d1 =\", d1)\n",
    "\n",
    "# Textual month, day and year\t\n",
    "d2 = today.strftime(\"%B %d, %Y %A\")\n",
    "print(\"d2 =\", d2)\n",
    "\n",
    "# mm/dd/y\n",
    "d3 = today.strftime(\"%m/%d/%y\")\n",
    "print(\"d3 =\", d3)\n",
    "\n",
    "# Month abbreviation, day and year\t\n",
    "d4 = today.strftime(\"%b-%d-%Y\")\n",
    "print(\"d4 =\", d4)"
   ]
  },
  {
   "cell_type": "code",
   "execution_count": 14,
   "metadata": {
    "tags": [
     "hide-input"
    ]
   },
   "outputs": [
    {
     "name": "stdout",
     "output_type": "stream",
     "text": [
      "now = 2023-01-17 23:14:08.198827\n",
      "date and time = 17/01/2023 Tuesday 23:14:08\n"
     ]
    }
   ],
   "source": [
    "from datetime import datetime\n",
    "\n",
    "# datetime object containing current date and time\n",
    "now = datetime.now()\n",
    " \n",
    "print(\"now =\", now)\n",
    "\n",
    "# dd/mm/YY H:M:S\n",
    "dt_string = now.strftime(\"%d/%m/%Y %A %H:%M:%S\")\n",
    "print(\"date and time =\", dt_string)"
   ]
  },
  {
   "cell_type": "code",
   "execution_count": 15,
   "metadata": {
    "tags": [
     "hide-input"
    ]
   },
   "outputs": [
    {
     "name": "stdout",
     "output_type": "stream",
     "text": [
      "now 2023-01-17 23:14:08.218600\n",
      "Today's date is:  2023-01-17 23:14:08.218648\n",
      "now2 = 2023-01-17 23:14:08.218627\n",
      "date and time = 2023-01-17 Tuesday 23:14:08 yearday=17 Timezone=  \n"
     ]
    }
   ],
   "source": [
    "# Import date class from datetime module\n",
    "from datetime import datetime\n",
    "print(\"now\",datetime.now())\n",
    "#print(\"time\",datetime.time())\n",
    "# datetime object containing current date and time\n",
    "now = datetime.now()\n",
    "datetime.today()\n",
    "\n",
    "today = datetime.today()\n",
    "print(\"Today's date is: \", today)\n",
    "\n",
    " \n",
    "print(\"now2 =\", now)\n",
    "\n",
    "dt_string = now.strftime(\"%Y-%m-%d %A %H:%M:%S yearday=%-j Timezone= %Z \")\n",
    "print(\"date and time =\", dt_string)\n",
    "# Returns the current local date"
   ]
  },
  {
   "cell_type": "markdown",
   "metadata": {},
   "source": [
    "### Here's what David Macaulay saw beneath the streets of New York. We're building the same virtual reality for the streets of Berkeley--but bringing it to life with evacuation routes, travel times, flow rates, asset inventories showing risk evaluations for each pipe element, add live sensor feeds...\n",
    "![Underground](Images/DM.cover.png)\n",
    "### Invisible investment"
   ]
  },
  {
   "cell_type": "markdown",
   "metadata": {},
   "source": [
    "## Without underground infrastructure, surface infrastructure does not work\n",
    "![Looking Up](Images/DM.look.up.png)\n",
    "## Annotated lectures given in Fall of 2022 for UC Berkeley Civil Engineering 112A: Water and Wastewater Engineering. Professor Kenichi Soga, assisted by post-doctoral students Wonjun Cha, Shi-Hung Chiu.\n",
    "## Thirty senior engineers from EBMUD oulined how they plan, design, build and operate a billion-dollar a year water, waste water, and power utility.\n",
    "### Water utilities require major new investments to keep clean water flowing. We must rebuild and extend our critical water infrastructure now.  But this investment is not yet funded. \n",
    "-  Existing subsurface capital investments are in the trillions of dollars, possibly exceeding surface investments. But designs and budgets that worked in the past are no longer sufficient for maintaining global water supplies. The infrastructure is failing. Here's how to approach needed change.\n",
    "- Past cost projections are proving to be insufficient due to accelerating challenges of climate change and aging capital plant.\n",
    "- Dams, reservoirs, pipes, pumps, water collection systems and water and waste water purification **systems will require from two to five times more investment** than today's conservative financial models anticipate. [^1]\n",
    "[^1]: AWWA and ASME estimates\n",
    "- This site builds increasingly detailed cost projections for complete system renewal. With current technologies, rebuilding a system similar to EBMUD--1.5 million daily users, \\$1 billion annual expenses, 80 MGD flow, 250 MG storage--over a 25-year period, will cost $20 billion in 2022 dollars. \n",
    "- We will outline the necessary campaign to finance this cost: by tax, by rate change, by bond issue, by cost savings, by redesign of capital plant.  Financing is possible only by building an accurate estimate of costs, to enable investors to make an accurate comparison to the costs of not rebuilding. Rebuilding at today's rate will take 140 years.[^2]\n",
    "[^2]: From EBMUD Capital Investments Plan, 2022--at rate of 30 pipeline miles replaced each year, over 4,500 miles of existing distribtion pipe network\n",
    "- But, if innovation could cut projected costs by a factor of two, the challenge to find necessary investment can be met. That is, save $10 billion of needed investment, and public investment is attractive. \n",
    "- Could fundamental realignment of all entities building and maintaining underground critical infrastructure change how we invest?  That is, can we merge public and investor-owned utilities? \n",
    "- As examples, examine urban infrastructure in cities that built new utility systems in the past thirty years.[^3]\n",
    "[^3]: Hong Kong, Singapore, Putrajaya [Water Utilities](https://en.wikipedia.org/wiki/Water_supply_and_sanitation_in_Malaysia), [United Nations Water Joint Monitoring](https://washdata.org/), Tokyo Municipal\n",
    "### Faced with massive challenges from climate change and ancient infrastructure, our utilities battle each day to protect our health. But hundreds of water main breaks a day in California show we are losing ground. What is our best investment?\n",
    "- Today's **aging, failing infrastructure** requires capital investment beyond existing budgets. Even the best-managed utilities see unanticipated shortfalls due to changing weather patterns, mounting energy costs, shifting water sources, new pollution challenges, and shocks to supply chains.\n",
    "  - **These investments can not be avoided or postponed.** (Think Ukraine this winter) (Insert total past capital investment, total required annual rebuilding estimates: US, EU, China, India, Sub-Saharan Africa, Japan, Korea, Brazil, Middle East)"
   ]
  },
  {
   "cell_type": "markdown",
   "metadata": {},
   "source": [
    ":::{Contents}\n",
    ":::"
   ]
  },
  {
   "cell_type": "markdown",
   "metadata": {},
   "source": [
    "- Future pages will describe how EBMUD is rebuilding it's century-old infrastructure for the next hundred years."
   ]
  },
  {
   "cell_type": "markdown",
   "metadata": {},
   "source": [
    "#### Contents\n",
    "```{contents}\n",
    "```"
   ]
  }
 ],
 "metadata": {
  "kernelspec": {
   "display_name": "Python 3",
   "language": "python",
   "name": "python3"
  },
  "language_info": {
   "codemirror_mode": {
    "name": "ipython",
    "version": 3
   },
   "file_extension": ".py",
   "mimetype": "text/x-python",
   "name": "python",
   "nbconvert_exporter": "python",
   "pygments_lexer": "ipython3",
   "version": "3.10.9 (v3.10.9:1dd9be6584, Dec  6 2022, 14:37:36) [Clang 13.0.0 (clang-1300.0.29.30)]"
  },
  "vscode": {
   "interpreter": {
    "hash": "98590ff4fe04c8543246b2a01debd3de3c5ca9b666f43f1fa87d5110c692004c"
   }
  }
 },
 "nbformat": 4,
 "nbformat_minor": 2
}
