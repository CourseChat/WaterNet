{
 "cells": [
  {
   "cell_type": "markdown",
   "id": "670015b6",
   "metadata": {},
   "source": [
    "# Why these lectures by UC Berkeley and East Bay Municipal Utility District are so important at this moment. \n",
    "```{note}\n",
    "This book is interactive, which means components of a page pull in real-time data from online sources, perform data analysis, and show the results. Data is open. How data becomes answers is clearly visible. The code is visible in active cells.\n",
    "\n",
    "## What A Difference A Week Makes\n",
    "```\n",
    "![Total System Storage WY 2023](./Images/TotalSystemStorageWY2023Annotated.png)\n",
    "\n",
    "```{note}\n",
    "Huge January rain volume will continue for two weeks. Graph shows model predictions under alternate possibilitiesfrom January to October 2023. Similar pattern last year had drought after March, so these predictions are conservative. Most of this rainfall cannot be stored. Some reservoirs must be drained to avoid overtopping. In future editions, today's system storage will draw directly from real-time levels at Pardee and other reservoirs.  Will add estimates of total water flow to Pacific.\n",
    "```"
   ]
  },
  {
   "cell_type": "code",
   "execution_count": 1,
   "id": "4e877a96",
   "metadata": {},
   "outputs": [
    {
     "name": "stdout",
     "output_type": "stream",
     "text": [
      "630 Acre-Feet =  205,287,580 gallons\n"
     ]
    }
   ],
   "source": [
    "import os\n",
    "# Convert 630 Total Acre-Foot to gallons\n",
    "TAF = 630\n",
    "gallons = 630 * 325853.302098\n",
    "gal = f'{round(gallons):,}'\n",
    "print(\"630 Acre-Feet = \", gal , \"gallons\")\n",
    "#os.system('say{:,}'.format(gal1))"
   ]
  },
  {
   "cell_type": "code",
   "execution_count": 2,
   "id": "cae700c8",
   "metadata": {},
   "outputs": [
    {
     "name": "stdout",
     "output_type": "stream",
     "text": [
      "Collecting folium\r\n"
     ]
    },
    {
     "name": "stdout",
     "output_type": "stream",
     "text": [
      "  Downloading folium-0.14.0-py2.py3-none-any.whl (102 kB)\r\n",
      "\u001b[?25l     \u001b[90m━━━━━━━━━━━━━━━━━━━━━━━━━━━━━━━━━━━━━━━━\u001b[0m \u001b[32m0.0/102.3 kB\u001b[0m \u001b[31m?\u001b[0m eta \u001b[36m-:--:--\u001b[0m\r",
      "\u001b[2K     \u001b[90m━━━━━━━━━━━━━━━━━━━━━━━━━━━━━━━━━━━━━━━\u001b[0m \u001b[32m102.3/102.3 kB\u001b[0m \u001b[31m3.7 MB/s\u001b[0m eta \u001b[36m0:00:00\u001b[0m\r\n",
      "\u001b[?25hRequirement already satisfied: numpy in /opt/hostedtoolcache/Python/3.8.15/x64/lib/python3.8/site-packages (from folium) (1.24.1)\r\n",
      "Requirement already satisfied: jinja2>=2.9 in /opt/hostedtoolcache/Python/3.8.15/x64/lib/python3.8/site-packages (from folium) (3.1.2)\r\n"
     ]
    },
    {
     "name": "stdout",
     "output_type": "stream",
     "text": [
      "Collecting branca>=0.6.0\r\n",
      "  Downloading branca-0.6.0-py3-none-any.whl (24 kB)\r\n",
      "Requirement already satisfied: requests in /opt/hostedtoolcache/Python/3.8.15/x64/lib/python3.8/site-packages (from folium) (2.28.2)\r\n",
      "Requirement already satisfied: MarkupSafe>=2.0 in /opt/hostedtoolcache/Python/3.8.15/x64/lib/python3.8/site-packages (from jinja2>=2.9->folium) (2.1.1)\r\n",
      "Requirement already satisfied: idna<4,>=2.5 in /opt/hostedtoolcache/Python/3.8.15/x64/lib/python3.8/site-packages (from requests->folium) (3.4)\r\n",
      "Requirement already satisfied: urllib3<1.27,>=1.21.1 in /opt/hostedtoolcache/Python/3.8.15/x64/lib/python3.8/site-packages (from requests->folium) (1.26.14)\r\n",
      "Requirement already satisfied: charset-normalizer<4,>=2 in /opt/hostedtoolcache/Python/3.8.15/x64/lib/python3.8/site-packages (from requests->folium) (3.0.1)\r\n",
      "Requirement already satisfied: certifi>=2017.4.17 in /opt/hostedtoolcache/Python/3.8.15/x64/lib/python3.8/site-packages (from requests->folium) (2022.12.7)\r\n"
     ]
    },
    {
     "name": "stdout",
     "output_type": "stream",
     "text": [
      "Installing collected packages: branca, folium\r\n"
     ]
    },
    {
     "name": "stdout",
     "output_type": "stream",
     "text": [
      "Successfully installed branca-0.6.0 folium-0.14.0\r\n"
     ]
    },
    {
     "name": "stdout",
     "output_type": "stream",
     "text": [
      "Note: you may need to restart the kernel to use updated packages.\n"
     ]
    },
    {
     "data": {
      "text/html": [
       "<div style=\"width:100%;\"><div style=\"position:relative;width:100%;height:0;padding-bottom:60%;\"><span style=\"color:#565656\">Make this Notebook Trusted to load map: File -> Trust Notebook</span><iframe srcdoc=\"&lt;!DOCTYPE html&gt;\n",
       "&lt;html&gt;\n",
       "&lt;head&gt;\n",
       "\n",
       "    &lt;meta http-equiv=&quot;content-type&quot; content=&quot;text/html; charset=UTF-8&quot; /&gt;\n",
       "\n",
       "        &lt;script&gt;\n",
       "            L_NO_TOUCH = false;\n",
       "            L_DISABLE_3D = false;\n",
       "        &lt;/script&gt;\n",
       "\n",
       "    &lt;style&gt;html, body {width: 100%;height: 100%;margin: 0;padding: 0;}&lt;/style&gt;\n",
       "    &lt;style&gt;#map {position:absolute;top:0;bottom:0;right:0;left:0;}&lt;/style&gt;\n",
       "    &lt;script src=&quot;https://cdn.jsdelivr.net/npm/leaflet@1.9.3/dist/leaflet.js&quot;&gt;&lt;/script&gt;\n",
       "    &lt;script src=&quot;https://code.jquery.com/jquery-1.12.4.min.js&quot;&gt;&lt;/script&gt;\n",
       "    &lt;script src=&quot;https://cdn.jsdelivr.net/npm/bootstrap@5.2.2/dist/js/bootstrap.bundle.min.js&quot;&gt;&lt;/script&gt;\n",
       "    &lt;script src=&quot;https://cdnjs.cloudflare.com/ajax/libs/Leaflet.awesome-markers/2.0.2/leaflet.awesome-markers.js&quot;&gt;&lt;/script&gt;\n",
       "    &lt;link rel=&quot;stylesheet&quot; href=&quot;https://cdn.jsdelivr.net/npm/leaflet@1.9.3/dist/leaflet.css&quot;/&gt;\n",
       "    &lt;link rel=&quot;stylesheet&quot; href=&quot;https://cdn.jsdelivr.net/npm/bootstrap@5.2.2/dist/css/bootstrap.min.css&quot;/&gt;\n",
       "    &lt;link rel=&quot;stylesheet&quot; href=&quot;https://netdna.bootstrapcdn.com/bootstrap/3.0.0/css/bootstrap.min.css&quot;/&gt;\n",
       "    &lt;link rel=&quot;stylesheet&quot; href=&quot;https://cdn.jsdelivr.net/npm/@fortawesome/fontawesome-free@6.2.0/css/all.min.css&quot;/&gt;\n",
       "    &lt;link rel=&quot;stylesheet&quot; href=&quot;https://cdnjs.cloudflare.com/ajax/libs/Leaflet.awesome-markers/2.0.2/leaflet.awesome-markers.css&quot;/&gt;\n",
       "    &lt;link rel=&quot;stylesheet&quot; href=&quot;https://cdn.jsdelivr.net/gh/python-visualization/folium/folium/templates/leaflet.awesome.rotate.min.css&quot;/&gt;\n",
       "\n",
       "            &lt;meta name=&quot;viewport&quot; content=&quot;width=device-width,\n",
       "                initial-scale=1.0, maximum-scale=1.0, user-scalable=no&quot; /&gt;\n",
       "            &lt;style&gt;\n",
       "                #map_6bcc18fb9f079a667f8d63b6e18dbdfd {\n",
       "                    position: relative;\n",
       "                    width: 100.0%;\n",
       "                    height: 100.0%;\n",
       "                    left: 0.0%;\n",
       "                    top: 0.0%;\n",
       "                }\n",
       "                .leaflet-container { font-size: 1rem; }\n",
       "            &lt;/style&gt;\n",
       "\n",
       "&lt;/head&gt;\n",
       "&lt;body&gt;\n",
       "\n",
       "\n",
       "            &lt;div class=&quot;folium-map&quot; id=&quot;map_6bcc18fb9f079a667f8d63b6e18dbdfd&quot; &gt;&lt;/div&gt;\n",
       "\n",
       "&lt;/body&gt;\n",
       "&lt;script&gt;\n",
       "\n",
       "\n",
       "            var map_6bcc18fb9f079a667f8d63b6e18dbdfd = L.map(\n",
       "                &quot;map_6bcc18fb9f079a667f8d63b6e18dbdfd&quot;,\n",
       "                {\n",
       "                    center: [37.801, -122.273],\n",
       "                    crs: L.CRS.EPSG3857,\n",
       "                    zoom: 10,\n",
       "                    zoomControl: true,\n",
       "                    preferCanvas: false,\n",
       "                }\n",
       "            );\n",
       "\n",
       "\n",
       "\n",
       "\n",
       "\n",
       "            var tile_layer_3aa4c394cf368c4b76caf0c2a7b82c25 = L.tileLayer(\n",
       "                &quot;https://stamen-tiles-{s}.a.ssl.fastly.net/terrain/{z}/{x}/{y}.jpg&quot;,\n",
       "                {&quot;attribution&quot;: &quot;Map tiles by \\u003ca target=\\&quot;_blank\\&quot; href=\\&quot;http://stamen.com\\&quot;\\u003eStamen Design\\u003c/a\\u003e, under \\u003ca target=\\&quot;_blank\\&quot; href=\\&quot;http://creativecommons.org/licenses/by/3.0\\&quot;\\u003eCC BY 3.0\\u003c/a\\u003e. Data by \\u0026copy; \\u003ca target=\\&quot;_blank\\&quot; href=\\&quot;http://openstreetmap.org\\&quot;\\u003eOpenStreetMap\\u003c/a\\u003e, under \\u003ca target=\\&quot;_blank\\&quot; href=\\&quot;http://creativecommons.org/licenses/by-sa/3.0\\&quot;\\u003eCC BY SA\\u003c/a\\u003e.&quot;, &quot;detectRetina&quot;: false, &quot;maxNativeZoom&quot;: 18, &quot;maxZoom&quot;: 18, &quot;minZoom&quot;: 0, &quot;noWrap&quot;: false, &quot;opacity&quot;: 1, &quot;subdomains&quot;: &quot;abc&quot;, &quot;tms&quot;: false}\n",
       "            ).addTo(map_6bcc18fb9f079a667f8d63b6e18dbdfd);\n",
       "\n",
       "\n",
       "            var marker_98c37eb706b30255487664ac7d6e8353 = L.marker(\n",
       "                [37.8014, -122.273],\n",
       "                {}\n",
       "            ).addTo(map_6bcc18fb9f079a667f8d63b6e18dbdfd);\n",
       "\n",
       "\n",
       "            var icon_b3fb4d7c610f788c1fd452aca7801207 = L.AwesomeMarkers.icon(\n",
       "                {&quot;extraClasses&quot;: &quot;fa-rotate-0&quot;, &quot;icon&quot;: &quot;cloud&quot;, &quot;iconColor&quot;: &quot;white&quot;, &quot;markerColor&quot;: &quot;blue&quot;, &quot;prefix&quot;: &quot;glyphicon&quot;}\n",
       "            );\n",
       "            marker_98c37eb706b30255487664ac7d6e8353.setIcon(icon_b3fb4d7c610f788c1fd452aca7801207);\n",
       "\n",
       "\n",
       "        var popup_dc69f43ae9758ed19ba4436701dcb10b = L.popup({&quot;maxWidth&quot;: &quot;100%&quot;});\n",
       "\n",
       "\n",
       "\n",
       "                var html_6c2ef405987fad346ec2bac00a44fbef = $(`&lt;div id=&quot;html_6c2ef405987fad346ec2bac00a44fbef&quot; style=&quot;width: 100.0%; height: 100.0%;&quot;&gt;Mt. Hood Meadows&lt;/div&gt;`)[0];\n",
       "                popup_dc69f43ae9758ed19ba4436701dcb10b.setContent(html_6c2ef405987fad346ec2bac00a44fbef);\n",
       "\n",
       "\n",
       "\n",
       "        marker_98c37eb706b30255487664ac7d6e8353.bindPopup(popup_dc69f43ae9758ed19ba4436701dcb10b)\n",
       "        ;\n",
       "\n",
       "\n",
       "\n",
       "\n",
       "            var marker_c28e22eec60d9cd8129d9e06111a1c66 = L.marker(\n",
       "                [37.8023, -122.273],\n",
       "                {}\n",
       "            ).addTo(map_6bcc18fb9f079a667f8d63b6e18dbdfd);\n",
       "\n",
       "\n",
       "            var icon_c4d192ca55bf9aa0e085c39d903feb6a = L.AwesomeMarkers.icon(\n",
       "                {&quot;extraClasses&quot;: &quot;fa-rotate-0&quot;, &quot;icon&quot;: &quot;info-sign&quot;, &quot;iconColor&quot;: &quot;white&quot;, &quot;markerColor&quot;: &quot;green&quot;, &quot;prefix&quot;: &quot;glyphicon&quot;}\n",
       "            );\n",
       "            marker_c28e22eec60d9cd8129d9e06111a1c66.setIcon(icon_c4d192ca55bf9aa0e085c39d903feb6a);\n",
       "\n",
       "\n",
       "        var popup_cb5aaeaec7367af39af8d1138e786eb8 = L.popup({&quot;maxWidth&quot;: &quot;100%&quot;});\n",
       "\n",
       "\n",
       "\n",
       "                var html_3a8915dcc39b44bfe1e617cdfeb0ad69 = $(`&lt;div id=&quot;html_3a8915dcc39b44bfe1e617cdfeb0ad69&quot; style=&quot;width: 100.0%; height: 100.0%;&quot;&gt;Timberline Lodge&lt;/div&gt;`)[0];\n",
       "                popup_cb5aaeaec7367af39af8d1138e786eb8.setContent(html_3a8915dcc39b44bfe1e617cdfeb0ad69);\n",
       "\n",
       "\n",
       "\n",
       "        marker_c28e22eec60d9cd8129d9e06111a1c66.bindPopup(popup_cb5aaeaec7367af39af8d1138e786eb8)\n",
       "        ;\n",
       "\n",
       "\n",
       "\n",
       "\n",
       "            var marker_3dfb4010cb1f2db9bba84c5f6acbda22 = L.marker(\n",
       "                [37.8016, -122.2734],\n",
       "                {}\n",
       "            ).addTo(map_6bcc18fb9f079a667f8d63b6e18dbdfd);\n",
       "\n",
       "\n",
       "            var icon_009b17906d07e3aec67edc6523c79c04 = L.AwesomeMarkers.icon(\n",
       "                {&quot;extraClasses&quot;: &quot;fa-rotate-0&quot;, &quot;icon&quot;: &quot;info-sign&quot;, &quot;iconColor&quot;: &quot;white&quot;, &quot;markerColor&quot;: &quot;red&quot;, &quot;prefix&quot;: &quot;glyphicon&quot;}\n",
       "            );\n",
       "            marker_3dfb4010cb1f2db9bba84c5f6acbda22.setIcon(icon_009b17906d07e3aec67edc6523c79c04);\n",
       "\n",
       "\n",
       "        var popup_d598e3b4ad91ca8b97b9471e787d8ced = L.popup({&quot;maxWidth&quot;: &quot;100%&quot;});\n",
       "\n",
       "\n",
       "\n",
       "                var html_1876193f47434ab1ac1e320c6af732ed = $(`&lt;div id=&quot;html_1876193f47434ab1ac1e320c6af732ed&quot; style=&quot;width: 100.0%; height: 100.0%;&quot;&gt;Some Other Location&lt;/div&gt;`)[0];\n",
       "                popup_d598e3b4ad91ca8b97b9471e787d8ced.setContent(html_1876193f47434ab1ac1e320c6af732ed);\n",
       "\n",
       "\n",
       "\n",
       "        marker_3dfb4010cb1f2db9bba84c5f6acbda22.bindPopup(popup_d598e3b4ad91ca8b97b9471e787d8ced)\n",
       "        ;\n",
       "\n",
       "\n",
       "\n",
       "&lt;/script&gt;\n",
       "&lt;/html&gt;\" style=\"position:absolute;width:100%;height:100%;left:0;top:0;border:none !important;\" allowfullscreen webkitallowfullscreen mozallowfullscreen></iframe></div></div>"
      ],
      "text/plain": [
       "<folium.folium.Map at 0x7ff2181cec10>"
      ]
     },
     "execution_count": 2,
     "metadata": {},
     "output_type": "execute_result"
    }
   ],
   "source": [
    "%pip install folium\n",
    "import folium\n",
    "m = folium.Map(\n",
    "    location=[37.801, -122.273],\n",
    "    zoom_start=10,\n",
    "    tiles='Stamen Terrain'\n",
    ")\n",
    "\n",
    "folium.Marker(\n",
    "    location=[37.8014, -122.273],\n",
    "    popup='Mt. Hood Meadows',\n",
    "    icon=folium.Icon(icon='cloud')\n",
    ").add_to(m)\n",
    "\n",
    "folium.Marker(\n",
    "    location=[37.8023, -122.273],\n",
    "    popup='Timberline Lodge',\n",
    "    icon=folium.Icon(color='green')\n",
    ").add_to(m)\n",
    "\n",
    "folium.Marker(\n",
    "    location=[37.8016, -122.2734],\n",
    "    popup='Some Other Location',\n",
    "    icon=folium.Icon(color='red', icon='info-sign')\n",
    ").add_to(m)\n",
    "\n",
    "m"
   ]
  },
  {
   "cell_type": "markdown",
   "id": "ab673b46",
   "metadata": {},
   "source": [
    "end toggle"
   ]
  },
  {
   "cell_type": "code",
   "execution_count": 3,
   "id": "136126ca",
   "metadata": {},
   "outputs": [
    {
     "name": "stdout",
     "output_type": "stream",
     "text": [
      "d1 = 14/01/2023\n",
      "d2 = January 14, 2023 Saturday\n",
      "d3 = 01/14/23\n",
      "d4 = Jan-14-2023\n"
     ]
    }
   ],
   "source": [
    "# HIDDEN\n",
    "from datetime import date\n",
    "\n",
    "today = date.today()\n",
    "\n",
    "# dd/mm/YY\n",
    "d1 = today.strftime(\"%d/%m/%Y\")\n",
    "print(\"d1 =\", d1)\n",
    "\n",
    "# Textual month, day and year\t\n",
    "d2 = today.strftime(\"%B %d, %Y %A\")\n",
    "print(\"d2 =\", d2)\n",
    "\n",
    "# mm/dd/y\n",
    "d3 = today.strftime(\"%m/%d/%y\")\n",
    "print(\"d3 =\", d3)\n",
    "\n",
    "# Month abbreviation, day and year\t\n",
    "d4 = today.strftime(\"%b-%d-%Y\")\n",
    "print(\"d4 =\", d4)"
   ]
  },
  {
   "cell_type": "markdown",
   "id": "cb680e96",
   "metadata": {},
   "source": [
    "next"
   ]
  },
  {
   "cell_type": "code",
   "execution_count": 4,
   "id": "10171366",
   "metadata": {},
   "outputs": [
    {
     "name": "stdout",
     "output_type": "stream",
     "text": [
      "now = 2023-01-14 03:59:00.236792\n",
      "date and time = 14/01/2023 Saturday 03:59:00\n"
     ]
    }
   ],
   "source": [
    "from datetime import datetime\n",
    "\n",
    "# datetime object containing current date and time\n",
    "now = datetime.now()\n",
    " \n",
    "print(\"now =\", now)\n",
    "\n",
    "# dd/mm/YY H:M:S\n",
    "dt_string = now.strftime(\"%d/%m/%Y %A %H:%M:%S\")\n",
    "print(\"date and time =\", dt_string)"
   ]
  },
  {
   "cell_type": "markdown",
   "id": "14259b10",
   "metadata": {},
   "source": [
    "next"
   ]
  },
  {
   "cell_type": "code",
   "execution_count": 5,
   "id": "b454f87a",
   "metadata": {},
   "outputs": [
    {
     "name": "stdout",
     "output_type": "stream",
     "text": [
      "now 2023-01-14 03:59:00.244152\n",
      "Today's date is:  2023-01-14\n",
      "now2 = 2023-01-14 03:59:00.244221\n",
      "date and time = 2023-01-14 Saturday 03:59:00 yearday=14 Timezone=  \n"
     ]
    }
   ],
   "source": [
    "# Import date class from datetime module\n",
    "from datetime import datetime\n",
    "print(\"now\",datetime.now())\n",
    "#print(\"time\",datetime.time())\n",
    "# datetime object containing current date and time\n",
    "now = datetime.now()\n",
    "\n",
    "today = date.today()\n",
    "print(\"Today's date is: \", today)\n",
    "\n",
    " \n",
    "print(\"now2 =\", now)\n",
    "\n",
    "dt_string = now.strftime(\"%Y-%m-%d %A %H:%M:%S yearday=%-j Timezone= %z \")\n",
    "print(\"date and time =\", dt_string)\n",
    "# Returns the current local date\n"
   ]
  },
  {
   "cell_type": "markdown",
   "id": "5b09c07c",
   "metadata": {},
   "source": [
    ":::{contents}\n",
    ":::\n",
    "![Underground](Images/DM.cover.png)\n",
    "- Every water utility around the world invests to bring clean water to everyone.  Existing subsurface capital investments are in the trillions of dollars. But designs and budgets that worked in the past are no longer sufficient for maintaining global water supplies. The infrastructure is failing. Here's how to approach needed change.\n",
    "## Without underground infrastructure, surface infrastructure does not work\n",
    "![Looking Up](Images/DM.look.up.png)\n",
    "## Annotated lectures given in Fall of 2022 for UC Berkeley Civil Engineering 112A: Water and Wastewater Engineering. Professor Kenichi Soga, assisted by post-doctoral students Wonjun Cha, Shi-Hung Chiu.\n",
    "### Water utilities require major new investments to keep clean water flowing. We must rebuild and extend our critical water infrastructure now.  But this investment is not yet funded. \n",
    "- Past cost projections are proving to be wildly inaccurate due to new challenges of climate change and rapidly aging capital plant.\n",
    "- Dams, reservoirs, pipes, pumps, water collection systems and water and waste water purification **systems will require from two to five times more investment** than today's conservative financial models anticipate. [^1]\n",
    "[^1]: AWWA and ASME estimates\n",
    "- This site will build increasingly detailed cost projections for complete system renewal. With current technologies, rebuilding a system similar to EBMUD--1.5 million daily users, \\$1 billion annual expenses, ..... MGD flow, .... MG storage--over a 25-year period, will cost $20 billion in 2022 dollars. \n",
    "- We will build the outline of the necessary campaign to finance this cost, by tax, by rate change, by bond issue, by cost savings, by redesign of capital plant.  Financing this amount is possible only by building an extremely accurate estimate of costs, to enable an accurate comparison to the costs of not rebuilding. Rebuilding at today's rate will take 140 years.[^2]\n",
    "[^2]: From EBMUD Capital Investments Plan, 2022--at rate of 30 pipeline miles replaced each year, over 4,500 miles of existing distribtion pipe network\n",
    "- But, what if innovation could cut projected costs by a factor of two? That is, save $10 billion of projected investment. Could fundamental realignment of management of underground critical infrastructure change how we invest? As contrast, examine urban infrastructure in cities that built new systems in the past thirty years.[^3]\n",
    "[^3]: Hong Kong, Singapore, Putrajaya [Water Utilities](https://en.wikipedia.org/wiki/Water_supply_and_sanitation_in_Malaysia), [United Nations Water Joint Monitoring](https://washdata.org/)\n",
    "### Faced with massive challenges from climate change and ancient infrastructure, our utilities battle each day to protect our health. But hundreds of water main breaks a day in California show we are losing ground. What is our best investment?\n",
    "- Today's **aging, failing infrastructure** requires capital investment beyond existing budgets. Even the best-managed utilities see unanticipated shortfalls due to changing weather patterns, mounting energy costs, shifting water sources, new pollution challenges, and shocks to supply chains.\n",
    "  - **These investments can not be avoided or postponed.** (Think Ukraine this winter) (Insert total past capital investment, total required annual rebuilding estimates: US, EU, China, India, Sub-Saharan Africa, Japan, Korea, Brazil, Middle East)\n",
    "\n",
    "## **Challenge**: our most critical infrastructure is invisible, taken for granted, assumed just to work. But we are moving closer to systemic failure.\n",
    "\n",
    "\n",
    "- **Unanticipated climate change** creates accelerating stress to interconnected water and energy systems. **Drought, fire, and flood** overwhelm existing planning models. Emergency planning fails to anticipate critical shortages.  We must completely reexamine water and energy infrastructure investments, taken together, to design and build a more sustainable future.\n",
    "-  **Political and governmental agencies** fail to understand inevitable impending water and energy shortages; inadequate analysis based on out-dated tools and assumptions leads to serious policy and planning mistakes.  New tools, new data, and new analysis must lead to more effective investments.\n",
    "- Today's **outmoded construction standards** create a major legacy of unanticipated costs.\n",
    "  - Mistaking reliability for resilience means our existing infrastructure is built in a way that makes rebuilding and replacement many times too expensive. Future construction plans must be re-evaluated and redesigned to enable ease of repair, real-time monitoring, anticipatory maintenance and risk-based replacement. All past construction--each pipe segment, pump, tank, valve, joint--must be re-examined, then ranked for risk of failure and prioritized for replacement.\n",
    "- **Interdependent water and energy infrastructure should no longer be managed as independent entities.**\n",
    "\n",
    "## **Response**\n",
    "\n",
    "### New data networks allows real-time management of risks and investment\n",
    "- New systems of high resolution satellite and drone surveillance, soil and seismic monitoring, geotechnical and hydrological testing and modeling, **ubiquitous sensor deployment and networked data acquisition** from all elements of our physical plant transform how we manage daily operations.  Data-based risk assessment shapes the replacement design of our critical infrastructure. **New data networks are orders of magnitude cheaper than past systems**; new tools of machine learning and data analysis **reveal developing vulnerabilities and risks in real time**. New materials, new methods of production, new technologies of construction, and new regulatory and reporting requirements are transforming the modern water and energy utility.\n",
    "- These new capabilities support targeted decision-making for risk-based investments. New data brings new opportunities for cost-effective civil engineering.  \n",
    "- **Change comes slowly in critical infrastructure engineering.** Innovations must be tested, over long time periods, before general adoption by those responsible for the basic functioning of modern society.\n",
    "- **Financial investment in often-invisible infrastructure must come from informed public opinion**, based on accurate assessments of costs.  But new circumstances require new initiatives.\n",
    "- **The global workforce that creates and maintains our most critical infrastructure must be given new resources, new tools,  new technologies, new training and career advancement, and a new regulatory framework**."
   ]
  }
 ],
 "metadata": {
  "jupytext": {
   "cell_metadata_filter": "-all",
   "formats": "md:myst",
   "text_representation": {
    "extension": ".md",
    "format_name": "myst",
    "format_version": 0.13,
    "jupytext_version": "1.14.4"
   }
  },
  "kernelspec": {
   "display_name": "Python 3 (ipykernel)",
   "language": "python3",
   "name": "python3"
  },
  "language_info": {
   "codemirror_mode": {
    "name": "ipython",
    "version": 3
   },
   "file_extension": ".py",
   "mimetype": "text/x-python",
   "name": "python",
   "nbconvert_exporter": "python",
   "pygments_lexer": "ipython3",
   "version": "3.8.15"
  },
  "source_map": [
   14,
   28,
   38,
   67,
   70,
   91,
   93,
   104,
   107,
   125
  ]
 },
 "nbformat": 4,
 "nbformat_minor": 5
}