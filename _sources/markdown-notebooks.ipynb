{
 "cells": [
  {
   "cell_type": "markdown",
   "id": "3c6de51d",
   "metadata": {},
   "source": [
    "# Description of editing environment\n",
    "## Notebooks with MyST Markdown\n",
    "\n",
    "Jupyter Book lets you write text-based notebooks using MyST Markdown.\n",
    "See [the Notebooks with MyST Markdown documentation](https://jupyterbook.org/file-types/myst-notebooks.html) for more detailed instructions.\n",
    "This page shows off a notebook written in MyST Markdown.\n",
    "\n",
    "## An example cell\n",
    "\n",
    "With MyST Markdown, you can define code cells with a directive like so:"
   ]
  },
  {
   "cell_type": "code",
   "execution_count": 1,
   "id": "e6961bc3",
   "metadata": {},
   "outputs": [
    {
     "name": "stdout",
     "output_type": "stream",
     "text": [
      "44\n"
     ]
    }
   ],
   "source": [
    "print(2 + 42)"
   ]
  },
  {
   "cell_type": "code",
   "execution_count": 2,
   "id": "12a4fa89",
   "metadata": {},
   "outputs": [
    {
     "ename": "NameError",
     "evalue": "name 'np' is not defined",
     "output_type": "error",
     "traceback": [
      "\u001b[0;31m---------------------------------------------------------------------------\u001b[0m",
      "\u001b[0;31mNameError\u001b[0m                                 Traceback (most recent call last)",
      "Cell \u001b[0;32mIn[2], line 2\u001b[0m\n\u001b[1;32m      1\u001b[0m \u001b[38;5;66;03m# An example input vector\u001b[39;00m\n\u001b[0;32m----> 2\u001b[0m x \u001b[38;5;241m=\u001b[39m \u001b[43mnp\u001b[49m\u001b[38;5;241m.\u001b[39marray(\n\u001b[1;32m      3\u001b[0m     [ \u001b[38;5;241m0.4967\u001b[39m, \u001b[38;5;241m-\u001b[39m\u001b[38;5;241m0.1383\u001b[39m,  \u001b[38;5;241m0.6477\u001b[39m,  \u001b[38;5;241m1.523\u001b[39m , \u001b[38;5;241m-\u001b[39m\u001b[38;5;241m0.2342\u001b[39m, \u001b[38;5;241m-\u001b[39m\u001b[38;5;241m0.2341\u001b[39m,  \u001b[38;5;241m1.5792\u001b[39m,\n\u001b[1;32m      4\u001b[0m       \u001b[38;5;241m0.7674\u001b[39m, \u001b[38;5;241m-\u001b[39m\u001b[38;5;241m0.4695\u001b[39m,  \u001b[38;5;241m0.5426\u001b[39m, \u001b[38;5;241m-\u001b[39m\u001b[38;5;241m0.4634\u001b[39m, \u001b[38;5;241m-\u001b[39m\u001b[38;5;241m0.4657\u001b[39m,  \u001b[38;5;241m0.242\u001b[39m , \u001b[38;5;241m-\u001b[39m\u001b[38;5;241m1.9133\u001b[39m,\n\u001b[1;32m      5\u001b[0m       \u001b[38;5;241m-\u001b[39m\u001b[38;5;241m1.7249\u001b[39m, \u001b[38;5;241m-\u001b[39m\u001b[38;5;241m0.5623\u001b[39m, \u001b[38;5;241m-\u001b[39m\u001b[38;5;241m1.0128\u001b[39m,  \u001b[38;5;241m0.3142\u001b[39m, \u001b[38;5;241m-\u001b[39m\u001b[38;5;241m0.908\u001b[39m , \u001b[38;5;241m-\u001b[39m\u001b[38;5;241m1.4123\u001b[39m,  \u001b[38;5;241m1.4656\u001b[39m,\n\u001b[1;32m      6\u001b[0m       \u001b[38;5;241m-\u001b[39m\u001b[38;5;241m0.2258\u001b[39m,  \u001b[38;5;241m0.0675\u001b[39m, \u001b[38;5;241m-\u001b[39m\u001b[38;5;241m1.4247\u001b[39m, \u001b[38;5;241m-\u001b[39m\u001b[38;5;241m0.5444\u001b[39m,  \u001b[38;5;241m0.1109\u001b[39m, \u001b[38;5;241m-\u001b[39m\u001b[38;5;241m1.151\u001b[39m ,  \u001b[38;5;241m0.3757\u001b[39m,\n\u001b[1;32m      7\u001b[0m       \u001b[38;5;241m-\u001b[39m\u001b[38;5;241m0.6006\u001b[39m, \u001b[38;5;241m-\u001b[39m\u001b[38;5;241m0.2917\u001b[39m, \u001b[38;5;241m-\u001b[39m\u001b[38;5;241m0.6017\u001b[39m,  \u001b[38;5;241m1.8523\u001b[39m])\n\u001b[1;32m      8\u001b[0m N \u001b[38;5;241m=\u001b[39m \u001b[38;5;28mlen\u001b[39m(x)\n\u001b[1;32m     10\u001b[0m plt\u001b[38;5;241m.\u001b[39mplot(x)\n",
      "\u001b[0;31mNameError\u001b[0m: name 'np' is not defined"
     ]
    }
   ],
   "source": [
    "# An example input vector\n",
    "x = np.array(\n",
    "    [ 0.4967, -0.1383,  0.6477,  1.523 , -0.2342, -0.2341,  1.5792,\n",
    "      0.7674, -0.4695,  0.5426, -0.4634, -0.4657,  0.242 , -1.9133,\n",
    "      -1.7249, -0.5623, -1.0128,  0.3142, -0.908 , -1.4123,  1.4656,\n",
    "      -0.2258,  0.0675, -1.4247, -0.5444,  0.1109, -1.151 ,  0.3757,\n",
    "      -0.6006, -0.2917, -0.6017,  1.8523])\n",
    "N = len(x)\n",
    "\n",
    "plt.plot(x)"
   ]
  },
  {
   "cell_type": "markdown",
   "id": "74f83e13",
   "metadata": {},
   "source": [
    "When your book is built, the contents of any `{code-cell}` blocks will be\n",
    "executed with your default Jupyter kernel, and their outputs will be displayed\n",
    "in-line with the rest of your content.\n",
    "\n",
    "```{seealso}\n",
    "Jupyter Book uses [Jupytext](https://jupytext.readthedocs.io/en/latest/) to convert text-based files to notebooks, and can support [many other text-based notebook files](https://jupyterbook.org/file-types/jupytext.html).\n",
    "```\n",
    "\n",
    "## Create a notebook with MyST Markdown\n",
    "\n",
    "MyST Markdown notebooks are defined by two things:\n",
    "\n",
    "1. YAML metadata that is needed to understand if / how it should convert text files to notebooks (including information about the kernel needed).\n",
    "   See the YAML at the top of this page for example.\n",
    "2. The presence of `{code-cell}` directives, which will be executed with your book.\n",
    "\n",
    "That's all that is needed to get started!\n",
    "\n",
    "## Quickly add YAML metadata for MyST Notebooks\n",
    "\n",
    "If you have a markdown file and you'd like to quickly add YAML metadata to it, so that Jupyter Book will treat it as a MyST Markdown Notebook, run the following command:\n",
    "\n",
    "```\n",
    "jupyter-book myst init path/to/markdownfile.md\n",
    "```"
   ]
  }
 ],
 "metadata": {
  "jupytext": {
   "cell_metadata_filter": "-all",
   "formats": "md:myst",
   "text_representation": {
    "extension": ".md",
    "format_name": "myst",
    "format_version": 0.13,
    "jupytext_version": "1.11.5"
   }
  },
  "kernelspec": {
   "display_name": "Python 3",
   "language": "python",
   "name": "python3"
  },
  "language_info": {
   "codemirror_mode": {
    "name": "ipython",
    "version": 3
   },
   "file_extension": ".py",
   "mimetype": "text/x-python",
   "name": "python",
   "nbconvert_exporter": "python",
   "pygments_lexer": "ipython3",
   "version": "3.8.15"
  },
  "source_map": [
   14,
   26,
   29,
   40
  ]
 },
 "nbformat": 4,
 "nbformat_minor": 5
}