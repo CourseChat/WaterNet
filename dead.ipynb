{
 "cells": [
  {
   "attachments": {},
   "cell_type": "markdown",
   "id": "a602625a",
   "metadata": {},
   "source": [
    "# Testing cell structure"
   ]
  },
  {
   "cell_type": "code",
   "execution_count": 1,
   "id": "bc87ec3d",
   "metadata": {},
   "outputs": [
    {
     "data": {
      "text/plain": [
       "5"
      ]
     },
     "execution_count": 1,
     "metadata": {},
     "output_type": "execute_result"
    }
   ],
   "source": [
    "2 + 3"
   ]
  },
  {
   "cell_type": "code",
   "execution_count": null,
   "id": "70d9846e",
   "metadata": {},
   "outputs": [],
   "source": [
    "3+5"
   ]
  },
  {
   "cell_type": "code",
   "execution_count": 2,
   "id": "4932f148",
   "metadata": {},
   "outputs": [],
   "source": [
    "# Import statements\n",
    "import math\n",
    "import operator\n",
    "#from datascience import *\n",
    "\n"
   ]
  },
  {
   "cell_type": "code",
   "execution_count": null,
   "id": "d29e469c",
   "metadata": {},
   "outputs": [
    {
     "ename": "",
     "evalue": "",
     "output_type": "error",
     "traceback": [
      "\u001b[1;31mRunning cells with 'gee' requires ipykernel package.\n",
      "\u001b[1;31mRun the following command to install 'ipykernel' into the Python environment. \n",
      "\u001b[1;31mCommand: 'conda install -n gee ipykernel --update-deps --force-reinstall'"
     ]
    }
   ],
   "source": [
    "# Import set two\n",
    "import matplotlib\n",
    "matplotlib.use('Agg')\n",
    "#from datascience import Table\n",
    "%matplotlib inline\n",
    "import matplotlib.pyplot as plt\n",
    "import numpy as np\n",
    "plt.style.use('fivethirtyeight')"
   ]
  },
  {
   "cell_type": "code",
   "execution_count": null,
   "id": "abb173de",
   "metadata": {},
   "outputs": [
    {
     "ename": "",
     "evalue": "",
     "output_type": "error",
     "traceback": [
      "\u001b[1;31mRunning cells with 'gee' requires ipykernel package.\n",
      "\u001b[1;31mRun the following command to install 'ipykernel' into the Python environment. \n",
      "\u001b[1;31mCommand: 'conda install -n gee ipykernel --update-deps --force-reinstall'"
     ]
    }
   ],
   "source": [
    "# import urlrequest\n",
    "import urllib.request\n",
    "#add urllib\n",
    "import urllib\n",
    "#import datascience"
   ]
  },
  {
   "cell_type": "code",
   "execution_count": null,
   "id": "667a1d08",
   "metadata": {},
   "outputs": [
    {
     "ename": "",
     "evalue": "",
     "output_type": "error",
     "traceback": [
      "\u001b[1;31mRunning cells with 'gee' requires ipykernel package.\n",
      "\u001b[1;31mRun the following command to install 'ipykernel' into the Python environment. \n",
      "\u001b[1;31mCommand: 'conda install -n gee ipykernel --update-deps --force-reinstall'"
     ]
    }
   ],
   "source": [
    "# HIDDEN\n",
    "# The standard set of libraries we need\n",
    "import numpy as np\n",
    "import matplotlib.pyplot as plt\n",
    "#%matplotlib inline\n",
    "\n",
    "# Make plots look a little bit more fancy\n",
    "#plt.style.use('fivethirtyeight')\n",
    "\n",
    "# The standard library for data in tables\n",
    "import pandas as pd\n",
    "\n",
    "# A tiny function to read a file directly from a URL\n",
    "from urllib.request import urlopen\n",
    "\n",
    "def read_url(url):\n",
    "    return urlopen(url).read().decode()"
   ]
  },
  {
   "cell_type": "code",
   "execution_count": null,
   "id": "d0401438",
   "metadata": {},
   "outputs": [
    {
     "ename": "",
     "evalue": "",
     "output_type": "error",
     "traceback": [
      "\u001b[1;31mRunning cells with 'gee' requires ipykernel package.\n",
      "\u001b[1;31mRun the following command to install 'ipykernel' into the Python environment. \n",
      "\u001b[1;31mCommand: 'conda install -n gee ipykernel --update-deps --force-reinstall'"
     ]
    }
   ],
   "source": [
    "huck_finn_url = 'https://www.inferentialthinking.com/data/huck_finn.txt'\n",
    "print(huck_finn_url)"
   ]
  },
  {
   "cell_type": "code",
   "execution_count": null,
   "id": "5bf109c4",
   "metadata": {},
   "outputs": [
    {
     "ename": "",
     "evalue": "",
     "output_type": "error",
     "traceback": [
      "\u001b[1;31mRunning cells with 'gee' requires ipykernel package.\n",
      "\u001b[1;31mRun the following command to install 'ipykernel' into the Python environment. \n",
      "\u001b[1;31mCommand: 'conda install -n gee ipykernel --update-deps --force-reinstall'"
     ]
    }
   ],
   "source": [
    "#different url library\n",
    "import urllib  # the lib that handles the url stuff"
   ]
  },
  {
   "cell_type": "code",
   "execution_count": null,
   "id": "ef462a96",
   "metadata": {},
   "outputs": [
    {
     "ename": "",
     "evalue": "",
     "output_type": "error",
     "traceback": [
      "\u001b[1;31mRunning cells with 'gee' requires ipykernel package.\n",
      "\u001b[1;31mRun the following command to install 'ipykernel' into the Python environment. \n",
      "\u001b[1;31mCommand: 'conda install -n gee ipykernel --update-deps --force-reinstall'"
     ]
    }
   ],
   "source": [
    "huck_finn_text = read_url(huck_finn_url)"
   ]
  },
  {
   "cell_type": "code",
   "execution_count": null,
   "id": "5634589f",
   "metadata": {},
   "outputs": [
    {
     "ename": "",
     "evalue": "",
     "output_type": "error",
     "traceback": [
      "\u001b[1;31mRunning cells with 'gee' requires ipykernel package.\n",
      "\u001b[1;31mRun the following command to install 'ipykernel' into the Python environment. \n",
      "\u001b[1;31mCommand: 'conda install -n gee ipykernel --update-deps --force-reinstall'"
     ]
    }
   ],
   "source": [
    "# Importing necessary packages\n",
    "import datetime as dt\n",
    "import matplotlib.pyplot as plt\n",
    "import pandas as pd\n",
    "import os\n",
    "import numpy as np"
   ]
  },
  {
   "cell_type": "code",
   "execution_count": null,
   "id": "1c0e2b7f",
   "metadata": {},
   "outputs": [
    {
     "ename": "",
     "evalue": "",
     "output_type": "error",
     "traceback": [
      "\u001b[1;31mRunning cells with 'gee' requires ipykernel package.\n",
      "\u001b[1;31mRun the following command to install 'ipykernel' into the Python environment. \n",
      "\u001b[1;31mCommand: 'conda install -n gee ipykernel --update-deps --force-reinstall'"
     ]
    }
   ],
   "source": [
    "!ipython profile locate default"
   ]
  },
  {
   "cell_type": "code",
   "execution_count": null,
   "id": "77f87fdb",
   "metadata": {},
   "outputs": [
    {
     "ename": "",
     "evalue": "",
     "output_type": "error",
     "traceback": [
      "\u001b[1;31mRunning cells with 'gee' requires ipykernel package.\n",
      "\u001b[1;31mRun the following command to install 'ipykernel' into the Python environment. \n",
      "\u001b[1;31mCommand: 'conda install -n gee ipykernel --update-deps --force-reinstall'"
     ]
    }
   ],
   "source": [
    "import urllib.request\n"
   ]
  },
  {
   "cell_type": "code",
   "execution_count": null,
   "id": "291c7b0f",
   "metadata": {},
   "outputs": [
    {
     "ename": "",
     "evalue": "",
     "output_type": "error",
     "traceback": [
      "\u001b[1;31mRunning cells with 'gee' requires ipykernel package.\n",
      "\u001b[1;31mRun the following command to install 'ipykernel' into the Python environment. \n",
      "\u001b[1;31mCommand: 'conda install -n gee ipykernel --update-deps --force-reinstall'"
     ]
    }
   ],
   "source": [
    "# Read two books, fast!  Skip, old\n",
    "\n",
    "# huck_finn_url = 'https://www.inferentialthinking.com/data/huck_finn.txt'\n",
    "# huck_finn_text = read_url(huck_finn_url)\n",
    "\n",
    "huck_finn_chapters = huck_finn_text.split('CHAPTER ')[44:]"
   ]
  },
  {
   "cell_type": "code",
   "execution_count": null,
   "id": "c293865b",
   "metadata": {},
   "outputs": [
    {
     "ename": "",
     "evalue": "",
     "output_type": "error",
     "traceback": [
      "\u001b[1;31mRunning cells with 'gee' requires ipykernel package.\n",
      "\u001b[1;31mRun the following command to install 'ipykernel' into the Python environment. \n",
      "\u001b[1;31mCommand: 'conda install -n gee ipykernel --update-deps --force-reinstall'"
     ]
    }
   ],
   "source": [
    "# Display the chapters of Huckleberry Finn in a table. Original DS8\n",
    "\n",
    "#Table().with_column('Chapters', huck_finn_chapters)"
   ]
  },
  {
   "cell_type": "code",
   "execution_count": null,
   "id": "3cd6cebe",
   "metadata": {},
   "outputs": [
    {
     "ename": "",
     "evalue": "",
     "output_type": "error",
     "traceback": [
      "\u001b[1;31mRunning cells with 'gee' requires ipykernel package.\n",
      "\u001b[1;31mRun the following command to install 'ipykernel' into the Python environment. \n",
      "\u001b[1;31mCommand: 'conda install -n gee ipykernel --update-deps --force-reinstall'"
     ]
    }
   ],
   "source": [
    "# HIDDEN fix this\n",
    "# Read the text of Pride and Prejudice, split into chapters.\n",
    "book_url = 'http://www.gutenberg.org/ebooks/42671.txt.utf-8'\n",
    "book_text = read_url(book_url)\n",
    "# Break the text into Chapters: change name from book to huck_finn\n",
    "huck_finn_chapters = book_text.split('CHAPTER ')\n",
    "# Drop the first \"Chapter\" - it's the Project Gutenberg header\n",
    "huck_finn_chapters = huck_finn_chapters[0:]"
   ]
  },
  {
   "cell_type": "code",
   "execution_count": null,
   "id": "21cffe57",
   "metadata": {},
   "outputs": [
    {
     "ename": "",
     "evalue": "",
     "output_type": "error",
     "traceback": [
      "\u001b[1;31mRunning cells with 'gee' requires ipykernel package.\n",
      "\u001b[1;31mRun the following command to install 'ipykernel' into the Python environment. \n",
      "\u001b[1;31mCommand: 'conda install -n gee ipykernel --update-deps --force-reinstall'"
     ]
    }
   ],
   "source": [
    "# Show the first few words of each chapter in a table.\n",
    "pd.DataFrame(huck_finn_chapters, columns=['Chapters'])"
   ]
  },
  {
   "cell_type": "code",
   "execution_count": null,
   "id": "8c1b71e5",
   "metadata": {},
   "outputs": [
    {
     "ename": "",
     "evalue": "",
     "output_type": "error",
     "traceback": [
      "\u001b[1;31mRunning cells with 'gee' requires ipykernel package.\n",
      "\u001b[1;31mRun the following command to install 'ipykernel' into the Python environment. \n",
      "\u001b[1;31mCommand: 'conda install -n gee ipykernel --update-deps --force-reinstall'"
     ]
    }
   ],
   "source": [
    "# Count how many times the names Jim, Tom, and Huck appear in each chapter.\n",
    "\n",
    "#counts = Table().with_columns([\n",
    " #       'Jim', np.char.count(huck_finn_chapters, 'Jim'),\n",
    " #       'Tom', np.char.count(huck_finn_chapters, 'Tom'),\n",
    " #       'Huck', np.char.count(huck_finn_chapters, 'Huck')\n",
    "  #  ])\n",
    "counts = pd.DataFrame.from_dict({\n",
    "        'Elizabeth': np.char.count(huck_finn_chapters, 'Elizabeth'),\n",
    "        'Darcy': np.char.count(huck_finn_chapters, 'Darcy'),\n",
    "        'Lydia': np.char.count(huck_finn_chapters, 'Lydia'),\n",
    "        'Wickham': np.char.count(huck_finn_chapters, 'Wickham'),\n",
    "        'Bingley': np.char.count(huck_finn_chapters, 'Bingley'),\n",
    "        'Jane': np.char.count(huck_finn_chapters, 'Jane')},\n",
    "    )\n",
    "\n",
    "# Plot the cumulative counts:\n",
    "# how many times in Chapter 1, how many times in Chapters 1 and 2, and so on.\n",
    "\n",
    "#cum_counts = counts.cumsum().with_column('Chapter', np.arange(1, 44, 1)) Old\n",
    "cum_counts = counts.cumsum()\n",
    "\n",
    "# Add the chapter numbers\n",
    "number_of_chapters = len(huck_finn_chapters)\n",
    "cum_counts['Chapter'] = np.arange(number_of_chapters)\n",
    "\n",
    "#cum_counts.plot(column_for_xticks=3)\n",
    "# Do the plot\n",
    "cum_counts.plot(x='Chapter')\n",
    "plt.title('Cumulative Number of Times Each Name Appears');\n",
    "#plt.title('Cumulative Number of Times Each Name Appears', y=1.08);"
   ]
  },
  {
   "attachments": {},
   "cell_type": "markdown",
   "id": "720bf17e",
   "metadata": {},
   "source": [
    "md cell"
   ]
  },
  {
   "cell_type": "code",
   "execution_count": null,
   "id": "a2576a4b",
   "metadata": {},
   "outputs": [
    {
     "ename": "",
     "evalue": "",
     "output_type": "error",
     "traceback": [
      "\u001b[1;31mRunning cells with 'gee' requires ipykernel package.\n",
      "\u001b[1;31mRun the following command to install 'ipykernel' into the Python environment. \n",
      "\u001b[1;31mCommand: 'conda install -n gee ipykernel --update-deps --force-reinstall'"
     ]
    }
   ],
   "source": [
    "print(huck_finn_text)"
   ]
  },
  {
   "cell_type": "code",
   "execution_count": null,
   "id": "3277b4c0",
   "metadata": {},
   "outputs": [
    {
     "ename": "",
     "evalue": "",
     "output_type": "error",
     "traceback": [
      "\u001b[1;31mRunning cells with 'gee' requires ipykernel package.\n",
      "\u001b[1;31mRun the following command to install 'ipykernel' into the Python environment. \n",
      "\u001b[1;31mCommand: 'conda install -n gee ipykernel --update-deps --force-reinstall'"
     ]
    }
   ],
   "source": [
    "little_women_url = 'https://www.inferentialthinking.com/data/little_women.txt'\n",
    "little_women_text = read_url(little_women_url)\n",
    "#with urllib.request.urlopen(little_women_url) as response:\n",
    "#   little_women_text = response.read().decode()\n",
    "#urlopen(url).read().decode()\n",
    "type(little_women_text)\n",
    "little_women_chapters = little_women_text.split('CHAPTER ')[1:]"
   ]
  },
  {
   "cell_type": "code",
   "execution_count": null,
   "id": "332c94b7",
   "metadata": {},
   "outputs": [
    {
     "ename": "",
     "evalue": "",
     "output_type": "error",
     "traceback": [
      "\u001b[1;31mRunning cells with 'gee' requires ipykernel package.\n",
      "\u001b[1;31mRun the following command to install 'ipykernel' into the Python environment. \n",
      "\u001b[1;31mCommand: 'conda install -n gee ipykernel --update-deps --force-reinstall'"
     ]
    }
   ],
   "source": [
    "print(little_women_text)"
   ]
  },
  {
   "cell_type": "code",
   "execution_count": null,
   "id": "bf787483",
   "metadata": {},
   "outputs": [
    {
     "ename": "",
     "evalue": "",
     "output_type": "error",
     "traceback": [
      "\u001b[1;31mRunning cells with 'gee' requires ipykernel package.\n",
      "\u001b[1;31mRun the following command to install 'ipykernel' into the Python environment. \n",
      "\u001b[1;31mCommand: 'conda install -n gee ipykernel --update-deps --force-reinstall'"
     ]
    }
   ],
   "source": [
    "# Use another form\n",
    "# Get the text for Pride and Prejudice\n",
    "book_url = 'http://www.gutenberg.org/ebooks/42671.txt.utf-8'\n",
    "book_text = read_url(book_url)"
   ]
  },
  {
   "cell_type": "code",
   "execution_count": null,
   "id": "0906bbd0",
   "metadata": {},
   "outputs": [
    {
     "ename": "",
     "evalue": "",
     "output_type": "error",
     "traceback": [
      "\u001b[1;31mRunning cells with 'gee' requires ipykernel package.\n",
      "\u001b[1;31mRun the following command to install 'ipykernel' into the Python environment. \n",
      "\u001b[1;31mCommand: 'conda install -n gee ipykernel --update-deps --force-reinstall'"
     ]
    }
   ],
   "source": [
    "import urllib.request\n",
    "\n",
    "req = urllib.request.Request('http://www.gutenberg.org/ebooks/42671.txt.utf-8')\n",
    "with urllib.request.urlopen(req) as response:\n",
    "   the_page = response.read().decode()"
   ]
  },
  {
   "cell_type": "code",
   "execution_count": null,
   "id": "3738150e",
   "metadata": {},
   "outputs": [
    {
     "ename": "",
     "evalue": "",
     "output_type": "error",
     "traceback": [
      "\u001b[1;31mRunning cells with 'gee' requires ipykernel package.\n",
      "\u001b[1;31mRun the following command to install 'ipykernel' into the Python environment. \n",
      "\u001b[1;31mCommand: 'conda install -n gee ipykernel --update-deps --force-reinstall'"
     ]
    }
   ],
   "source": [
    "print(the_page)"
   ]
  },
  {
   "cell_type": "code",
   "execution_count": null,
   "id": "1b62a4f9",
   "metadata": {},
   "outputs": [
    {
     "ename": "",
     "evalue": "",
     "output_type": "error",
     "traceback": [
      "\u001b[1;31mRunning cells with 'gee' requires ipykernel package.\n",
      "\u001b[1;31mRun the following command to install 'ipykernel' into the Python environment. \n",
      "\u001b[1;31mCommand: 'conda install -n gee ipykernel --update-deps --force-reinstall'"
     ]
    }
   ],
   "source": [
    "# The chapters of Little Women, in a table\n",
    "\n",
    "Table().with_column('Chapters', little_women_chapters)"
   ]
  },
  {
   "cell_type": "code",
   "execution_count": null,
   "id": "69d1ea9e",
   "metadata": {},
   "outputs": [
    {
     "ename": "",
     "evalue": "",
     "output_type": "error",
     "traceback": [
      "\u001b[1;31mRunning cells with 'gee' requires ipykernel package.\n",
      "\u001b[1;31mRun the following command to install 'ipykernel' into the Python environment. \n",
      "\u001b[1;31mCommand: 'conda install -n gee ipykernel --update-deps --force-reinstall'"
     ]
    }
   ],
   "source": [
    "# Counts of names in the chapters of Little Women\n",
    "\n",
    "counts = Table().with_columns([\n",
    "        'Amy', np.char.count(little_women_chapters, 'Amy'),\n",
    "        'Beth', np.char.count(little_women_chapters, 'Beth'),\n",
    "        'Jo', np.char.count(little_women_chapters, 'Jo'),\n",
    "        'Meg', np.char.count(little_women_chapters, 'Meg'),\n",
    "        'Laurie', np.char.count(little_women_chapters, 'Laurie'),\n",
    "\n",
    "    ])\n",
    "\n",
    "# Plot the cumulative counts.\n",
    "\n",
    "cum_counts = counts.cumsum().with_column('Chapter', np.arange(1, 48, 1))\n",
    "cum_counts.plot(column_for_xticks=5)\n",
    "plt.title('Cumulative Number of Times Each Name Appears', y=1.08);"
   ]
  },
  {
   "cell_type": "code",
   "execution_count": null,
   "id": "94f2ecb9",
   "metadata": {},
   "outputs": [
    {
     "ename": "",
     "evalue": "",
     "output_type": "error",
     "traceback": [
      "\u001b[1;31mRunning cells with 'gee' requires ipykernel package.\n",
      "\u001b[1;31mRun the following command to install 'ipykernel' into the Python environment. \n",
      "\u001b[1;31mCommand: 'conda install -n gee ipykernel --update-deps --force-reinstall'"
     ]
    }
   ],
   "source": [
    "# In each chapter, count the number of all characters;\n",
    "# call this the \"length\" of the chapter.\n",
    "# Also count the number of periods.\n",
    "\n",
    "chars_periods_huck_finn = Table().with_columns([\n",
    "        'Huck Finn Chapter Length', [len(s) for s in huck_finn_chapters],\n",
    "        'Number of Periods', np.char.count(huck_finn_chapters, '.')\n",
    "    ])\n",
    "chars_periods_little_women = Table().with_columns([\n",
    "        'Little Women Chapter Length', [len(s) for s in little_women_chapters],\n",
    "        'Number of Periods', np.char.count(little_women_chapters, '.')\n",
    "    ])"
   ]
  },
  {
   "cell_type": "code",
   "execution_count": null,
   "id": "6ae66041",
   "metadata": {},
   "outputs": [
    {
     "ename": "",
     "evalue": "",
     "output_type": "error",
     "traceback": [
      "\u001b[1;31mRunning cells with 'gee' requires ipykernel package.\n",
      "\u001b[1;31mRun the following command to install 'ipykernel' into the Python environment. \n",
      "\u001b[1;31mCommand: 'conda install -n gee ipykernel --update-deps --force-reinstall'"
     ]
    }
   ],
   "source": [
    "chars_periods_huck_finn"
   ]
  },
  {
   "cell_type": "code",
   "execution_count": null,
   "id": "64f01e23",
   "metadata": {},
   "outputs": [
    {
     "ename": "",
     "evalue": "",
     "output_type": "error",
     "traceback": [
      "\u001b[1;31mRunning cells with 'gee' requires ipykernel package.\n",
      "\u001b[1;31mRun the following command to install 'ipykernel' into the Python environment. \n",
      "\u001b[1;31mCommand: 'conda install -n gee ipykernel --update-deps --force-reinstall'"
     ]
    }
   ],
   "source": [
    "3 * 9"
   ]
  },
  {
   "cell_type": "code",
   "execution_count": null,
   "id": "5875339e",
   "metadata": {},
   "outputs": [
    {
     "ename": "",
     "evalue": "",
     "output_type": "error",
     "traceback": [
      "\u001b[1;31mRunning cells with 'gee' requires ipykernel package.\n",
      "\u001b[1;31mRun the following command to install 'ipykernel' into the Python environment. \n",
      "\u001b[1;31mCommand: 'conda install -n gee ipykernel --update-deps --force-reinstall'"
     ]
    }
   ],
   "source": [
    "Table()"
   ]
  },
  {
   "cell_type": "code",
   "execution_count": null,
   "id": "7d0062b5",
   "metadata": {},
   "outputs": [
    {
     "ename": "",
     "evalue": "",
     "output_type": "error",
     "traceback": [
      "\u001b[1;31mRunning cells with 'gee' requires ipykernel package.\n",
      "\u001b[1;31mRun the following command to install 'ipykernel' into the Python environment. \n",
      "\u001b[1;31mCommand: 'conda install -n gee ipykernel --update-deps --force-reinstall'"
     ]
    }
   ],
   "source": [
    "Table().with_columns('Number of petals', make_array(8, 34, 5))"
   ]
  },
  {
   "cell_type": "code",
   "execution_count": null,
   "id": "9e8ecb3e",
   "metadata": {},
   "outputs": [
    {
     "ename": "",
     "evalue": "",
     "output_type": "error",
     "traceback": [
      "\u001b[1;31mRunning cells with 'gee' requires ipykernel package.\n",
      "\u001b[1;31mRun the following command to install 'ipykernel' into the Python environment. \n",
      "\u001b[1;31mCommand: 'conda install -n gee ipykernel --update-deps --force-reinstall'"
     ]
    }
   ],
   "source": [
    "minard = Table.read_table(path_data + 'minard.csv')\n",
    "minard"
   ]
  },
  {
   "cell_type": "code",
   "execution_count": null,
   "id": "c1af0ea4",
   "metadata": {},
   "outputs": [
    {
     "ename": "",
     "evalue": "",
     "output_type": "error",
     "traceback": [
      "\u001b[1;31mRunning cells with 'gee' requires ipykernel package.\n",
      "\u001b[1;31mRun the following command to install 'ipykernel' into the Python environment. \n",
      "\u001b[1;31mCommand: 'conda install -n gee ipykernel --update-deps --force-reinstall'"
     ]
    }
   ],
   "source": [
    "Table.read_table('https://www.inferentialthinking.com/data/sat2014.csv')"
   ]
  },
  {
   "cell_type": "code",
   "execution_count": null,
   "id": "d14c31ca",
   "metadata": {},
   "outputs": [
    {
     "ename": "",
     "evalue": "",
     "output_type": "error",
     "traceback": [
      "\u001b[1;31mRunning cells with 'gee' requires ipykernel package.\n",
      "\u001b[1;31mRun the following command to install 'ipykernel' into the Python environment. \n",
      "\u001b[1;31mCommand: 'conda install -n gee ipykernel --update-deps --force-reinstall'"
     ]
    }
   ],
   "source": [
    "Table.read_table('https://www.inferentialthinking.com/data/sat2014.csv')"
   ]
  },
  {
   "cell_type": "code",
   "execution_count": null,
   "id": "3fc83d48",
   "metadata": {},
   "outputs": [
    {
     "ename": "",
     "evalue": "",
     "output_type": "error",
     "traceback": [
      "\u001b[1;31mRunning cells with 'gee' requires ipykernel package.\n",
      "\u001b[1;31mRun the following command to install 'ipykernel' into the Python environment. \n",
      "\u001b[1;31mCommand: 'conda install -n gee ipykernel --update-deps --force-reinstall'"
     ]
    }
   ],
   "source": [
    "import matplotlib.pyplot as plots\n"
   ]
  },
  {
   "cell_type": "code",
   "execution_count": null,
   "id": "9e4c8b56",
   "metadata": {},
   "outputs": [
    {
     "ename": "",
     "evalue": "",
     "output_type": "error",
     "traceback": [
      "\u001b[1;31mRunning cells with 'gee' requires ipykernel package.\n",
      "\u001b[1;31mRun the following command to install 'ipykernel' into the Python environment. \n",
      "\u001b[1;31mCommand: 'conda install -n gee ipykernel --update-deps --force-reinstall'"
     ]
    }
   ],
   "source": [
    "plots.figure(figsize=(6, 6))\n",
    "plots.scatter(chars_periods_huck_finn.column(1), \n",
    "              chars_periods_huck_finn.column(0), \n",
    "              color='darkblue')\n",
    "plots.scatter(chars_periods_little_women.column(1), \n",
    "              chars_periods_little_women.column(0), \n",
    "              color='gold')\n",
    "plots.xlabel('Number of periods in chapter')\n",
    "plots.ylabel('Number of characters in chapter');"
   ]
  },
  {
   "cell_type": "code",
   "execution_count": null,
   "id": "ea38e34c",
   "metadata": {},
   "outputs": [
    {
     "ename": "",
     "evalue": "",
     "output_type": "error",
     "traceback": [
      "\u001b[1;31mRunning cells with 'gee' requires ipykernel package.\n",
      "\u001b[1;31mRun the following command to install 'ipykernel' into the Python environment. \n",
      "\u001b[1;31mCommand: 'conda install -n gee ipykernel --update-deps --force-reinstall'"
     ]
    }
   ],
   "source": [
    "import numpy as np                     # Load the library\n",
    "\n",
    "a = np.linspace(-np.pi, np.pi, 100)    # Create even grid from -π to π\n",
    "b = np.cos(a)                          # Apply cosine to each element of a\n",
    "c = np.sin(a)                          # Apply sin to each element of a"
   ]
  },
  {
   "cell_type": "code",
   "execution_count": null,
   "id": "ac48db27",
   "metadata": {},
   "outputs": [
    {
     "ename": "",
     "evalue": "",
     "output_type": "error",
     "traceback": [
      "\u001b[1;31mRunning cells with 'gee' requires ipykernel package.\n",
      "\u001b[1;31mRun the following command to install 'ipykernel' into the Python environment. \n",
      "\u001b[1;31mCommand: 'conda install -n gee ipykernel --update-deps --force-reinstall'"
     ]
    }
   ],
   "source": [
    "b @ c"
   ]
  },
  {
   "cell_type": "code",
   "execution_count": null,
   "id": "441ab610",
   "metadata": {},
   "outputs": [
    {
     "ename": "",
     "evalue": "",
     "output_type": "error",
     "traceback": [
      "\u001b[1;31mRunning cells with 'gee' requires ipykernel package.\n",
      "\u001b[1;31mRun the following command to install 'ipykernel' into the Python environment. \n",
      "\u001b[1;31mCommand: 'conda install -n gee ipykernel --update-deps --force-reinstall'"
     ]
    }
   ],
   "source": [
    "from scipy.stats import norm\n",
    "from scipy.integrate import quad\n",
    "\n",
    "ϕ = norm()\n",
    "value, error = quad(ϕ.pdf, -2, 2)  # Integrate using Gaussian quadrature\n",
    "value"
   ]
  },
  {
   "cell_type": "code",
   "execution_count": null,
   "id": "cd6ecb5b",
   "metadata": {},
   "outputs": [
    {
     "ename": "",
     "evalue": "",
     "output_type": "error",
     "traceback": [
      "\u001b[1;31mRunning cells with 'gee' requires ipykernel package.\n",
      "\u001b[1;31mRun the following command to install 'ipykernel' into the Python environment. \n",
      "\u001b[1;31mCommand: 'conda install -n gee ipykernel --update-deps --force-reinstall'"
     ]
    }
   ],
   "source": [
    "from sympy import Symbol\n",
    "\n",
    "x, y = Symbol('x'), Symbol('y')  # Treat 'x' and 'y' as algebraic symbols\n",
    "x + x + x + y"
   ]
  },
  {
   "cell_type": "code",
   "execution_count": null,
   "id": "455e97c0",
   "metadata": {},
   "outputs": [
    {
     "ename": "",
     "evalue": "",
     "output_type": "error",
     "traceback": [
      "\u001b[1;31mRunning cells with 'gee' requires ipykernel package.\n",
      "\u001b[1;31mRun the following command to install 'ipykernel' into the Python environment. \n",
      "\u001b[1;31mCommand: 'conda install -n gee ipykernel --update-deps --force-reinstall'"
     ]
    }
   ],
   "source": [
    "expression = (x + y)**2\n",
    "expression.expand()"
   ]
  },
  {
   "cell_type": "code",
   "execution_count": null,
   "id": "f44b976f",
   "metadata": {},
   "outputs": [
    {
     "ename": "",
     "evalue": "",
     "output_type": "error",
     "traceback": [
      "\u001b[1;31mRunning cells with 'gee' requires ipykernel package.\n",
      "\u001b[1;31mRun the following command to install 'ipykernel' into the Python environment. \n",
      "\u001b[1;31mCommand: 'conda install -n gee ipykernel --update-deps --force-reinstall'"
     ]
    }
   ],
   "source": [
    "import pandas as pd\n",
    "np.random.seed(1234)\n",
    "\n",
    "data = np.random.randn(5, 2)  # 5x2 matrix of N(0, 1) random draws\n",
    "dates = pd.date_range('1/1/2023', periods=5, freq=\"M\")\n",
    "\n",
    "df = pd.DataFrame(data, columns=('price', 'weight'), index=dates)\n",
    "print(df)"
   ]
  },
  {
   "cell_type": "code",
   "execution_count": null,
   "id": "fef48318",
   "metadata": {},
   "outputs": [
    {
     "ename": "",
     "evalue": "",
     "output_type": "error",
     "traceback": [
      "\u001b[1;31mRunning cells with 'gee' requires ipykernel package.\n",
      "\u001b[1;31mRun the following command to install 'ipykernel' into the Python environment. \n",
      "\u001b[1;31mCommand: 'conda install -n gee ipykernel --update-deps --force-reinstall'"
     ]
    }
   ],
   "source": []
  },
  {
   "cell_type": "code",
   "execution_count": null,
   "id": "f0316276",
   "metadata": {},
   "outputs": [
    {
     "ename": "",
     "evalue": "",
     "output_type": "error",
     "traceback": [
      "\u001b[1;31mRunning cells with 'gee' requires ipykernel package.\n",
      "\u001b[1;31mRun the following command to install 'ipykernel' into the Python environment. \n",
      "\u001b[1;31mCommand: 'conda install -n gee ipykernel --update-deps --force-reinstall'"
     ]
    }
   ],
   "source": [
    "maindata = pd.Series([30,40,50,10, 50], name = \"main\")\n",
    "dates = pd.date_range('1/1/2023', periods=5, freq=\"Y\")\n",
    "df = pd.DataFrame( {\"Year\": dates, 'Mainbreaks/100mi/year' : maindata})\n",
    "print(df)\n"
   ]
  },
  {
   "cell_type": "code",
   "execution_count": null,
   "id": "b42adc1c",
   "metadata": {},
   "outputs": [
    {
     "ename": "",
     "evalue": "",
     "output_type": "error",
     "traceback": [
      "\u001b[1;31mRunning cells with 'gee' requires ipykernel package.\n",
      "\u001b[1;31mRun the following command to install 'ipykernel' into the Python environment. \n",
      "\u001b[1;31mCommand: 'conda install -n gee ipykernel --update-deps --force-reinstall'"
     ]
    }
   ],
   "source": [
    "# An example input vector\n",
    "x = np.array(\n",
    "    [ 0.4967, -0.1383,  0.6477,  1.523 , -0.2342, -0.2341,  1.5792,\n",
    "      0.7674, -0.4695,  0.5426, -0.4634, -0.4657,  0.242 , -1.9133,\n",
    "      -1.7249, -0.5623, -1.0128,  0.3142, -0.908 , -1.4123,  1.4656,\n",
    "      -0.2258,  0.0675, -1.4247, -0.5444,  0.1109, -1.151 ,  0.3757,\n",
    "      -0.6006, -0.2917, -0.6017,  1.8523])\n",
    "N = len(x)\n",
    "\n",
    "plt.plot(x)"
   ]
  }
 ],
 "metadata": {
  "kernelspec": {
   "display_name": "Python 3",
   "language": "python",
   "name": "python3"
  },
  "language_info": {
   "codemirror_mode": {
    "name": "ipython",
    "version": 3
   },
   "file_extension": ".py",
   "mimetype": "text/x-python",
   "name": "python",
   "nbconvert_exporter": "python",
   "pygments_lexer": "ipython3",
   "version": "3.10.9 (v3.10.9:1dd9be6584, Dec  6 2022, 14:37:36) [Clang 13.0.0 (clang-1300.0.29.30)]"
  },
  "vscode": {
   "interpreter": {
    "hash": "44a9cdcbdccbf05a880e90d2e6fe72470baab4d1b82472d890be0596ed887a6b"
   }
  }
 },
 "nbformat": 4,
 "nbformat_minor": 5
}
