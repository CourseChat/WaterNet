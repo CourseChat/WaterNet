{
 "cells": [
  {
   "cell_type": "code",
   "execution_count": 11,
   "id": "2c9ea0f7",
   "metadata": {},
   "outputs": [
    {
     "name": "stdout",
     "output_type": "stream",
     "text": [
      "CAWST\n",
      "LESSONS LEARNED\n",
      "ACHIEVING  \n",
      "SDG 6:\n",
      "THE NEED FOR  \n",
      "LOCAL CENTRES  \n",
      "OF WASH EXPERTISE  \n",
      "AND HOW TO DO ITSMART CENTRE GROUP&\n",
      "01.2018\n"
     ]
    }
   ],
   "source": [
    "import PyPDF2 \n",
    "\n",
    "# open the pdf file\n",
    "with open('../document.pdf', 'rb') as file:\n",
    "    # create pdf reader object\n",
    "    reader = PyPDF2.PdfReader(file)\n",
    "    # get the first page\n",
    "    #page = reader.getPage(0)\n",
    "    page = reader.pages[0]\n",
    "    # extract text from page\n",
    "    print(page.extract_text())\n"
   ]
  },
  {
   "cell_type": "code",
   "execution_count": null,
   "id": "b6e55348",
   "metadata": {},
   "outputs": [],
   "source": [
    "from pdfminer.pdfinterp import PDFResourceManager, PDFPageInterpreter\n",
    "from pdfminer.converter import TextConverter\n",
    "from pdfminer.layout import LAParams\n",
    "from pdfminer.pdfpage import PDFPage\n",
    "from io import StringIO\n",
    "\n",
    "def extract_text_from_pdf(pdf_path):\n",
    "    resource_manager = PDFResourceManager()\n",
    "    string_io = StringIO()\n",
    "    converter = TextConverter(resource_manager, string_io, codec='utf-8', laparams=LAParams())\n",
    "    page_interpreter = PDFPageInterpreter(resource_manager, converter)\n",
    "\n",
    "    with open(pdf_path, 'rb') as fh:\n",
    "        for page in PDFPage.get_pages(fh, caching=True, check_extractable=True):\n",
    "            page_interpreter.process_page(page)\n",
    "\n",
    "        text = string_io.getvalue()\n",
    "\n",
    "    # close open handles\n",
    "    converter.close()\n",
    "    string_io.close()\n",
    "\n",
    "    if text:\n",
    "        return text\n",
    "\n",
    "print(extract_text_from_pdf(\"document.pdf\"))\n"
   ]
  },
  {
   "cell_type": "code",
   "execution_count": null,
   "id": "6135df62",
   "metadata": {},
   "outputs": [],
   "source": [
    "from slate3k import PDF\n",
    "\n",
    "with open(\"document.pdf\", \"rb\") as f:\n",
    "    pdf = PDF(f)\n",
    "    print(pdf[0])\n"
   ]
  },
  {
   "cell_type": "code",
   "execution_count": 3,
   "id": "7dcde1fc",
   "metadata": {},
   "outputs": [
    {
     "name": "stdout",
     "output_type": "stream",
     "text": [
      "Collecting pypdf2\n",
      "  Using cached pypdf2-3.0.1-py3-none-any.whl (232 kB)\n",
      "Installing collected packages: pypdf2\n",
      "Successfully installed pypdf2-3.0.1\n"
     ]
    }
   ],
   "source": [
    "%pip install pypdf2"
   ]
  },
  {
   "cell_type": "code",
   "execution_count": 5,
   "id": "6e4defc9",
   "metadata": {},
   "outputs": [
    {
     "ename": "ModuleNotFoundError",
     "evalue": "No module named 'pypdf2'",
     "output_type": "error",
     "traceback": [
      "\u001b[0;31m---------------------------------------------------------------------------\u001b[0m",
      "\u001b[0;31mModuleNotFoundError\u001b[0m                       Traceback (most recent call last)",
      "Cell \u001b[0;32mIn[5], line 3\u001b[0m\n\u001b[1;32m      1\u001b[0m \u001b[38;5;66;03m#use urllib to download a PDF file from a remote web site and extract the text using the PyPDF2 library:\u001b[39;00m\n\u001b[1;32m      2\u001b[0m \u001b[38;5;28;01mimport\u001b[39;00m \u001b[38;5;21;01murllib\u001b[39;00m\u001b[38;5;21;01m.\u001b[39;00m\u001b[38;5;21;01mrequest\u001b[39;00m\n\u001b[0;32m----> 3\u001b[0m \u001b[38;5;28;01mimport\u001b[39;00m \u001b[38;5;21;01mpypdf2\u001b[39;00m\n\u001b[1;32m      5\u001b[0m \u001b[38;5;66;03m# download the pdf file\u001b[39;00m\n\u001b[1;32m      6\u001b[0m \u001b[38;5;66;03m#url = 'https://www.example.com/document.pdf'\u001b[39;00m\n\u001b[1;32m      7\u001b[0m url \u001b[38;5;241m=\u001b[39m \u001b[38;5;124m'\u001b[39m\u001b[38;5;124mhttps://bcourses.berkeley.edu/courses/1516536/files/folder/Module\u001b[39m\u001b[38;5;132;01m%200%\u001b[39;00m\u001b[38;5;124m20\u001b[39m\u001b[38;5;124m%\u001b[39m\u001b[38;5;124m20Introduction?preview=83922060\u001b[39m\u001b[38;5;124m'\u001b[39m\n",
      "\u001b[0;31mModuleNotFoundError\u001b[0m: No module named 'pypdf2'"
     ]
    }
   ],
   "source": [
    "#use urllib to download a PDF file from a remote web site and extract the text using the PyPDF2 library:\n",
    "import urllib.request\n",
    "import pypdf2\n",
    "\n",
    "# download the pdf file\n",
    "#url = 'https://www.example.com/document.pdf'\n",
    "url = 'https://bcourses.berkeley.edu/courses/1516536/files/folder/Module%200%20%20Introduction?preview=83922060'\n",
    "urllib.request.urlretrieve(url, 'document.pdf')\n",
    "\n",
    "# open the pdf file\n",
    "with open('document.pdf', 'rb') as file:\n",
    "    # create pdf reader object\n",
    "    reader = PyPDF2.PdfFileReader(file)\n",
    "    # get the first page\n",
    "    page = reader.getPage(0)\n",
    "    # extract text from page\n",
    "    print(page.extractText())\n"
   ]
  },
  {
   "cell_type": "code",
   "execution_count": 8,
   "id": "d65754ae",
   "metadata": {},
   "outputs": [
    {
     "name": "stdout",
     "output_type": "stream",
     "text": [
      "zsh:1: command not found: pip\r\n"
     ]
    }
   ],
   "source": [
    "!pip import pdfminer"
   ]
  },
  {
   "cell_type": "code",
   "execution_count": 7,
   "id": "c6c40b85",
   "metadata": {},
   "outputs": [
    {
     "ename": "ModuleNotFoundError",
     "evalue": "No module named 'pdfminer'",
     "output_type": "error",
     "traceback": [
      "\u001b[0;31m---------------------------------------------------------------------------\u001b[0m",
      "\u001b[0;31mModuleNotFoundError\u001b[0m                       Traceback (most recent call last)",
      "Cell \u001b[0;32mIn[7], line 4\u001b[0m\n\u001b[1;32m      2\u001b[0m \u001b[38;5;28;01mimport\u001b[39;00m \u001b[38;5;21;01mrequests\u001b[39;00m\n\u001b[1;32m      3\u001b[0m \u001b[38;5;28;01mfrom\u001b[39;00m \u001b[38;5;21;01mio\u001b[39;00m \u001b[38;5;28;01mimport\u001b[39;00m BytesIO\n\u001b[0;32m----> 4\u001b[0m \u001b[38;5;28;01mfrom\u001b[39;00m \u001b[38;5;21;01mpdfminer\u001b[39;00m\u001b[38;5;21;01m.\u001b[39;00m\u001b[38;5;21;01mpdfinterp\u001b[39;00m \u001b[38;5;28;01mimport\u001b[39;00m PDFResourceManager, PDFPageInterpreter\n\u001b[1;32m      5\u001b[0m \u001b[38;5;28;01mfrom\u001b[39;00m \u001b[38;5;21;01mpdfminer\u001b[39;00m\u001b[38;5;21;01m.\u001b[39;00m\u001b[38;5;21;01mconverter\u001b[39;00m \u001b[38;5;28;01mimport\u001b[39;00m TextConverter\n\u001b[1;32m      6\u001b[0m \u001b[38;5;28;01mfrom\u001b[39;00m \u001b[38;5;21;01mpdfminer\u001b[39;00m\u001b[38;5;21;01m.\u001b[39;00m\u001b[38;5;21;01mlayout\u001b[39;00m \u001b[38;5;28;01mimport\u001b[39;00m LAParams\n",
      "\u001b[0;31mModuleNotFoundError\u001b[0m: No module named 'pdfminer'"
     ]
    }
   ],
   "source": [
    "#use the requests library in Python to download the file and pass it to the pdfminer library directly:\n",
    "import requests\n",
    "from io import BytesIO\n",
    "from pdfminer.pdfinterp import PDFResourceManager, PDFPageInterpreter\n",
    "from pdfminer.converter import TextConverter\n",
    "from pdfminer.layout import LAParams\n",
    "from pdfminer.pdfpage import PDFPage\n",
    "\n",
    "def extract_text_from_pdf_url(url):\n",
    "    response = requests.get(url)\n",
    "    pdf_file = BytesIO(response.content)\n",
    "\n",
    "    resource_manager = PDFResourceManager()\n",
    "    string_io = StringIO()\n",
    "    converter = TextConverter(resource_manager, string_io, codec='utf-8', laparams=LAParams())\n",
    "    page_interpreter = PDFPageInterpreter(resource_manager, converter)\n",
    "\n",
    "    for page in PDFPage.get_pages(pdf_file, caching=True, check_extractable=True):\n",
    "        page_interpreter.process_page(page)\n",
    "\n",
    "    text = string_io.getvalue()\n",
    "\n",
    "    # close open handles\n",
    "    converter.close()\n",
    "    string_io.close()\n",
    "\n",
    "    if text:\n",
    "        return text\n",
    "\n",
    "print(extract_text_from_pdf_url(\"https://www.example.com/document.pdf\"))\n"
   ]
  },
  {
   "cell_type": "code",
   "execution_count": null,
   "id": "2ef46bab",
   "metadata": {},
   "outputs": [],
   "source": []
  }
 ],
 "metadata": {
  "kernelspec": {
   "display_name": "Python 3",
   "language": "python",
   "name": "python3"
  },
  "language_info": {
   "codemirror_mode": {
    "name": "ipython",
    "version": 3
   },
   "file_extension": ".py",
   "mimetype": "text/x-python",
   "name": "python",
   "nbconvert_exporter": "python",
   "pygments_lexer": "ipython3",
   "version": "3.10.9 (v3.10.9:1dd9be6584, Dec  6 2022, 14:37:36) [Clang 13.0.0 (clang-1300.0.29.30)]"
  },
  "vscode": {
   "interpreter": {
    "hash": "98590ff4fe04c8543246b2a01debd3de3c5ca9b666f43f1fa87d5110c692004c"
   }
  }
 },
 "nbformat": 4,
 "nbformat_minor": 5
}
