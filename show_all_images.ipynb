{
 "cells": [
  {
   "attachments": {},
   "cell_type": "markdown",
   "metadata": {},
   "source": [
    "# Show all images in a directory"
   ]
  },
  {
   "cell_type": "code",
   "execution_count": 39,
   "metadata": {},
   "outputs": [],
   "source": [
    "# generate .md file with display of all images\n",
    "import os\n",
    "\n",
    "directory = 'Images/pages'\n",
    "\n",
    "with open('all_images.md', 'w') as f:\n",
    "    for filename in os.listdir(directory):\n",
    "        name, ext = os.path.splitext(filename)\n",
    "        if ext in ['.png', '.jpg', '.jpeg', '.gif']:\n",
    "            image_path = os.path.join(directory, filename)\n",
    "            f.write('![{}]({} \"{}\")\\n▫️\\n'.format(name, image_path, name))\n"
   ]
  },
  {
   "cell_type": "code",
   "execution_count": 40,
   "metadata": {},
   "outputs": [],
   "source": [
    "# This works: creates all images; check if in order\n",
    "# Note: must add leading # for JupyterBook\n",
    "import os\n",
    "\n",
    "directory = 'Images/pages'\n",
    "\n",
    "with open('all_images.md', 'w') as f:\n",
    "    for filename in sorted(os.listdir(directory), key=lambda x: os.path.getmtime(os.path.join(directory, x))):\n",
    "        name, ext = os.path.splitext(filename)\n",
    "        if ext in ['.png', '.jpg', '.jpeg', '.gif']:\n",
    "            image_path = os.path.join(directory, filename)\n",
    "            f.write('![{}]({} \"{}\")\\n▪️▫️ \\n'.format(name, image_path, name))\n",
    "# has potential key to sort by other value than filename\n"
   ]
  }
 ],
 "metadata": {
  "kernelspec": {
   "display_name": "Python 3",
   "language": "python",
   "name": "python3"
  },
  "language_info": {
   "codemirror_mode": {
    "name": "ipython",
    "version": 3
   },
   "file_extension": ".py",
   "mimetype": "text/x-python",
   "name": "python",
   "nbconvert_exporter": "python",
   "pygments_lexer": "ipython3",
   "version": "3.10.9"
  },
  "orig_nbformat": 4,
  "vscode": {
   "interpreter": {
    "hash": "98590ff4fe04c8543246b2a01debd3de3c5ca9b666f43f1fa87d5110c692004c"
   }
  }
 },
 "nbformat": 4,
 "nbformat_minor": 2
}
